{
 "cells": [
  {
   "cell_type": "code",
   "execution_count": 1,
   "id": "f456e478",
   "metadata": {},
   "outputs": [
    {
     "name": "stdout",
     "output_type": "stream",
     "text": [
      "Hello World\n"
     ]
    }
   ],
   "source": [
    "print(\"Hello World\")"
   ]
  },
  {
   "cell_type": "markdown",
   "id": "f15c3dd6",
   "metadata": {},
   "source": [
    "# Markdown Text in Jupyter Notebooks\n",
    "A Markdown cell in a Jupyter Notebook cell can contain any text that's formatted with Markdown. Markdown is a relative simple language for marking up test with headings, lists, pictures videos, and more. Below is a video from YouTube that plays in this Notebook.\n",
    "[![Free Video](https://img.youtube.com/vi/ZcH0fUn2AtM/0.jpg)]\n",
    "(https://youtu.be/ZcH0fUn2AtM \"Free Video\")"
   ]
  },
  {
   "cell_type": "code",
   "execution_count": 1,
   "id": "b65e3e8d",
   "metadata": {},
   "outputs": [
    {
     "name": "stdout",
     "output_type": "stream",
     "text": [
      "-4\n",
      "4\n"
     ]
    }
   ],
   "source": [
    "x = -4\n",
    "y = abs(x)\n",
    "print(x)\n",
    "print(y)"
   ]
  },
  {
   "cell_type": "code",
   "execution_count": 3,
   "id": "06b2ba9d",
   "metadata": {},
   "outputs": [
    {
     "name": "stdout",
     "output_type": "stream",
     "text": [
      "1.2345678909876543\n",
      "1.23\n"
     ]
    }
   ],
   "source": [
    "x = 1.23456789098765432100000000000000000000000001\n",
    "y = round(x,2)\n",
    "print(x)\n",
    "print(y)"
   ]
  },
  {
   "cell_type": "code",
   "execution_count": 4,
   "id": "969e741d",
   "metadata": {},
   "outputs": [
    {
     "name": "stdout",
     "output_type": "stream",
     "text": [
      "999.9999\n",
      "-999\n",
      "999\n",
      "3.1416\n",
      "0b10000000\n",
      "0x80\n",
      "0o200\n",
      "128\n",
      "-999.9999\n",
      "<class 'float'>\n",
      "<class 'int'>\n",
      "<class 'str'>\n"
     ]
    }
   ],
   "source": [
    "pi = 3.14159265358979\n",
    "x = 128\n",
    "y = -345.67890987\n",
    "z = -999.9999\n",
    "print(abs(z))\n",
    "print(int(z))\n",
    "print(int(abs(z)))\n",
    "print(round(pi,4))\n",
    "print(bin(x))\n",
    "print(hex(x))\n",
    "print(oct(x))\n",
    "print(max(pi,x,y,z))\n",
    "print(min(pi,x,y,z))\n",
    "print(type(pi))\n",
    "print(type(x))\n",
    "print(type(str(y)))"
   ]
  },
  {
   "cell_type": "code",
   "execution_count": 8,
   "id": "185af9ac",
   "metadata": {},
   "outputs": [
    {
     "name": "stdout",
     "output_type": "stream",
     "text": [
      "9.0\n"
     ]
    }
   ],
   "source": [
    "import math\n",
    "z = 81\n",
    "print(math.sqrt(81))"
   ]
  },
  {
   "cell_type": "code",
   "execution_count": 10,
   "id": "14aaa7b3",
   "metadata": {},
   "outputs": [
    {
     "name": "stdout",
     "output_type": "stream",
     "text": [
      "3.141592653589793\n",
      "2.718281828459045\n",
      "6.283185307179586\n",
      "9.0\n",
      "5040\n",
      "-23235\n",
      "401.07045659157626\n",
      "0.7853981633974483\n"
     ]
    }
   ],
   "source": [
    "import math\n",
    "pi = math.pi\n",
    "e = math.e\n",
    "tau = math.tau\n",
    "x = 81\n",
    "y = 7\n",
    "z = -23234.5454\n",
    "print(pi)\n",
    "print(e)\n",
    "print(tau)\n",
    "print(math.sqrt(x))\n",
    "print(math.factorial(y))\n",
    "print(math.floor(z))\n",
    "print(math.degrees(y))\n",
    "print(math.radians(45))"
   ]
  },
  {
   "cell_type": "markdown",
   "id": "2dfe9b23",
   "metadata": {},
   "source": [
    "# Formatting with f-Strings"
   ]
  },
  {
   "cell_type": "markdown",
   "id": "e32fc886",
   "metadata": {},
   "source": [
    "f\"Hello {username}\""
   ]
  },
  {
   "cell_type": "code",
   "execution_count": 14,
   "id": "bcde996f",
   "metadata": {},
   "outputs": [
    {
     "name": "stdout",
     "output_type": "stream",
     "text": [
      "Hello Alan\n"
     ]
    }
   ],
   "source": [
    "username = \"Alan\"\n",
    "print(f\"Hello {username}\")"
   ]
  },
  {
   "cell_type": "code",
   "execution_count": 16,
   "id": "80980028",
   "metadata": {},
   "outputs": [
    {
     "name": "stdout",
     "output_type": "stream",
     "text": [
      "Subtotal: $1499.7\n"
     ]
    }
   ],
   "source": [
    "unit_price = 49.99\n",
    "quantity = 30\n",
    "print(f\"Subtotal: ${quantity * unit_price}\")"
   ]
  },
  {
   "cell_type": "markdown",
   "id": "be0782b2",
   "metadata": {},
   "source": [
    "# Showing dollar amounts"
   ]
  },
  {
   "cell_type": "markdown",
   "id": "6c65260b",
   "metadata": {},
   "source": [
    "Use commas to separate thousands from pennies"
   ]
  },
  {
   "cell_type": "markdown",
   "id": "6703a3fa",
   "metadata": {},
   "source": [
    "Subtotal: $1,499.70"
   ]
  },
  {
   "cell_type": "markdown",
   "id": "891d900b",
   "metadata": {},
   "source": [
    ":,"
   ]
  },
  {
   "cell_type": "code",
   "execution_count": 17,
   "id": "269fdae5",
   "metadata": {},
   "outputs": [
    {
     "name": "stdout",
     "output_type": "stream",
     "text": [
      "Subtotal: $1,499.7\n"
     ]
    }
   ],
   "source": [
    "print(f\"Subtotal: ${quantity * unit_price:,}\")"
   ]
  },
  {
   "cell_type": "markdown",
   "id": "ddce65b0",
   "metadata": {},
   "source": [
    "For 2 digit pennies use this .2f"
   ]
  },
  {
   "cell_type": "code",
   "execution_count": 19,
   "id": "ca45668e",
   "metadata": {},
   "outputs": [
    {
     "name": "stdout",
     "output_type": "stream",
     "text": [
      "Subtotal: $1,499.70\n"
     ]
    }
   ],
   "source": [
    "print(f\"Subtotal: ${quantity * unit_price:,.2f}\")"
   ]
  },
  {
   "cell_type": "markdown",
   "id": "0a6172fc",
   "metadata": {},
   "source": [
    "# Formatting percent numbers"
   ]
  },
  {
   "cell_type": "markdown",
   "id": "a41312dc",
   "metadata": {},
   "source": [
    "sales_tax_rate = 0.065"
   ]
  },
  {
   "cell_type": "code",
   "execution_count": 22,
   "id": "a4860531",
   "metadata": {},
   "outputs": [
    {
     "name": "stdout",
     "output_type": "stream",
     "text": [
      "Sales Tax Rate 0.065\n"
     ]
    }
   ],
   "source": [
    "sales_tax_rate = 0.065\n",
    "print(f\"Sales Tax Rate {sales_tax_rate}\")"
   ]
  },
  {
   "cell_type": "markdown",
   "id": "e32f59f2",
   "metadata": {},
   "source": [
    "Use .2% toshow percentage in 2 decimal places"
   ]
  },
  {
   "cell_type": "code",
   "execution_count": 24,
   "id": "28533fc0",
   "metadata": {},
   "outputs": [
    {
     "name": "stdout",
     "output_type": "stream",
     "text": [
      "Sales Tax Rate 6.50%\n"
     ]
    }
   ],
   "source": [
    "print(f\"Sales Tax Rate {sales_tax_rate:.2%}\")"
   ]
  },
  {
   "cell_type": "markdown",
   "id": "a3605c43",
   "metadata": {},
   "source": [
    "Using .1% to show number of digits"
   ]
  },
  {
   "cell_type": "code",
   "execution_count": 25,
   "id": "8cdb8bdb",
   "metadata": {},
   "outputs": [
    {
     "name": "stdout",
     "output_type": "stream",
     "text": [
      "Sale Tax Rate 6.5%\n"
     ]
    }
   ],
   "source": [
    "print(f\"Sale Tax Rate {sales_tax_rate:.1%}\")"
   ]
  },
  {
   "cell_type": "code",
   "execution_count": 26,
   "id": "79257ecd",
   "metadata": {},
   "outputs": [
    {
     "name": "stdout",
     "output_type": "stream",
     "text": [
      "Sales Tax Rate 6.50%\n",
      "Sales Tax Rate 6.50%\n",
      "Sales Tax Rate 6.50%\n",
      "Sales Tax Rate 6.50%\n"
     ]
    }
   ],
   "source": [
    "sales_tax_rate = 0.065\n",
    "sample1 = f'Sales Tax Rate {sales_tax_rate:.2%}'\n",
    "sample2 = f\"Sales Tax Rate {sales_tax_rate:.2%}\"\n",
    "sample3 = f\"\"\"Sales Tax Rate {sales_tax_rate:.2%}\"\"\"\n",
    "sample4 = f'''Sales Tax Rate {sales_tax_rate:.2%}''' \n",
    "\n",
    "print(sample1)\n",
    "print(sample2)\n",
    "print(sample3)\n",
    "print(sample4)"
   ]
  },
  {
   "cell_type": "markdown",
   "id": "9b6efef7",
   "metadata": {},
   "source": [
    "# Making multiline format strings"
   ]
  },
  {
   "cell_type": "code",
   "execution_count": 27,
   "id": "04436914",
   "metadata": {},
   "outputs": [
    {
     "name": "stdout",
     "output_type": "stream",
     "text": [
      "Alberto \n",
      "Babs \n",
      "Carlos\n"
     ]
    }
   ],
   "source": [
    "user1 = \"Alberto\"\n",
    "user2 = \"Babs\"\n",
    "user3 = \"Carlos\"\n",
    "output = f\"{user1} \\n{user2} \\n{user3}\"\n",
    "print(output)"
   ]
  },
  {
   "cell_type": "code",
   "execution_count": 28,
   "id": "80b76989",
   "metadata": {},
   "outputs": [
    {
     "name": "stdout",
     "output_type": "stream",
     "text": [
      "\n",
      "Subtotal:  $1,598.40\n",
      "Sales Tax: $103.90\n",
      "Total:     $1,702.30\n",
      "\n"
     ]
    }
   ],
   "source": [
    "unit_price = 49.95\n",
    "quantity = 32\n",
    "sales_tax_rate = 0.065\n",
    "subtotal = quantity * unit_price\n",
    "sales_tax = sales_tax_rate * subtotal\n",
    "total = subtotal + sales_tax\n",
    "output=f\"\"\"\n",
    "Subtotal:  ${subtotal:,.2f}\n",
    "Sales Tax: ${sales_tax:,.2f}\n",
    "Total:     ${total:,.2f}\n",
    "\"\"\"\n",
    "print(output)"
   ]
  },
  {
   "cell_type": "markdown",
   "id": "2134552f",
   "metadata": {},
   "source": [
    "# Formatting width and alignment"
   ]
  },
  {
   "cell_type": "markdown",
   "id": "394fc9a9",
   "metadata": {},
   "source": [
    "Use f-strings with < for left-align, ^ for center-align and > for right-align"
   ]
  },
  {
   "cell_type": "markdown",
   "id": "dde43faa",
   "metadata": {},
   "source": [
    "E.g :<20, :^20 and :>20"
   ]
  },
  {
   "cell_type": "markdown",
   "id": "a63c04c9",
   "metadata": {},
   "source": [
    "This means make this output 20 characters wide with content right, center or left-aligned "
   ]
  },
  {
   "cell_type": "code",
   "execution_count": 32,
   "id": "30a53a9d",
   "metadata": {},
   "outputs": [
    {
     "name": "stdout",
     "output_type": "stream",
     "text": [
      "\n",
      "Subtotal:  $ 1,598.40\n",
      "Sales Tax: $   103.90\n",
      "Total:     $ 1,702.30\n",
      "\n"
     ]
    }
   ],
   "source": [
    "unit_price = 49.95\n",
    "quantity = 32\n",
    "sales_tax_rate = 0.065\n",
    "subtotal = quantity * unit_price\n",
    "sales_tax = sales_tax_rate * subtotal\n",
    "total = subtotal + sales_tax\n",
    "output = f\"\"\"\n",
    "Subtotal:  ${subtotal:>9,.2f}\n",
    "Sales Tax: ${sales_tax:>9,.2f}\n",
    "Total:     ${total:>9,.2f}\n",
    "\"\"\"\n",
    "print(output)"
   ]
  },
  {
   "cell_type": "markdown",
   "id": "2b6a6169",
   "metadata": {},
   "source": [
    "s_subtotal = \"$\" + f\"{subtotal:,.2f}\""
   ]
  },
  {
   "cell_type": "markdown",
   "id": "b16a63d4",
   "metadata": {},
   "source": [
    "Subtotal: {s_subtotal:>9}"
   ]
  },
  {
   "cell_type": "markdown",
   "id": "e8d235f1",
   "metadata": {},
   "source": [
    "Use + to concatenate strings"
   ]
  },
  {
   "cell_type": "code",
   "execution_count": 34,
   "id": "eb9a1117",
   "metadata": {},
   "outputs": [
    {
     "name": "stdout",
     "output_type": "stream",
     "text": [
      "\n",
      "Subtotal:  $1,598.40\n",
      "Sales Tax:   $103.90\n",
      "Subtotal:  $1,702.30\n",
      "\n"
     ]
    }
   ],
   "source": [
    "# Numerical values\n",
    "unit_price = 49.95\n",
    "quantity = 32\n",
    "sales_tax_rate = 0.065\n",
    "subtotal = quantity * unit_price\n",
    "sale_tax = sales_tax_rate * subtotal\n",
    "total = subtotal + sales_tax\n",
    "\n",
    "#Format amounts to show as string with leading dollar sign\n",
    "s_subtotal = \"$\" + f\"{subtotal:,.2f}\"\n",
    "s_sales_tax = \"$\" + f\"{sales_tax:,.2f}\"\n",
    "s_total = \"$\" + f\"{total:,.2f}\"\n",
    "\n",
    "# Output the string with dollar sign already attached\n",
    "output = f\"\"\"\n",
    "Subtotal:  {s_subtotal:>9}\n",
    "Sales Tax: {s_sales_tax:>9}\n",
    "Subtotal:  {s_total:>9}\n",
    "\"\"\"\n",
    "print(output)"
   ]
  },
  {
   "cell_type": "markdown",
   "id": "f416a71d",
   "metadata": {},
   "source": [
    "# Grappling with Weirder Numbers\n",
    "## Binary, octal, and hexadecimal numbers"
   ]
  },
  {
   "cell_type": "markdown",
   "id": "22843e3b",
   "metadata": {},
   "source": [
    "Dealing with base 2 = Binary, base 8 = Octal and base 16 = Hexadecimal numbers"
   ]
  },
  {
   "cell_type": "code",
   "execution_count": 35,
   "id": "439c919e",
   "metadata": {},
   "outputs": [
    {
     "name": "stdout",
     "output_type": "stream",
     "text": [
      "0xff\n"
     ]
    }
   ],
   "source": [
    "print(hex(255))"
   ]
  },
  {
   "cell_type": "code",
   "execution_count": 36,
   "id": "5da1bdcb",
   "metadata": {},
   "outputs": [
    {
     "name": "stdout",
     "output_type": "stream",
     "text": [
      "0b11111111\n",
      "0o377\n",
      "0xff\n",
      "255\n",
      "255\n",
      "255\n"
     ]
    }
   ],
   "source": [
    "x = 255\n",
    "# Convert decimal to other number systems\n",
    "print(bin(x))\n",
    "print(oct(x))\n",
    "print(hex(x))\n",
    "\n",
    "# Show number in decimal number system (no conversion required)\n",
    "print(0b11111111)\n",
    "print(0o377)\n",
    "print(0xff)"
   ]
  },
  {
   "cell_type": "markdown",
   "id": "05f4137b",
   "metadata": {},
   "source": [
    "# Complex numbers"
   ]
  },
  {
   "cell_type": "markdown",
   "id": "3772755c",
   "metadata": {},
   "source": [
    "complex(real, imaginary)"
   ]
  },
  {
   "cell_type": "code",
   "execution_count": 37,
   "id": "edc75bf5",
   "metadata": {},
   "outputs": [
    {
     "name": "stdout",
     "output_type": "stream",
     "text": [
      "(2-3j)\n"
     ]
    }
   ],
   "source": [
    "z = complex(2, -3)\n",
    "print(z)"
   ]
  },
  {
   "cell_type": "code",
   "execution_count": 38,
   "id": "02658596",
   "metadata": {},
   "outputs": [
    {
     "name": "stdout",
     "output_type": "stream",
     "text": [
      "2.0\n"
     ]
    }
   ],
   "source": [
    "print(z.real)"
   ]
  },
  {
   "cell_type": "code",
   "execution_count": 39,
   "id": "04352d3b",
   "metadata": {},
   "outputs": [
    {
     "name": "stdout",
     "output_type": "stream",
     "text": [
      "-3.0\n"
     ]
    }
   ],
   "source": [
    "print(z.imag)"
   ]
  },
  {
   "cell_type": "markdown",
   "id": "ab595e25",
   "metadata": {},
   "source": [
    "# Manipulating Strings"
   ]
  },
  {
   "cell_type": "markdown",
   "id": "6cd12245",
   "metadata": {},
   "source": [
    "## Concatenating strings"
   ]
  },
  {
   "cell_type": "markdown",
   "id": "830b7857",
   "metadata": {},
   "source": [
    "Using + to concatinate strings"
   ]
  },
  {
   "cell_type": "code",
   "execution_count": 40,
   "id": "b79e578f",
   "metadata": {},
   "outputs": [
    {
     "name": "stdout",
     "output_type": "stream",
     "text": [
      "AlanCSimpson\n"
     ]
    }
   ],
   "source": [
    "first_name = \"Alan\"\n",
    "middle_name = \"C\"\n",
    "last_name = \"Simpson\"\n",
    "full_name = first_name+middle_name+last_name\n",
    "print(full_name)"
   ]
  },
  {
   "cell_type": "markdown",
   "id": "6fbb52eb",
   "metadata": {},
   "source": [
    "Use \"\" to separate the strings"
   ]
  },
  {
   "cell_type": "code",
   "execution_count": 42,
   "id": "9d213303",
   "metadata": {},
   "outputs": [
    {
     "name": "stdout",
     "output_type": "stream",
     "text": [
      "Alan C. Simpson\n"
     ]
    }
   ],
   "source": [
    "first_name = \"Alan\"\n",
    "middle_name = \"C\"\n",
    "last_name = \"Simpson\"\n",
    "full_name = first_name + \" \" + middle_name + \". \" + last_name\n",
    "print(full_name)"
   ]
  },
  {
   "cell_type": "markdown",
   "id": "cd9d54ce",
   "metadata": {},
   "source": [
    "# Getting the lenght of a string"
   ]
  },
  {
   "cell_type": "markdown",
   "id": "41d02103",
   "metadata": {},
   "source": [
    "Use a built-in tool or function len() to determine a lenght of a string."
   ]
  },
  {
   "cell_type": "code",
   "execution_count": 45,
   "id": "899e1f9b",
   "metadata": {},
   "outputs": [
    {
     "name": "stdout",
     "output_type": "stream",
     "text": [
      "0\n",
      "1\n",
      "5\n"
     ]
    }
   ],
   "source": [
    "s1 = \"\"\n",
    "s2 = \" \"\n",
    "s3 = \"A B C\"\n",
    "\n",
    "print(len(s1))\n",
    "print(len(s2))\n",
    "print(len(s3))"
   ]
  },
  {
   "cell_type": "markdown",
   "id": "47fd1a8a",
   "metadata": {},
   "source": [
    "# Working with common string operators"
   ]
  },
  {
   "cell_type": "markdown",
   "id": "309dc096",
   "metadata": {},
   "source": [
    "Playing around with string operators in Jupyter Notebook"
   ]
  },
  {
   "cell_type": "code",
   "execution_count": 46,
   "id": "dade9df7",
   "metadata": {},
   "outputs": [
    {
     "name": "stdout",
     "output_type": "stream",
     "text": [
      "True\n",
      "False\n",
      "True\n",
      "---------------\n",
      "A\n",
      "turtle\n",
      "AadrHuPuy' tt v\n",
      " \n",
      "y\n",
      "18\n",
      "25\n",
      "3\n"
     ]
    }
   ],
   "source": [
    "s = \"Abracadabra Hocus Pocus you're a turtle dove\"\n",
    "# Is there a lowercase letter t is contained in S?\n",
    "print(\"t\" in s)\n",
    "# Is there an uppercase letter t is contained in S?\n",
    "print(\"T\" in s)\n",
    "# Is there no uppercase T in s?S\n",
    "print(\"T\" not in s)\n",
    "# Print 15 hyphens in a row\n",
    "print(\"-\" * 15)\n",
    "# Print first character in string X\n",
    "print(s[0])\n",
    "# Print characters 33 - 39 from string x\n",
    "print(s[33:39])\n",
    "# Print every third character in s starting at zero\n",
    "print(s[0:44:3])\n",
    "# Print lowest character is s (a space is lower than the letter a)\n",
    "print(min(s))\n",
    "# Print the highest character is s\n",
    "print(max(s))\n",
    "# Where is the Uppercase P?\n",
    "print(s.index(\"P\"))\n",
    "# Where is the first lowercase 0 in the latter half of string s\n",
    "# Note that the returned value still starts counting form zero\n",
    "print(s.index(\"o\",22,44))\n",
    "# How many lowercase letters a are in string s?\n",
    "print(s.index(\"a\"))"
   ]
  },
  {
   "cell_type": "markdown",
   "id": "317fcdb1",
   "metadata": {},
   "source": [
    "Python offers two functions for working with ASCII. The ord() function takes a character\n",
    "as input and returns the ASCII number of that character. The chr() does the opposite. You \n",
    "give it a number it returns the ASCII character for that number."
   ]
  },
  {
   "cell_type": "code",
   "execution_count": 47,
   "id": "4cbf2f2d",
   "metadata": {},
   "outputs": [
    {
     "name": "stdout",
     "output_type": "stream",
     "text": [
      "65\n"
     ]
    }
   ],
   "source": [
    "print(ord(\"A\"))"
   ]
  },
  {
   "cell_type": "code",
   "execution_count": 48,
   "id": "3cc7f0c8",
   "metadata": {},
   "outputs": [
    {
     "name": "stdout",
     "output_type": "stream",
     "text": [
      "A\n"
     ]
    }
   ],
   "source": [
    "print(chr(65))"
   ]
  },
  {
   "cell_type": "markdown",
   "id": "54dc97e3",
   "metadata": {},
   "source": [
    "# Manipulating strings with methods"
   ]
  },
  {
   "cell_type": "markdown",
   "id": "78bf8050",
   "metadata": {},
   "source": [
    "string.methodname(params)"
   ]
  },
  {
   "cell_type": "markdown",
   "id": "a1c80cba",
   "metadata": {},
   "source": [
    "Playing around with Python 3 string functions"
   ]
  },
  {
   "cell_type": "code",
   "execution_count": 58,
   "id": "38068389",
   "metadata": {},
   "outputs": [
    {
     "name": "stdout",
     "output_type": "stream",
     "text": [
      "Abc\n",
      "6\n",
      "3\n",
      "True\n",
      "abc\n",
      "a b c  \n",
      "a b c\n",
      "tHERE IS NO SUCH WORD AS SCHEEDLEDORP\n",
      "There Is No Such Word As Scheedledorp\n",
      "THERE IS NO SUCH WORD AS SCHEEDLEDORP\n"
     ]
    }
   ],
   "source": [
    "s1 = \"There is no such word as scheedledorp\"\n",
    "s2=\"  a b c  \"\n",
    "s3=\"ABC\"\n",
    "s4=\"abc.\"\n",
    "# Capitalize first letter, the rest lowercase\n",
    "print(s3.capitalize())\n",
    "# Count the number of spaces in s1\n",
    "print(s1.count(\" \"))\n",
    "#Find the dot in S4\n",
    "print(s4.find(\".\"))\n",
    "#Is s2 all lowercase letters?\n",
    "print(s2.islower())\n",
    "#Convert s3 to all lowercase\n",
    "print(s3.lower())\n",
    "# String leading characters from s2\n",
    "print(s2.lstrip())\n",
    "# string leading and trailing characters from s2\n",
    "print(s2.strip())\n",
    "# Swap the case of letters in s1\n",
    "print(s1.swapcase())\n",
    "# Show s1 in title case (initial caps)\n",
    "print(s1.title())\n",
    "# Show s1 uppercase\n",
    "print(s1.upper())\n"
   ]
  },
  {
   "cell_type": "markdown",
   "id": "9550162c",
   "metadata": {},
   "source": [
    "# Uncovering Dates and Times"
   ]
  },
  {
   "cell_type": "markdown",
   "id": "ad0cbff5",
   "metadata": {},
   "source": [
    "Use the datetime module import datetime"
   ]
  },
  {
   "cell_type": "markdown",
   "id": "9f6ed1af",
   "metadata": {},
   "source": [
    "Add alias (nickname) that's easier to type. E.g import datetime as dt"
   ]
  },
  {
   "cell_type": "markdown",
   "id": "b90f68dc",
   "metadata": {},
   "source": [
    "*datetime.date no time information\n",
    "*datetime.time but no date\n",
    "*datetime.datetime date and time"
   ]
  },
  {
   "cell_type": "markdown",
   "id": "1383d1c4",
   "metadata": {},
   "source": [
    "## Working with dates"
   ]
  },
  {
   "cell_type": "markdown",
   "id": "87e37828",
   "metadata": {},
   "source": [
    "#### Import the datetime module, nickname dt\n",
    "import datetime as dt\n",
    "#### Store today's date in a variable named today.\n",
    "today = dt.date.today()\n",
    "#### Store some other date in a variable called last_of_teens\n",
    "last_of_teens = dt.date(2019,12,31)\n"
   ]
  },
  {
   "cell_type": "code",
   "execution_count": 62,
   "id": "f246a0c2",
   "metadata": {},
   "outputs": [
    {
     "name": "stdout",
     "output_type": "stream",
     "text": [
      "2023-02-04\n",
      "2019-12-31\n",
      "12\n",
      "31\n",
      "2019\n"
     ]
    }
   ],
   "source": [
    "# Import the datetime module give it an alias of dt\n",
    "import datetime as dt\n",
    "# Put today's date in today variable.\n",
    "today = dt.date.today()\n",
    "# Put another date in last_of_teens\n",
    "last_of_teens = dt.date(2019,12,31)\n",
    "\n",
    "# See what's in each variable.\n",
    "print(today)\n",
    "print(last_of_teens)\n",
    "\n",
    "# Execute this code in the same cell\n",
    "print(last_of_teens.month)\n",
    "print(last_of_teens.day)\n",
    "print(last_of_teens.year)"
   ]
  },
  {
   "cell_type": "markdown",
   "id": "349d9a78",
   "metadata": {},
   "source": [
    "### Using format string"
   ]
  },
  {
   "cell_type": "code",
   "execution_count": 67,
   "id": "4e845a40",
   "metadata": {},
   "outputs": [
    {
     "name": "stdout",
     "output_type": "stream",
     "text": [
      "Tuesday, December 31, 2019\n"
     ]
    }
   ],
   "source": [
    "print(f\"{last_of_teens:%A, %B %d, %Y}\")"
   ]
  },
  {
   "cell_type": "markdown",
   "id": "b0a1c29c",
   "metadata": {},
   "source": [
    "### Show date in the mm/dd/yyyy format"
   ]
  },
  {
   "cell_type": "code",
   "execution_count": 70,
   "id": "937d8be9",
   "metadata": {},
   "outputs": [
    {
     "name": "stdout",
     "output_type": "stream",
     "text": [
      "02/04/2023\n"
     ]
    }
   ],
   "source": [
    "todays_date = f\"{today:%m/%d/%Y}\"\n",
    "print(todays_date)"
   ]
  },
  {
   "cell_type": "markdown",
   "id": "71dc8af9",
   "metadata": {},
   "source": [
    "# Working with times"
   ]
  },
  {
   "cell_type": "markdown",
   "id": "0d5715fc",
   "metadata": {},
   "source": [
    "Basic syntax for time class"
   ]
  },
  {
   "cell_type": "markdown",
   "id": "f86b08bb",
   "metadata": {},
   "source": [
    "variable = datetime.time([hour, [minute,[microsecond]]])"
   ]
  },
  {
   "cell_type": "code",
   "execution_count": 73,
   "id": "910c1b6e",
   "metadata": {},
   "outputs": [
    {
     "name": "stdout",
     "output_type": "stream",
     "text": [
      "00:00:00\n"
     ]
    }
   ],
   "source": [
    "midnight = dt.time()\n",
    "print(midnight)"
   ]
  },
  {
   "cell_type": "code",
   "execution_count": 74,
   "id": "8936453f",
   "metadata": {},
   "outputs": [
    {
     "name": "stdout",
     "output_type": "stream",
     "text": [
      "<class 'datetime.time'>\n"
     ]
    }
   ],
   "source": [
    "print(type(midnight))"
   ]
  },
  {
   "cell_type": "code",
   "execution_count": 75,
   "id": "000bb386",
   "metadata": {},
   "outputs": [
    {
     "name": "stdout",
     "output_type": "stream",
     "text": [
      "23:59:59.999999\n"
     ]
    }
   ],
   "source": [
    "almost_midnight = dt.time(23,59,59,999999)\n",
    "print(almost_midnight)"
   ]
  },
  {
   "cell_type": "code",
   "execution_count": 76,
   "id": "0e321704",
   "metadata": {},
   "outputs": [
    {
     "name": "stdout",
     "output_type": "stream",
     "text": [
      "2023-02-04 11:28:04.053234\n"
     ]
    }
   ],
   "source": [
    "import datetime as dt\n",
    "right_now = dt.datetime.now()\n",
    "print(right_now)"
   ]
  },
  {
   "cell_type": "markdown",
   "id": "e2739a5e",
   "metadata": {},
   "source": [
    "datetime(year, month, day, hour, [minute, [second, [microsecond]]])"
   ]
  },
  {
   "cell_type": "code",
   "execution_count": 78,
   "id": "29fbaeb1",
   "metadata": {},
   "outputs": [
    {
     "name": "stdout",
     "output_type": "stream",
     "text": [
      "2019-12-31 23:59:00\n"
     ]
    }
   ],
   "source": [
    "import datetime as dt\n",
    "new_years_eve = dt.datetime(2019,12,31,23,59)\n",
    "print(new_years_eve)"
   ]
  },
  {
   "cell_type": "markdown",
   "id": "bd149035",
   "metadata": {},
   "source": [
    "### Calculating timespans"
   ]
  },
  {
   "cell_type": "code",
   "execution_count": 79,
   "id": "896c7f63",
   "metadata": {},
   "outputs": [],
   "source": [
    "import datetime as dt\n",
    "new_years_day = dt.date(2019,1,1)\n",
    "memorial_day = dt.date(2019,5,27)\n",
    "days_between = memorial_day - new_years_day"
   ]
  },
  {
   "cell_type": "markdown",
   "id": "ee0b2416",
   "metadata": {},
   "source": [
    "146 days, 0:00:00\n",
    "<class 'datetime.timedelta'>"
   ]
  },
  {
   "cell_type": "markdown",
   "id": "c509c114",
   "metadata": {},
   "source": [
    "datetime.timedelta(days=, seconds=, microseconds=, milliseconds=, minutes;\n",
    "hours=, week=)"
   ]
  },
  {
   "cell_type": "code",
   "execution_count": 81,
   "id": "98eb6c55",
   "metadata": {},
   "outputs": [
    {
     "name": "stdout",
     "output_type": "stream",
     "text": [
      "2019-05-27\n"
     ]
    }
   ],
   "source": [
    "import datetime as dt\n",
    "new_year_day = dt.date(2019,1,1)\n",
    "duration = dt.timedelta(days=146)\n",
    "print(new_years_day + duration)"
   ]
  },
  {
   "cell_type": "code",
   "execution_count": 82,
   "id": "ee72a9b1",
   "metadata": {},
   "outputs": [
    {
     "name": "stdout",
     "output_type": "stream",
     "text": [
      "2019-01-01\n"
     ]
    }
   ],
   "source": [
    "import datetime as dt\n",
    "memorial_day = dt.date(2019,5,27)\n",
    "duration = dt.timedelta(days=146)\n",
    "print(memorial_day - duration)"
   ]
  },
  {
   "cell_type": "code",
   "execution_count": 83,
   "id": "15224567",
   "metadata": {},
   "outputs": [
    {
     "name": "stdout",
     "output_type": "stream",
     "text": [
      "6:34:45\n",
      "<class 'datetime.timedelta'>\n"
     ]
    }
   ],
   "source": [
    "import datetime as dt\n",
    "start_time = dt.datetime(2019, 3, 31, 8, 0, 0)\n",
    "finish_time = dt.datetime(2019, 3, 31, 14, 34, 45)\n",
    "time_between = finish_time - start_time\n",
    "print(time_between)\n",
    "print(type(time_between))"
   ]
  },
  {
   "cell_type": "code",
   "execution_count": 88,
   "id": "b0814e3f",
   "metadata": {},
   "outputs": [
    {
     "name": "stdout",
     "output_type": "stream",
     "text": [
      "10172 days, 3:54:23.794544\n",
      "<class 'datetime.timedelta'>\n"
     ]
    }
   ],
   "source": [
    "import datetime as dt\n",
    "now = dt.datetime.now()\n",
    "birthdatetime = dt.datetime(1995, 3, 31, 8, 26)\n",
    "age = now - birthdatetime\n",
    "print(age)\n",
    "print(type(age))"
   ]
  },
  {
   "cell_type": "code",
   "execution_count": 89,
   "id": "c334f527",
   "metadata": {},
   "outputs": [
    {
     "name": "stdout",
     "output_type": "stream",
     "text": [
      "8070 days, 0:00:00\n"
     ]
    }
   ],
   "source": [
    "import datetime as dt\n",
    "today = dt.date.today()\n",
    "birthdate = dt.date(2000, 12, 31)\n",
    "delta_age = (today - birthdate)\n",
    "print(delta_age)"
   ]
  },
  {
   "cell_type": "code",
   "execution_count": 90,
   "id": "36cd0edb",
   "metadata": {},
   "outputs": [
    {
     "name": "stdout",
     "output_type": "stream",
     "text": [
      "8070 <class 'int'>\n"
     ]
    }
   ],
   "source": [
    "delta_age = (today - birthdate)\n",
    "days_old = delta_age.days\n",
    "print(days_old, type(days_old))"
   ]
  },
  {
   "cell_type": "markdown",
   "id": "ef0347b9",
   "metadata": {},
   "source": [
    "Use the floor division operator (//) rather than the  regular division (/)"
   ]
  },
  {
   "cell_type": "code",
   "execution_count": 91,
   "id": "10ab9f04",
   "metadata": {},
   "outputs": [
    {
     "name": "stdout",
     "output_type": "stream",
     "text": [
      "22\n"
     ]
    }
   ],
   "source": [
    "years_old = days_old // 365\n",
    "print(years_old)"
   ]
  },
  {
   "cell_type": "code",
   "execution_count": 93,
   "id": "4ae467d0",
   "metadata": {},
   "outputs": [
    {
     "name": "stdout",
     "output_type": "stream",
     "text": [
      "You are 34 years and 11 months old\n"
     ]
    }
   ],
   "source": [
    "import datetime as dt\n",
    "# Today's date according to your computer\n",
    "today = dt.date.today()\n",
    "\n",
    "# Any birthdate expressed as year, month, day\n",
    "birthdate = dt.date(1988, 3, 12)\n",
    "\n",
    "# Duration between the dates as a timedelta\n",
    "delta_age = (today - birthdate)\n",
    "\n",
    "# Duration between the dates as a number (of days)\n",
    "days_old = delta_age.days\n",
    "\n",
    "# Floor divide days by 365 to  get the number of years\n",
    "years = days_old // 365\n",
    "\n",
    "# Days left over is remainder of days_lod divided by 365.\n",
    "# Floor divide that remainder by 30 for approximate months\n",
    "months = (days_old % 365) // 30\n",
    "\n",
    "# Print in a format to your liking\n",
    "print(f\"You are {years} years and {months} months old\")"
   ]
  },
  {
   "cell_type": "markdown",
   "id": "047fc590",
   "metadata": {},
   "source": [
    "# Accounting for Time Zones"
   ]
  },
  {
   "cell_type": "markdown",
   "id": "f38336b2",
   "metadata": {},
   "source": [
    "Using .now() and .utc_not()"
   ]
  },
  {
   "cell_type": "code",
   "execution_count": 95,
   "id": "e91428c9",
   "metadata": {},
   "outputs": [
    {
     "name": "stdout",
     "output_type": "stream",
     "text": [
      "My time   : 02:39 PM\n",
      "UTC time  : 12:39 PM\n",
      "Difference: -1 day, 22:00:00\n"
     ]
    }
   ],
   "source": [
    "# Get the datetime module and give it an alias\n",
    "import datetime as dt\n",
    "\n",
    "# Get the time from computer\n",
    "here_now = dt.datetime.now()\n",
    "\n",
    "# Get the time datetime right now\n",
    "utc_now = dt.datetime.utcnow()\n",
    "\n",
    "# Subtract to see difference \n",
    "time_difference = (utc_now - here_now)\n",
    "\n",
    "# Show results\n",
    "print(f\"My time   : {here_now:%I:%M %p}\")\n",
    "print(f\"UTC time  : {utc_now:%I:%M %p}\")\n",
    "print(f\"Difference: {time_difference}\")\n"
   ]
  },
  {
   "cell_type": "markdown",
   "id": "cf95b3cd",
   "metadata": {},
   "source": [
    "Use dateutils and gettz (get timezome)"
   ]
  },
  {
   "cell_type": "code",
   "execution_count": 96,
   "id": "74a90187",
   "metadata": {},
   "outputs": [],
   "source": [
    "# import datetime and dateutil tz\n",
    "import datetime as dt\n",
    "from dateutil.tz import gettz"
   ]
  },
  {
   "cell_type": "code",
   "execution_count": 97,
   "id": "db0505e1",
   "metadata": {},
   "outputs": [],
   "source": [
    "event = dt.datetime(2020,7,4,19,0,0)"
   ]
  },
  {
   "cell_type": "markdown",
   "id": "16cfbdc0",
   "metadata": {},
   "source": [
    "#### Date and time for a scheduled event in multiple time zones."
   ]
  },
  {
   "cell_type": "code",
   "execution_count": 98,
   "id": "0f48b94b",
   "metadata": {},
   "outputs": [
    {
     "name": "stdout",
     "output_type": "stream",
     "text": [
      "Monday 02/06/23 01:01 PM UTC\n",
      "Monday 02/06/23 08:01 AM EST\n",
      "Monday 02/06/23 07:01 AM CST\n",
      "Monday 02/06/23 06:01 AM MST\n",
      "Monday 02/06/23 05:01 AM PST\n"
     ]
    }
   ],
   "source": [
    "# import datetime, give it an alias\n",
    "import datetime as dt\n",
    "# import timezone helpers from dateutil\n",
    "from dateutil.tz import gettz\n",
    "\n",
    "# UTC time right now.\n",
    "utc=dt.datetime.now(gettz('Etc/UTC'))\n",
    "print(f\"{utc:%A %D %I:%M %p %Z}\")\n",
    "\n",
    "# USA Eastern time.\n",
    "est = dt.datetime.now(gettz('America/New_York'))\n",
    "print(f\"{est:%A %D %I:%M %p %Z}\")\n",
    "\n",
    "# USA Central time.\n",
    "cst=dt.datetime.now(gettz('America/Chicago'))\n",
    "print(f\"{cst:%A %D %I:%M %p %Z}\")\n",
    "\n",
    "# USA Mountain time.\n",
    "mst=dt.datetime.now(gettz('America/Boise'))\n",
    "print(f\"{mst:%A %D %I:%M %p %Z}\")\n",
    "\n",
    "pst=dt.datetime.now(gettz('America/Los_Angeles'))\n",
    "print(f\"{pst:%A %D %I:%M %p %Z}\")"
   ]
  },
  {
   "cell_type": "markdown",
   "id": "c9c877d2",
   "metadata": {},
   "source": [
    "#### The current date and time for five different time zones\n",
    "\n",
    "syntex: name = event.astimezone(gettz(\"tzname))\n",
    "\n",
    "syntex for built-in dateutil function .astimezome(gettz(\"tzname))\n",
    "\n",
    "NB!!! Other authors recommend using arrow instead of dateutil when calculating timezomes."
   ]
  },
  {
   "cell_type": "code",
   "execution_count": 100,
   "id": "cbc7db60",
   "metadata": {},
   "outputs": [
    {
     "name": "stdout",
     "output_type": "stream",
     "text": [
      "Local: 07/04/20 07:00 PM \n",
      "\n",
      "07/04/20 01:00 PM EDT\n",
      "07/04/20 12:00 PM CDT\n",
      "Saturday 07/04/20 11:00 AM MDT\n",
      "07/04/20 10:00 AM PDT\n",
      "07/04/20 05:00 PM UTC\n"
     ]
    }
   ],
   "source": [
    "# import datetime and dateutil tz\n",
    "import datetime as dt\n",
    "from dateutil.tz import gettz\n",
    "\n",
    "# July 4 Event, 7:00 local time (no specific time zome).\n",
    "event = dt.datetime(2020,7,4,19,0,0)\n",
    "# Show local date and time\n",
    "print(\"Local: \" + f\"{event:%D %I:%M %p %Z}\" + \"\\n\")\n",
    "\n",
    "event_eastern = event.astimezone(gettz('America/New_York'))\n",
    "print(f\"{event_eastern:%D %I:%M %p %Z}\")\n",
    "\n",
    "event_central = event.astimezone(gettz('America/Chicago'))\n",
    "print(f\"{event_central:%D %I:%M %p %Z}\")\n",
    "\n",
    "event_mountain = event.astimezone(gettz('America/Denver'))\n",
    "print(f\"{event_mountain:%A %D %I:%M %p %Z}\")\n",
    "\n",
    "event_pacific = event.astimezone(gettz('America/Los_Angeles'))\n",
    "print(f\"{event_pacific:%D %I:%M %p %Z}\")\n",
    "\n",
    "event_utc = event.astimezone(gettz('Etc/UTC'))\n",
    "print(f\"{event_utc:%D %I:%M %p %Z}\")\n",
    "\n"
   ]
  },
  {
   "cell_type": "markdown",
   "id": "311191df",
   "metadata": {},
   "source": [
    "# Chapter 2\n",
    "### Controlling the Action"
   ]
  },
  {
   "cell_type": "markdown",
   "id": "4d0c3bb3",
   "metadata": {},
   "source": [
    "# Main operators for Controlling the Action"
   ]
  },
  {
   "cell_type": "markdown",
   "id": "6f6b7a9b",
   "metadata": {},
   "source": [
    "### Making Decisions with if"
   ]
  },
  {
   "cell_type": "markdown",
   "id": "cd3d7d93",
   "metadata": {},
   "source": [
    "Syntax for if statement is: if condition: do this\n",
    "do this no matter what"
   ]
  },
  {
   "cell_type": "markdown",
   "id": "6e367fcd",
   "metadata": {},
   "source": [
    "The first (do this) is executed only if the condition is true"
   ]
  },
  {
   "cell_type": "code",
   "execution_count": 107,
   "id": "6e1aac75",
   "metadata": {},
   "outputs": [
    {
     "name": "stdout",
     "output_type": "stream",
     "text": [
      "Good night!\n",
      "I am here\n"
     ]
    }
   ],
   "source": [
    "# Indentation is very important here\n",
    "sun = \"down\"\n",
    "if sun == \"down\": \n",
    "    print(\"Good night!\")\n",
    "print(\"I am here\")"
   ]
  },
  {
   "cell_type": "code",
   "execution_count": 108,
   "id": "d287d377",
   "metadata": {},
   "outputs": [
    {
     "name": "stdout",
     "output_type": "stream",
     "text": [
      "I an here\n"
     ]
    }
   ],
   "source": [
    "# Indentation is very important here\n",
    "sun = \"up\"\n",
    "if sun == \"down\":\n",
    "    print(\"Good night!\")\n",
    "print(\"I an here\")"
   ]
  },
  {
   "cell_type": "markdown",
   "id": "3b4b034f",
   "metadata": {},
   "source": [
    "if condition:\n",
    "    do this\n",
    "do this no matter what"
   ]
  },
  {
   "cell_type": "markdown",
   "id": "25f7de49",
   "metadata": {},
   "source": []
  },
  {
   "cell_type": "code",
   "execution_count": 112,
   "id": "f0324c11",
   "metadata": {},
   "outputs": [
    {
     "name": "stdout",
     "output_type": "stream",
     "text": [
      "Good night\n",
      "I am here\n"
     ]
    }
   ],
   "source": [
    "sun = \"down\"\n",
    "if sun == \"down\":\n",
    "    print(\"Good night\")\n",
    "print(\"I am here\")"
   ]
  },
  {
   "cell_type": "code",
   "execution_count": 118,
   "id": "ee6169f3",
   "metadata": {},
   "outputs": [
    {
     "name": "stdout",
     "output_type": "stream",
     "text": [
      "Subtotal : $100.00\n",
      "Sales Tax: $6.50\n",
      "Total   : $106.50\n"
     ]
    }
   ],
   "source": [
    "total = 100\n",
    "sales_tax_rate = 0.065\n",
    "taxable = True     # Start with the capital Letter T instead of t\n",
    "if taxable:        # Some people may say: if taxable == True:\n",
    "    print(f\"Subtotal : ${total:.2f}\")\n",
    "    sales_tax = total * sales_tax_rate\n",
    "    print(f\"Sales Tax: ${sales_tax:.2f}\")\n",
    "    total = total + sales_tax\n",
    "print(f\"Total   : ${total:.2f}\")"
   ]
  },
  {
   "cell_type": "markdown",
   "id": "f23f2427",
   "metadata": {},
   "source": [
    "#### When taxable is false, these are the results"
   ]
  },
  {
   "cell_type": "code",
   "execution_count": 119,
   "id": "696cacf2",
   "metadata": {},
   "outputs": [
    {
     "name": "stdout",
     "output_type": "stream",
     "text": [
      "Total   : $100.00\n"
     ]
    }
   ],
   "source": [
    "total = 100\n",
    "sales_tax_rate = 0.065\n",
    "taxable = False     # Start with the capital Letter T instead of t\n",
    "if taxable:        # Some people may say: if taxable == True:\n",
    "    print(f\"Subtotal : ${total:.2f}\")\n",
    "    sales_tax = total * sales_tax_rate\n",
    "    print(f\"Sales Tax: ${sales_tax:.2f}\")\n",
    "    total = total + sales_tax\n",
    "print(f\"Total   : ${total:.2f}\")"
   ]
  },
  {
   "cell_type": "markdown",
   "id": "f71c56b2",
   "metadata": {},
   "source": [
    "# Adding else to your if login"
   ]
  },
  {
   "cell_type": "raw",
   "id": "5ca8fe76",
   "metadata": {},
   "source": [
    "if condition:\n",
    "    do indented lines here\n",
    "else:\n",
    "    do indented lines here\n",
    "do remaining un-indented lines no matter what"
   ]
  },
  {
   "cell_type": "markdown",
   "id": "fe3ee241",
   "metadata": {},
   "source": [
    "#### Print an initial greeting based on time of day"
   ]
  },
  {
   "cell_type": "code",
   "execution_count": 120,
   "id": "210e6496",
   "metadata": {},
   "outputs": [
    {
     "name": "stdout",
     "output_type": "stream",
     "text": [
      "Good afternoon\n",
      "I hope you are doing well!\n"
     ]
    }
   ],
   "source": [
    "import datetime as dt\n",
    "# Get the current date and time\n",
    "now = dt.datetime.now()\n",
    "# Make a decision based on hour\n",
    "if now.hour < 12:\n",
    "    print(\"Good morning\")\n",
    "else:\n",
    "    print(\"Good afternoon\")\n",
    "print(\"I hope you are doing well!\")"
   ]
  },
  {
   "cell_type": "markdown",
   "id": "b5aa2633",
   "metadata": {},
   "source": [
    "# Handling multiple else's with elif"
   ]
  },
  {
   "cell_type": "markdown",
   "id": "423452f1",
   "metadata": {},
   "source": [
    "Syntax is:"
   ]
  },
  {
   "cell_type": "raw",
   "id": "e5e2bbad",
   "metadata": {},
   "source": [
    "if condition:\n",
    "    do these indented lines of code\n",
    "elif condition\n",
    "    do these indented lines of code\n",
    "do these un-indented lines of code no matter what"
   ]
  },
  {
   "cell_type": "code",
   "execution_count": 121,
   "id": "958f608f",
   "metadata": {},
   "outputs": [
    {
     "name": "stdout",
     "output_type": "stream",
     "text": [
      "Go\n",
      "This code executes no matter what\n"
     ]
    }
   ],
   "source": [
    "light_color = \"green\"\n",
    "if light_color == \"green\":\n",
    "    print(\"Go\")\n",
    "elif light_color == \"red\":\n",
    "    print(\"Stop\")\n",
    "print(\"This code executes no matter what\")"
   ]
  },
  {
   "cell_type": "code",
   "execution_count": 122,
   "id": "c5992164",
   "metadata": {},
   "outputs": [
    {
     "name": "stdout",
     "output_type": "stream",
     "text": [
      "Stop\n",
      "This code executes no matter what\n"
     ]
    }
   ],
   "source": [
    "light_color = \"red\"\n",
    "if light_color == \"green\":\n",
    "    print(\"Go\")\n",
    "elif light_color == \"red\":\n",
    "    print(\"Stop\")\n",
    "print(\"This code executes no matter what\")"
   ]
  },
  {
   "cell_type": "code",
   "execution_count": 123,
   "id": "91a2ea40",
   "metadata": {},
   "outputs": [
    {
     "name": "stdout",
     "output_type": "stream",
     "text": [
      "This code executes no matter what\n"
     ]
    }
   ],
   "source": [
    "light_color = \"yellow\"\n",
    "if light_color == \"green\":\n",
    "    print(\"Go\")\n",
    "elif light_color == \"red\":\n",
    "    print(\"Stop\")\n",
    "print(\"This code executes no matter what\")"
   ]
  },
  {
   "cell_type": "code",
   "execution_count": 124,
   "id": "829358e9",
   "metadata": {},
   "outputs": [
    {
     "name": "stdout",
     "output_type": "stream",
     "text": [
      "Proceed with caution\n",
      "This code executes no matter what\n"
     ]
    }
   ],
   "source": [
    "light_color = \"yellow\"\n",
    "if light_color == \"green\":\n",
    "    print(\"Go\")\n",
    "elif light_color == \"red\":\n",
    "    print(\"Stop\")\n",
    "else:\n",
    "    print(\"Proceed with caution\")\n",
    "print(\"This code executes no matter what\")"
   ]
  },
  {
   "cell_type": "markdown",
   "id": "9e6910b8",
   "metadata": {},
   "source": [
    "# Ternary operations"
   ]
  },
  {
   "cell_type": "markdown",
   "id": "1d0c09ba",
   "metadata": {},
   "source": [
    "##### Consider the following Javascript code"
   ]
  },
  {
   "cell_type": "raw",
   "id": "7e8f8dd5",
   "metadata": {},
   "source": [
    "//JavaScript code example, won't work in Python\n",
    "age=14;\n",
    "beverage = (age > 20) ? \"beer\" : \"milk\";\n",
    "alert(\"Have a \" + beverage);"
   ]
  },
  {
   "cell_type": "markdown",
   "id": "06b68860",
   "metadata": {},
   "source": [
    "##### In Python you may re-write the above code as follows"
   ]
  },
  {
   "cell_type": "code",
   "execution_count": 127,
   "id": "7b16e9a9",
   "metadata": {},
   "outputs": [
    {
     "name": "stdout",
     "output_type": "stream",
     "text": [
      "Have a beer\n"
     ]
    }
   ],
   "source": [
    "age = 31\n",
    "if age < 21:\n",
    "    beverage = \"milk\"\n",
    "elif age >= 21 and age < 80:\n",
    "    beverage = \"beer\"\n",
    "else:\n",
    "    beverage = \"prune juice\"\n",
    "print(\"Have a \" + beverage)"
   ]
  },
  {
   "cell_type": "markdown",
   "id": "d53ea484",
   "metadata": {},
   "source": [
    "##### Adding comments to the above code to make more readable"
   ]
  },
  {
   "cell_type": "code",
   "execution_count": 128,
   "id": "5e0a9453",
   "metadata": {},
   "outputs": [
    {
     "name": "stdout",
     "output_type": "stream",
     "text": [
      "Have a beer\n"
     ]
    }
   ],
   "source": [
    "age = 31\n",
    "\n",
    "if age < 21:\n",
    "    # If under 21, no alcohol\n",
    "    beverage = \"milk\"\n",
    "    \n",
    "elif age >= 21 and age < 80:\n",
    "    # Ages 21 - 79, suggest beer\n",
    "    beverage = \"beer\"\n",
    "    \n",
    "else:\n",
    "    # If 80 or older, prune juice might be a good choice.\n",
    "    beverage = \"prune juice\"\n",
    "    \n",
    "print(\"Have a \" + beverage)"
   ]
  },
  {
   "cell_type": "markdown",
   "id": "11a8455f",
   "metadata": {},
   "source": [
    "# Repeating a Process with for"
   ]
  },
  {
   "cell_type": "markdown",
   "id": "a8c714af",
   "metadata": {},
   "source": [
    "### Decision making: \n",
    "for loops: it allows you to repeat a line of code, or several lines of code, \n",
    "    as many times as you like."
   ]
  },
  {
   "cell_type": "markdown",
   "id": "62ce2937",
   "metadata": {},
   "source": [
    "### Looping through numbers in a range"
   ]
  },
  {
   "cell_type": "markdown",
   "id": "f137a9de",
   "metadata": {},
   "source": [
    "for loop sytax: "
   ]
  },
  {
   "cell_type": "raw",
   "id": "92150360",
   "metadata": {},
   "source": [
    "for x in range(y):\n",
    "    do this\n",
    "    do this\n",
    "un-indented code is executed after the loop"
   ]
  },
  {
   "cell_type": "code",
   "execution_count": 131,
   "id": "58e039d9",
   "metadata": {},
   "outputs": [
    {
     "name": "stdout",
     "output_type": "stream",
     "text": [
      "0\n",
      "1\n",
      "2\n",
      "3\n",
      "4\n",
      "5\n",
      "6\n",
      "All done\n"
     ]
    }
   ],
   "source": [
    "for x in range(7): # This means range from 0 - 7\n",
    "    print(x)\n",
    "print(\"All done\")"
   ]
  },
  {
   "cell_type": "code",
   "execution_count": 133,
   "id": "a66fdbe9",
   "metadata": {},
   "outputs": [
    {
     "name": "stdout",
     "output_type": "stream",
     "text": [
      "1\n",
      "2\n",
      "3\n",
      "4\n",
      "5\n",
      "6\n",
      "7\n",
      "8\n",
      "9\n",
      "All done\n"
     ]
    }
   ],
   "source": [
    "# Here is the for loop with two numbers in range\n",
    "for x in range(1, 10):\n",
    "    print(x)\n",
    "print(\"All done\")"
   ]
  },
  {
   "cell_type": "markdown",
   "id": "ad245376",
   "metadata": {},
   "source": [
    "# Looping through a string"
   ]
  },
  {
   "cell_type": "markdown",
   "id": "a7d29650",
   "metadata": {},
   "source": [
    "Sytax for looping through a string:"
   ]
  },
  {
   "cell_type": "raw",
   "id": "54c4b886",
   "metadata": {},
   "source": [
    "for x in string\n",
    "    do this\n",
    "    do this\n",
    "do this when the loop is done"
   ]
  },
  {
   "cell_type": "code",
   "execution_count": 134,
   "id": "040606e2",
   "metadata": {},
   "outputs": [
    {
     "name": "stdout",
     "output_type": "stream",
     "text": [
      "s\n",
      "n\n",
      "o\n",
      "r\n",
      "k\n",
      "e\n",
      "l\n",
      "Done\n"
     ]
    }
   ],
   "source": [
    "for x in \"snorkel\":\n",
    "    print(x)\n",
    "print(\"Done\")"
   ]
  },
  {
   "cell_type": "markdown",
   "id": "9de1fab6",
   "metadata": {},
   "source": [
    "##### Using a variable name rather than a string in a for loop:"
   ]
  },
  {
   "cell_type": "code",
   "execution_count": 135,
   "id": "353523fe",
   "metadata": {},
   "outputs": [
    {
     "name": "stdout",
     "output_type": "stream",
     "text": [
      "s\n",
      "n\n",
      "o\n",
      "r\n",
      "k\n",
      "e\n",
      "l\n",
      "Done\n"
     ]
    }
   ],
   "source": [
    "my_word = \"snorkel\"\n",
    "for x in my_word:\n",
    "    print(x)\n",
    "print(\"Done\")"
   ]
  },
  {
   "cell_type": "markdown",
   "id": "978c29ea",
   "metadata": {},
   "source": [
    "# Looping through a list"
   ]
  },
  {
   "cell_type": "markdown",
   "id": "86f68819",
   "metadata": {},
   "source": [
    "The syntax is as follows:"
   ]
  },
  {
   "cell_type": "code",
   "execution_count": 138,
   "id": "d95abfd3",
   "metadata": {},
   "outputs": [
    {
     "name": "stdout",
     "output_type": "stream",
     "text": [
      "The\n",
      "rain\n",
      "in\n",
      "Spain\n",
      "Done\n"
     ]
    }
   ],
   "source": [
    "for x in [\"The\", \"rain\", \"in\", \"Spain\"]:\n",
    "    print(x)\n",
    "print(\"Done\")"
   ]
  },
  {
   "cell_type": "markdown",
   "id": "d998bafa",
   "metadata": {},
   "source": [
    "##### Assigning a list to a variable:"
   ]
  },
  {
   "cell_type": "code",
   "execution_count": 139,
   "id": "0835c702",
   "metadata": {},
   "outputs": [
    {
     "name": "stdout",
     "output_type": "stream",
     "text": [
      "Happy\n",
      "Grumpy\n",
      "Sleepy\n",
      "Bashful\n",
      "Sneezy\n",
      "Doc\n",
      "Dopey\n",
      "And Snow White too\n"
     ]
    }
   ],
   "source": [
    "seven_dwarves = [\"Happy\", \"Grumpy\", \"Sleepy\", \"Bashful\", \"Sneezy\", \"Doc\", \"Dopey\"]\n",
    "for dwarf in seven_dwarves:\n",
    "    print(dwarf)\n",
    "print(\"And Snow White too\")"
   ]
  },
  {
   "cell_type": "markdown",
   "id": "8a60bc3c",
   "metadata": {},
   "source": [
    "# Bailing out of a loop"
   ]
  },
  {
   "cell_type": "markdown",
   "id": "4f41ae1e",
   "metadata": {},
   "source": [
    "Use the break statement to force the loop stop"
   ]
  },
  {
   "cell_type": "markdown",
   "id": "2dd830c0",
   "metadata": {},
   "source": [
    "Syntax is:"
   ]
  },
  {
   "cell_type": "raw",
   "id": "1d05e982",
   "metadata": {},
   "source": [
    "for x in items:\n",
    "    if condition:\n",
    "        [do this...]\n",
    "        break\n",
    "    do this\n",
    "do this when loop is finished"
   ]
  },
  {
   "cell_type": "code",
   "execution_count": 140,
   "id": "96b73c2e",
   "metadata": {},
   "outputs": [
    {
     "name": "stdout",
     "output_type": "stream",
     "text": [
      "A\n",
      "C\n",
      "B\n",
      "D\n",
      "Loop is done\n"
     ]
    }
   ],
   "source": [
    "answers = [\"A\", \"C\", \"B\", \"D\"]\n",
    "for answer in answers:\n",
    "    if answer == \"\":\n",
    "        print(\"Incomplete\")\n",
    "        break\n",
    "    print(answer)\n",
    "print(\"Loop is done\")"
   ]
  },
  {
   "cell_type": "markdown",
   "id": "5f96b475",
   "metadata": {},
   "source": [
    "This loop jumps to an indented code as soon as it hits an empty string"
   ]
  },
  {
   "cell_type": "code",
   "execution_count": 142,
   "id": "b18a4553",
   "metadata": {},
   "outputs": [
    {
     "name": "stdout",
     "output_type": "stream",
     "text": [
      "A\n",
      "C\n",
      "Incomplete\n",
      "Loop is done\n"
     ]
    }
   ],
   "source": [
    "answers = [\"A\", \"C\", \"\", \"D\"]\n",
    "for answer in answers:\n",
    "    if answer == \"\":\n",
    "        print(\"Incomplete\")\n",
    "        break\n",
    "    print(answer)\n",
    "print(\"Loop is done\")"
   ]
  },
  {
   "cell_type": "markdown",
   "id": "84d37678",
   "metadata": {},
   "source": [
    "# Looping with continue"
   ]
  },
  {
   "cell_type": "markdown",
   "id": "6b0a16da",
   "metadata": {},
   "source": [
    "Continue is the opposite of break. Continue makes the code execution jump to the top of the loop\n",
    "and continue with the next item."
   ]
  },
  {
   "cell_type": "code",
   "execution_count": 143,
   "id": "76621e10",
   "metadata": {},
   "outputs": [
    {
     "name": "stdout",
     "output_type": "stream",
     "text": [
      "A\n",
      "C\n",
      "Incomplete\n",
      "D\n",
      "Loop is done\n"
     ]
    }
   ],
   "source": [
    "answers = [\"A\", \"C\", \"\", \"D\"]\n",
    "for answer in answers:\n",
    "    if answer == \"\":\n",
    "        print(\"Incomplete\")\n",
    "        continue\n",
    "    print(answer)\n",
    "print(\"Loop is done\")"
   ]
  },
  {
   "cell_type": "markdown",
   "id": "b7147c35",
   "metadata": {},
   "source": [
    "# Nesting loops"
   ]
  },
  {
   "cell_type": "code",
   "execution_count": 150,
   "id": "645a841d",
   "metadata": {},
   "outputs": [
    {
     "name": "stdout",
     "output_type": "stream",
     "text": [
      "First\n",
      "1\n",
      "2\n",
      "3\n",
      "Second\n",
      "1\n",
      "2\n",
      "3\n",
      "Third\n",
      "1\n",
      "2\n",
      "3\n",
      "Both loops are done\n"
     ]
    }
   ],
   "source": [
    "# Outer loop\n",
    "for outer in [\"First\", \"Second\", \"Third\"]:\n",
    "    print(outer)\n",
    "    # Inner loop\n",
    "    for inner in range(3):\n",
    "        print(inner + 1)\n",
    "print(\"Both loops are done\")\n",
    "# Out of the loops here"
   ]
  },
  {
   "cell_type": "markdown",
   "id": "36121021",
   "metadata": {},
   "source": [
    "# Looping with while"
   ]
  },
  {
   "cell_type": "markdown",
   "id": "5eccb407",
   "metadata": {},
   "source": [
    "Keep looping as long as some condition is true"
   ]
  },
  {
   "cell_type": "markdown",
   "id": "5a91dbb1",
   "metadata": {},
   "source": [
    "Syntax for a while loop is as follows:"
   ]
  },
  {
   "cell_type": "raw",
   "id": "228c3668",
   "metadata": {},
   "source": [
    "while condition\n",
    "    do this \n",
    "    do this\n",
    "do this when loop is done"
   ]
  },
  {
   "cell_type": "markdown",
   "id": "cf431a6c",
   "metadata": {},
   "source": [
    "##### Looping while counter is less than 91"
   ]
  },
  {
   "cell_type": "code",
   "execution_count": 151,
   "id": "3913ac37",
   "metadata": {},
   "outputs": [
    {
     "name": "stdout",
     "output_type": "stream",
     "text": [
      "65=A\n",
      "66=B\n",
      "67=C\n",
      "68=D\n",
      "69=E\n",
      "70=F\n",
      "71=G\n",
      "72=H\n",
      "73=I\n",
      "74=J\n",
      "75=K\n",
      "76=L\n",
      "77=M\n",
      "78=N\n",
      "79=O\n",
      "80=P\n",
      "81=Q\n",
      "82=R\n",
      "83=S\n",
      "84=T\n",
      "85=U\n",
      "86=V\n",
      "87=W\n",
      "88=X\n",
      "89=Y\n",
      "90=Z\n",
      "all done\n"
     ]
    }
   ],
   "source": [
    "counter = 65\n",
    "while counter < 91:\n",
    "    print(str(counter) + \"=\" + chr(counter))\n",
    "    counter += 1\n",
    "print(\"all done\")"
   ]
  },
  {
   "cell_type": "code",
   "execution_count": 1,
   "id": "e9c21157",
   "metadata": {},
   "outputs": [
    {
     "name": "stdout",
     "output_type": "stream",
     "text": [
      "65=A\n",
      "66=B\n",
      "67=C\n",
      "68=D\n",
      "69=E\n",
      "70=F\n",
      "71=G\n",
      "72=H\n",
      "73=I\n",
      "74=J\n",
      "75=K\n",
      "76=L\n",
      "77=M\n",
      "78=N\n",
      "79=O\n",
      "80=P\n",
      "81=Q\n",
      "82=R\n",
      "83=S\n",
      "84=T\n",
      "85=U\n",
      "86=V\n",
      "87=W\n",
      "88=X\n",
      "89=Y\n",
      "90=Z\n",
      "all done\n"
     ]
    }
   ],
   "source": [
    "# Removing the counter += will cause the following error\n",
    "counter = 65\n",
    "while counter < 91:\n",
    "    print(str(counter) + \"=\" + chr(counter))\n",
    "    counter += 1\n",
    "print(\"all done\")"
   ]
  },
  {
   "cell_type": "markdown",
   "id": "d6a2a724",
   "metadata": {},
   "source": [
    "##### A while loop with continue"
   ]
  },
  {
   "cell_type": "code",
   "execution_count": 4,
   "id": "9fb82e3d",
   "metadata": {},
   "outputs": [
    {
     "name": "stdout",
     "output_type": "stream",
     "text": [
      "Odd numbers\n",
      "209\n",
      "391\n",
      "413\n",
      "125\n",
      "535\n",
      "831\n",
      "789\n",
      "609\n",
      "237\n",
      "887\n",
      "Loop is done\n"
     ]
    }
   ],
   "source": [
    "import random \n",
    "print(\"Odd numbers\")\n",
    "counter = 0\n",
    "while counter < 10:\n",
    "    # Get a random number\n",
    "    number = random.randint(1,999)\n",
    "    if int(number / 2) == number / 2:\n",
    "        # If it's an even number, don't print.\n",
    "        continue\n",
    "    # Otherwise, if it's odd, print it and increment the counter.\n",
    "    print(number)\n",
    "    # Increment the loop counter.\n",
    "    counter += 1\n",
    "print(\"Loop is done\")"
   ]
  },
  {
   "cell_type": "markdown",
   "id": "e3bcbde1",
   "metadata": {},
   "source": [
    "# Breaking while loops with break"
   ]
  },
  {
   "cell_type": "raw",
   "id": "d67ed4ab",
   "metadata": {},
   "source": [
    "while condition1:\n",
    "    do this\n",
    "    ...\n",
    "    if condition2\n",
    "break\n",
    "do this code when loop is done"
   ]
  },
  {
   "cell_type": "code",
   "execution_count": 8,
   "id": "972441a1",
   "metadata": {},
   "outputs": [
    {
     "name": "stdout",
     "output_type": "stream",
     "text": [
      "Number that aren't evently divisible by 5\n",
      "108\n",
      "984\n",
      "133\n",
      "334\n",
      "517\n",
      "974\n",
      "909\n",
      "Loop is done\n"
     ]
    }
   ],
   "source": [
    "import random\n",
    "print(\"Number that aren't evently divisible by 5\")\n",
    "counter = 0\n",
    "while counter < 10:\n",
    "    # Get a random number\n",
    "    number = random.randint(1,999) \n",
    "    if int(number / 5) == number / 5:\n",
    "        # If it's evently divisible by 5, bail out.\n",
    "        break\n",
    "    # Otherwise, print it and going for while.\n",
    "    print(number)\n",
    "    # Increment the loop counter.\n",
    "    counter += 1\n",
    "print(\"Loop is done\")"
   ]
  },
  {
   "cell_type": "markdown",
   "id": "0bbe6030",
   "metadata": {},
   "source": [
    "# Chapter 3\n",
    "# Speeding Along with Lists and Tuples"
   ]
  },
  {
   "cell_type": "markdown",
   "id": "e864af18",
   "metadata": {},
   "source": [
    "#### Defining and  using Lists"
   ]
  },
  {
   "cell_type": "markdown",
   "id": "84f48f26",
   "metadata": {},
   "source": [
    "Assign a name to a list using this: an = sign"
   ]
  },
  {
   "cell_type": "code",
   "execution_count": 9,
   "id": "40103b18",
   "metadata": {},
   "outputs": [],
   "source": [
    "# E.g: A list of integers\n",
    "scores = [88, 92, 78, 90, 98, 84]"
   ]
  },
  {
   "cell_type": "code",
   "execution_count": 11,
   "id": "d6574d89",
   "metadata": {},
   "outputs": [],
   "source": [
    "# E.g: A list of strings\n",
    "students = [\"Mark\", \"Amber\", \"Todd\", \"Anita\", \"Sandy\"]"
   ]
  },
  {
   "cell_type": "code",
   "execution_count": 12,
   "id": "f243fe34",
   "metadata": {},
   "outputs": [
    {
     "name": "stdout",
     "output_type": "stream",
     "text": [
      "['Mark', 'Amber', 'Todd', 'Anita', 'Sandy']\n"
     ]
    }
   ],
   "source": [
    "# Printing a students list\n",
    "students = [\"Mark\", \"Amber\", \"Todd\", \"Anita\", \"Sandy\"]\n",
    "print(students) # The following output is not an ideal way display the list."
   ]
  },
  {
   "cell_type": "markdown",
   "id": "afad4755",
   "metadata": {},
   "source": [
    "# Referencing list items by position"
   ]
  },
  {
   "cell_type": "markdown",
   "id": "7eb9a648",
   "metadata": {},
   "source": [
    "Refer to a list by its number:"
   ]
  },
  {
   "cell_type": "markdown",
   "id": "d75d3898",
   "metadata": {},
   "source": [
    "Syntax:"
   ]
  },
  {
   "cell_type": "raw",
   "id": "1dc9caae",
   "metadata": {},
   "source": [
    "listname[x]"
   ]
  },
  {
   "cell_type": "markdown",
   "id": "ba0fffc7",
   "metadata": {},
   "source": [
    "listname = name of the list and x = the position of the item."
   ]
  },
  {
   "cell_type": "code",
   "execution_count": 13,
   "id": "e4b72081",
   "metadata": {},
   "outputs": [
    {
     "name": "stdout",
     "output_type": "stream",
     "text": [
      "Mark\n"
     ]
    }
   ],
   "source": [
    "students = [\"Mark\", \"Amber\", \"Todd\", \"Anita\", \"Sandy\"]\n",
    "print(students[0]) # here we display the name of the student at 0 index"
   ]
  },
  {
   "cell_type": "code",
   "execution_count": 16,
   "id": "943967e4",
   "metadata": {},
   "outputs": [
    {
     "name": "stdout",
     "output_type": "stream",
     "text": [
      "84\n"
     ]
    }
   ],
   "source": [
    "scores = [88, 92, 78, 90, 84]\n",
    "print(scores[4]) # here we display the score number of the score at 4th index"
   ]
  },
  {
   "cell_type": "markdown",
   "id": "3a988990",
   "metadata": {},
   "source": [
    "# Looping through a list"
   ]
  },
  {
   "cell_type": "markdown",
   "id": "c060b8dd",
   "metadata": {},
   "source": [
    "Use a for loop to loop through a list:"
   ]
  },
  {
   "cell_type": "markdown",
   "id": "102dbdff",
   "metadata": {},
   "source": [
    "Syntax is as follows:"
   ]
  },
  {
   "cell_type": "raw",
   "id": "88cb06cf",
   "metadata": {},
   "source": [
    "for x in list:"
   ]
  },
  {
   "cell_type": "markdown",
   "id": "2121f99b",
   "metadata": {},
   "source": [
    "Use plural for list name: E.g scores and singular name for variable name: E.g score."
   ]
  },
  {
   "cell_type": "code",
   "execution_count": 23,
   "id": "c9b498cb",
   "metadata": {},
   "outputs": [
    {
     "name": "stdout",
     "output_type": "stream",
     "text": [
      "88\n",
      "92\n",
      "78\n",
      "90\n",
      "84\n",
      "Done!\n"
     ]
    }
   ],
   "source": [
    "scores = [88, 92, 78, 90, 84]\n",
    "for score in scores:\n",
    "    print(score)\n",
    "print(\"Done!\")"
   ]
  },
  {
   "cell_type": "markdown",
   "id": "12fd140d",
   "metadata": {},
   "source": [
    "# Seeing wether a list contains an item"
   ]
  },
  {
   "cell_type": "code",
   "execution_count": 25,
   "id": "9b70e991",
   "metadata": {},
   "outputs": [
    {
     "name": "stdout",
     "output_type": "stream",
     "text": [
      "True\n",
      "False\n"
     ]
    }
   ],
   "source": [
    "students = [\"Mark\", \"Amber\", \"Todd\", \"Anita\", \"Sandy\"]\n",
    "\n",
    "# Is Anita in the list?\n",
    "has_anita = \"Anita\" in students\n",
    "print(has_anita)\n",
    "\n",
    "# Is Bob in the list?\n",
    "has_bob = \"Bob\" in students\n",
    "print(has_bob)"
   ]
  },
  {
   "cell_type": "markdown",
   "id": "c01a366a",
   "metadata": {},
   "source": [
    "# Getting the lenght of a list"
   ]
  },
  {
   "cell_type": "markdown",
   "id": "42bdca1d",
   "metadata": {},
   "source": [
    "Use len() function to determine the lenght of a list"
   ]
  },
  {
   "cell_type": "code",
   "execution_count": 26,
   "id": "afa30727",
   "metadata": {},
   "outputs": [
    {
     "name": "stdout",
     "output_type": "stream",
     "text": [
      "5\n"
     ]
    }
   ],
   "source": [
    "students = [\"Mark\", \"Amber\", \"Todd\", \"Anita\", \"Sandy\"]\n",
    "print(len(students))"
   ]
  },
  {
   "cell_type": "markdown",
   "id": "b560faa8",
   "metadata": {},
   "source": [
    "# Adding items to the end of a list"
   ]
  },
  {
   "cell_type": "markdown",
   "id": "f21208f1",
   "metadata": {},
   "source": [
    "Use the .append() function to add items to the end of a list"
   ]
  },
  {
   "cell_type": "code",
   "execution_count": 27,
   "id": "eb6f427f",
   "metadata": {},
   "outputs": [
    {
     "name": "stdout",
     "output_type": "stream",
     "text": [
      "['Mark', 'Amber', 'Todd', 'Anita', 'Sandy', 'Goober', 'Amanda']\n"
     ]
    }
   ],
   "source": [
    "# Create a list of strings (names)\n",
    "students = [\"Mark\", \"Amber\", \"Todd\", \"Anita\", \"Sandy\"]\n",
    "\n",
    "# Add the name Goober to the list\n",
    "students.append(\"Goober\") # This is one way of doing it!\n",
    "\n",
    "new_student = \"Amanda\"\n",
    "# Add what ever name is in new_student to the list.\n",
    "students.append(new_student) # This is another way of doing it!\n",
    "\n",
    "# Print the entire list.\n",
    "print(students)"
   ]
  },
  {
   "cell_type": "markdown",
   "id": "3f999c30",
   "metadata": {},
   "source": [
    "The following code won't add the Amber on the because the is already in the list"
   ]
  },
  {
   "cell_type": "code",
   "execution_count": 32,
   "id": "f52f2f43",
   "metadata": {},
   "outputs": [
    {
     "name": "stdout",
     "output_type": "stream",
     "text": [
      "Aneal already in the list\n"
     ]
    }
   ],
   "source": [
    "student_name = \"Aneal\"\n",
    "\n",
    "# Add student_name but only if not already in the list.\n",
    "if student_name in students:\n",
    "    print(student_name + \" already in the list\")\n",
    "else:\n",
    "    students.append(student_name)\n",
    "    print(student_name + \" added to the list\")"
   ]
  },
  {
   "cell_type": "code",
   "execution_count": 33,
   "id": "ae9ee35f",
   "metadata": {},
   "outputs": [
    {
     "name": "stdout",
     "output_type": "stream",
     "text": [
      "['Mark', 'Amber', 'Todd', 'Anita', 'Sandy', 'Goober', 'Amanda', 'Anele', 'Aneal']\n"
     ]
    }
   ],
   "source": [
    "print(students)"
   ]
  },
  {
   "cell_type": "markdown",
   "id": "5d468dcb",
   "metadata": {},
   "source": [
    "# Inserting an item into a list"
   ]
  },
  {
   "cell_type": "markdown",
   "id": "31d7bbfd",
   "metadata": {},
   "source": [
    "insert() allows you to add item in any position in a list"
   ]
  },
  {
   "cell_type": "markdown",
   "id": "1d050c4e",
   "metadata": {},
   "source": [
    "The syntax is:"
   ]
  },
  {
   "cell_type": "raw",
   "id": "dcdefa1e",
   "metadata": {},
   "source": [
    "listname.insert(position, item)"
   ]
  },
  {
   "cell_type": "code",
   "execution_count": 36,
   "id": "944160c5",
   "metadata": {},
   "outputs": [
    {
     "name": "stdout",
     "output_type": "stream",
     "text": [
      "['Lupe', 'Mark', 'Amber', 'Todd', 'Anita', 'Sandy']\n"
     ]
    }
   ],
   "source": [
    "# Create a list of strings (names)\n",
    "students = [\"Mark\", \"Amber\", \"Todd\", \"Anita\", \"Sandy\"]\n",
    "\n",
    "student_name = \"Lupe\"\n",
    "# Add stuudent name to front of the list\n",
    "students.insert(0, student_name)\n",
    "\n",
    "# Show me the new list.\n",
    "print(students)"
   ]
  },
  {
   "cell_type": "markdown",
   "id": "79b55740",
   "metadata": {},
   "source": [
    "# Changing an item in a list"
   ]
  },
  {
   "cell_type": "markdown",
   "id": "c2bb3906",
   "metadata": {},
   "source": [
    "The syntax is: "
   ]
  },
  {
   "cell_type": "raw",
   "id": "cbe92992",
   "metadata": {},
   "source": [
    "listname[index]=newvalue"
   ]
  },
  {
   "cell_type": "raw",
   "id": "822d1577",
   "metadata": {},
   "source": [
    "Replace list name with the name of the list.\n",
    "Replace index with the subscript index number.\n",
    "Replace newvalue with what ever you want."
   ]
  },
  {
   "cell_type": "code",
   "execution_count": 2,
   "id": "8cf9cad2",
   "metadata": {},
   "outputs": [
    {
     "name": "stdout",
     "output_type": "stream",
     "text": [
      "['Mark', 'Amber', 'Todd', 'Hobart', 'Sandy']\n"
     ]
    }
   ],
   "source": [
    "# Create a list of strings (names).\n",
    "students = [\"Mark\", \"Amber\", \"Todd\", \"Anita\", \"Sandy\"]\n",
    "students[3] = \"Hobart\" # Here we replace Anita with Hobart.\n",
    "print(students)"
   ]
  },
  {
   "cell_type": "markdown",
   "id": "5081c5ac",
   "metadata": {},
   "source": [
    "# Combining lists"
   ]
  },
  {
   "cell_type": "markdown",
   "id": "ceffac98",
   "metadata": {},
   "source": [
    "Use the extend function to combine two lists."
   ]
  },
  {
   "cell_type": "raw",
   "id": "9dc3890a",
   "metadata": {},
   "source": [
    "original_list.extend(additional_items_list)"
   ]
  },
  {
   "cell_type": "code",
   "execution_count": 3,
   "id": "115decc5",
   "metadata": {},
   "outputs": [
    {
     "name": "stdout",
     "output_type": "stream",
     "text": [
      "['Zara', 'Lupe', 'Hong', 'Alberto', 'Jake', 'Huey', 'Dewey', 'Louie', 'Nader', 'Bubba']\n"
     ]
    }
   ],
   "source": [
    "# Create two lists of names.\n",
    "list1 = [\"Zara\", \"Lupe\", \"Hong\", \"Alberto\", \"Jake\"]\n",
    "list2 = [\"Huey\", \"Dewey\", \"Louie\", \"Nader\", \"Bubba\"]\n",
    "\n",
    "# Add list2 names to list1\n",
    "list1.extend(list2)\n",
    "\n",
    "# Print list1.\n",
    "print(list1)"
   ]
  },
  {
   "cell_type": "markdown",
   "id": "4a5dfa16",
   "metadata": {},
   "source": [
    "# Removing list items"
   ]
  },
  {
   "cell_type": "raw",
   "id": "a19e446c",
   "metadata": {},
   "source": [
    ".remove()"
   ]
  },
  {
   "cell_type": "code",
   "execution_count": 4,
   "id": "505160c0",
   "metadata": {},
   "outputs": [
    {
     "name": "stdout",
     "output_type": "stream",
     "text": [
      "['A', 'B', 'D', 'E', 'C']\n"
     ]
    }
   ],
   "source": [
    "# Create a list of strings.\n",
    "letters = [\"A\", \"B\", \"C\", \"D\", \"E\", \"C\"]\n",
    "\n",
    "# Remove \"C\" from the list\n",
    "letters.remove(\"C\")\n",
    "\n",
    "# Show me the new list.\n",
    "print(letters)"
   ]
  },
  {
   "cell_type": "raw",
   "id": "c3761264",
   "metadata": {},
   "source": [
    "Use the while loop to remove all the items in the list."
   ]
  },
  {
   "cell_type": "code",
   "execution_count": 5,
   "id": "54f9ca76",
   "metadata": {},
   "outputs": [],
   "source": [
    "# Create a list of strings.\n",
    "letters = [\"A\", \"B\", \"C\", \"D\", \"C\", \"E\", \"C\"]"
   ]
  },
  {
   "cell_type": "raw",
   "id": "b853cdba",
   "metadata": {},
   "source": [
    "Use pop() function with index number to remove any item.\n",
    "Use pop() function without index number to remove last item."
   ]
  },
  {
   "cell_type": "code",
   "execution_count": 6,
   "id": "b257dc11",
   "metadata": {},
   "outputs": [
    {
     "name": "stdout",
     "output_type": "stream",
     "text": [
      "['B', 'C', 'D', 'E', 'F']\n"
     ]
    }
   ],
   "source": [
    "# Create a list of strings.\n",
    "letters = [\"A\", \"B\", \"C\", \"D\", \"E\", \"F\", \"G\"]\n",
    "\n",
    "# Remove the first item.\n",
    "letters.pop(0)\n",
    "# Remove the last item.\n",
    "letters.pop()\n",
    "\n",
    "# Show me the new list.\n",
    "print(letters)"
   ]
  },
  {
   "cell_type": "raw",
   "id": "f6112d6f",
   "metadata": {},
   "source": [
    "Use first_remove and last_remove"
   ]
  },
  {
   "cell_type": "code",
   "execution_count": 9,
   "id": "29f110c5",
   "metadata": {},
   "outputs": [
    {
     "name": "stdout",
     "output_type": "stream",
     "text": [
      "['B', 'C', 'D', 'E', 'F']\n",
      "A and G were removed from the list.\n"
     ]
    }
   ],
   "source": [
    "# Create a list of strings.\n",
    "letters = [\"A\", \"B\", \"C\", \"D\", \"E\", \"F\", \"G\"]\n",
    "\n",
    "# Make a copy of first list item then remove it from the list.\n",
    "first_remove = letters.pop(0)\n",
    "# Make a copy of last list item then remove it from the list.\n",
    "last_remove = letters.pop()\n",
    "\n",
    "# Show the new list.\n",
    "print(letters)\n",
    "# Show what's been removed.\n",
    "print(first_remove + \" and \" + last_remove + \" were removed from the list.\")"
   ]
  },
  {
   "cell_type": "raw",
   "id": "0b3b20e1",
   "metadata": {},
   "source": [
    "Use the del to delete any item."
   ]
  },
  {
   "cell_type": "code",
   "execution_count": 11,
   "id": "c33c71c7",
   "metadata": {},
   "outputs": [
    {
     "name": "stdout",
     "output_type": "stream",
     "text": [
      "['A', 'B', 'D', 'E', 'F', 'G']\n"
     ]
    }
   ],
   "source": [
    "# Create a list of strings.\n",
    "letters = [\"A\", \"B\", \"C\", \"D\", \"E\", \"F\", \"G\"]\n",
    "\n",
    "# Remove item sub 2.\n",
    "del letters[2]\n",
    "\n",
    "print(letters)"
   ]
  },
  {
   "cell_type": "markdown",
   "id": "a43396e3",
   "metadata": {},
   "source": [
    "Use del to delete the entire list.\n",
    "\n",
    "The following code with produce an error"
   ]
  },
  {
   "cell_type": "raw",
   "id": "2bfaa305",
   "metadata": {},
   "source": [
    "# Create a list  of strings.\n",
    "letters = [\"A\", \"B\", \"C\", \"D\", \"E\", \"F\", \"G\"]\n",
    "\n",
    "# Delete the entire list.\n",
    "del letters\n",
    "\n",
    "# Show me the new list.\n",
    "print(letters)"
   ]
  },
  {
   "cell_type": "markdown",
   "id": "7cc3244a",
   "metadata": {},
   "source": [
    "# Creating out a list"
   ]
  },
  {
   "cell_type": "markdown",
   "id": "5a30ed65",
   "metadata": {},
   "source": [
    "Use the clear() to delete items in the list but not the list. The result will produce []"
   ]
  },
  {
   "cell_type": "code",
   "execution_count": 13,
   "id": "ac5d6e67",
   "metadata": {},
   "outputs": [
    {
     "name": "stdout",
     "output_type": "stream",
     "text": [
      "[]\n"
     ]
    }
   ],
   "source": [
    "# Create a list of strings.\n",
    "letters = [\"A\", \"B\", \"C\", \"D\", \"E\", \"F\", \"G\"]\n",
    "\n",
    "# Clear the list of all entries.\n",
    "letters.clear()\n",
    "\n",
    "# Show me the new list.\n",
    "print(letters)"
   ]
  },
  {
   "cell_type": "markdown",
   "id": "bd826409",
   "metadata": {},
   "source": [
    "# Counting how many times an item appears in a list"
   ]
  },
  {
   "cell_type": "markdown",
   "id": "0c323c9a",
   "metadata": {},
   "source": [
    "Use count() and str() to convert numbers to strings:"
   ]
  },
  {
   "cell_type": "markdown",
   "id": "d311a30c",
   "metadata": {},
   "source": [
    "Syntax is:"
   ]
  },
  {
   "cell_type": "raw",
   "id": "871fe432",
   "metadata": {},
   "source": [
    "listname.count()"
   ]
  },
  {
   "cell_type": "code",
   "execution_count": 15,
   "id": "6aa046ad",
   "metadata": {},
   "outputs": [
    {
     "name": "stdout",
     "output_type": "stream",
     "text": [
      "There are 2 B grades in the list.\n",
      "There are 3 C grades in the list.\n",
      "And there are 0 F grades in the list.\n"
     ]
    }
   ],
   "source": [
    "# Create a list of strings.\n",
    "grades = [\"C\", \"B\", \"A\", \"D\", \"C\", \"B\", \"C\"]\n",
    "\n",
    "# Count the B's\n",
    "b_grades = grades.count(\"B\")\n",
    "\n",
    "# Use a variable for value to count.\n",
    "look_for = \"C\"\n",
    "c_grades = grades.count(look_for)\n",
    "\n",
    "print(\"There are \" + str(b_grades) + \" B grades in the list.\")\n",
    "print(\"There are \" + str(c_grades) + \" \" + look_for + \" grades in the list.\")\n",
    "\n",
    "# Count Fs too.\n",
    "print(\"And there are \" + str(grades.count(\"F\")) + \" F grades in the list.\")"
   ]
  },
  {
   "cell_type": "markdown",
   "id": "a803c342",
   "metadata": {},
   "source": [
    "# Finding a list item's index"
   ]
  },
  {
   "cell_type": "markdown",
   "id": "376f587f",
   "metadata": {},
   "source": [
    "Python offers the .index() that returns a number indicating the position."
   ]
  },
  {
   "cell_type": "raw",
   "id": "0ced5f42",
   "metadata": {},
   "source": [
    "listname.index(x)"
   ]
  },
  {
   "cell_type": "raw",
   "id": "5936bb43",
   "metadata": {},
   "source": [
    "Program will crash at f_index = grades.index(look_for), because there is no F in the list."
   ]
  },
  {
   "cell_type": "raw",
   "id": "baf41003",
   "metadata": {},
   "source": [
    "# Create a list of strings.\n",
    "grades = [\"C\", \"B\", \"A\", \"D\", \"C\", \"B\", \"C\"]\n",
    "\n",
    "# Find the index for \"B\"\n",
    "b_index = grades.index(\"B\")\n",
    "\n",
    "# Find the index for F\n",
    "look_for = \"F\"\n",
    "f_index = grades.index(look_for)\n",
    "\n",
    "# Show the results.\n",
    "print(\"The first B is index \" + str(b_index))\n",
    "print(\"There first \" + look_for + \" is at \" + str(f_index))"
   ]
  },
  {
   "cell_type": "markdown",
   "id": "76c1d862",
   "metadata": {},
   "source": [
    "###### The above error can be fixed using an if statement"
   ]
  },
  {
   "cell_type": "code",
   "execution_count": 17,
   "id": "8e79752d",
   "metadata": {},
   "outputs": [
    {
     "name": "stdout",
     "output_type": "stream",
     "text": [
      "F isn't in the list.\n"
     ]
    }
   ],
   "source": [
    "# Create a list of strings.\n",
    "grades = [\"C\", \"B\", \"A\", \"D\", \"C\", \"B\", \"C\"]\n",
    "\n",
    "# Decide what to look for \n",
    "look_for = \"F\"\n",
    "# See if the item is in the list.\n",
    "if look_for in grades:\n",
    "    # If it's in the list, get and show the index.\n",
    "    print(str(look_for) + \" is at index \" + str(grades.index(look_for)))\n",
    "else:\n",
    "    # If not in the list, don't even try for index number.\n",
    "    print(str(look_for) + \" isn't in the list.\")"
   ]
  },
  {
   "cell_type": "markdown",
   "id": "cc956588",
   "metadata": {},
   "source": [
    "# Alphabetizing and sorting lists"
   ]
  },
  {
   "cell_type": "raw",
   "id": "121fa625",
   "metadata": {},
   "source": [
    "Use .sort()"
   ]
  },
  {
   "cell_type": "markdown",
   "id": "4e5bb120",
   "metadata": {},
   "source": [
    "Syntax is:"
   ]
  },
  {
   "cell_type": "raw",
   "id": "06f662e1",
   "metadata": {},
   "source": [
    "listname.sort()"
   ]
  },
  {
   "cell_type": "markdown",
   "id": "0b202e72",
   "metadata": {},
   "source": [
    "##### Sorting strings and numbers"
   ]
  },
  {
   "cell_type": "code",
   "execution_count": 18,
   "id": "efeab120",
   "metadata": {},
   "outputs": [
    {
     "name": "stdout",
     "output_type": "stream",
     "text": [
      "['Alberto', 'Hong', 'Jake', 'Lupe', 'Tyler', 'Zara']\n",
      "[-4, 0, 11.23, 14, 56, 56, 99]\n"
     ]
    }
   ],
   "source": [
    "# Create a list of strings.\n",
    "names = [\"Zara\", \"Lupe\", \"Hong\", \"Alberto\", \"Jake\", \"Tyler\"]\n",
    "# Create a list of numbers.\n",
    "numbers = [14, 0, 56, -4, 99, 56, 11.23]\n",
    "\n",
    "# Sort the names list\n",
    "names.sort()\n",
    "# Sort the numbes list\n",
    "numbers.sort()\n",
    "\n",
    "# Show the results\n",
    "print(names)\n",
    "print(numbers)"
   ]
  },
  {
   "cell_type": "markdown",
   "id": "2e421f9b",
   "metadata": {},
   "source": [
    "##### Use a date module to sort dates"
   ]
  },
  {
   "cell_type": "raw",
   "id": "4ac9bdc4",
   "metadata": {},
   "source": [
    "dates = [dt.date(2020,12,31), dt.date(2018,2,28), dt.date(2020,1,1)]"
   ]
  },
  {
   "cell_type": "raw",
   "id": "32e4011a",
   "metadata": {},
   "source": [
    "datelist = []"
   ]
  },
  {
   "cell_type": "markdown",
   "id": "39ca7ac2",
   "metadata": {},
   "source": [
    "##### Sorting and displaying dates in a nice format"
   ]
  },
  {
   "cell_type": "code",
   "execution_count": 22,
   "id": "da879b8c",
   "metadata": {},
   "outputs": [
    {
     "name": "stdout",
     "output_type": "stream",
     "text": [
      "02/28/2018\n",
      "01/31/2019\n",
      "01/01/2020\n",
      "12/31/2020\n"
     ]
    }
   ],
   "source": [
    "# Need this module for the dates.\n",
    "import datetime as dt\n",
    "\n",
    "# Create a list of dates, empty for starters\n",
    "datelist = []\n",
    "# Append dates one at time so code is easier to read.\n",
    "datelist.append(dt.date(2020,12,31))\n",
    "datelist.append(dt.date(2019,1,31))\n",
    "datelist.append(dt.date(2018,2,28))\n",
    "datelist.append(dt.date(2020,1,1))\n",
    "\n",
    "# Sort the dates (earliest to latest) and show formatted.\n",
    "datelist.sort()\n",
    "for date in datelist:\n",
    "    print(f\"{date:%m/%d/%Y}\")"
   ]
  },
  {
   "cell_type": "markdown",
   "id": "90bf1025",
   "metadata": {},
   "source": [
    "Use reverse=True inside sort() parentheses and don't forget making the first an uppercase. "
   ]
  },
  {
   "cell_type": "code",
   "execution_count": 23,
   "id": "7b23e9ef",
   "metadata": {},
   "outputs": [
    {
     "name": "stdout",
     "output_type": "stream",
     "text": [
      "['Zara', 'Tyler', 'Lupe', 'Jake', 'Hong', 'Alberto']\n",
      "\n",
      "[99, 56, 56, 14, 11.23, 0, -4]\n",
      "\n",
      "12/31/2020\n",
      "01/01/2020\n",
      "01/31/2019\n",
      "02/28/2018\n"
     ]
    }
   ],
   "source": [
    "# Need this modules for the dates.\n",
    "import datetime as dt\n",
    "\n",
    "# Create a list of strings.\n",
    "names = [\"Zara\", \"Lupe\", \"Hong\", \"Alberto\", \"Jake\", \"Tyler\"]\n",
    "\n",
    "# Create a list of numbers.\n",
    "numbers = [14, 0, 56, -4, 99, 56, 11.23]\n",
    "\n",
    "# Create a list of dates, empty for startes because code is long.\n",
    "datelist = []\n",
    "datelist.append(dt.date(2020,12,31))\n",
    "datelist.append(dt.date(2019,1,31))\n",
    "datelist.append(dt.date(2018,2,28))\n",
    "datelist.append(dt.date(2020,1,1))\n",
    "\n",
    "# Sort strings in reverse order (Z to A) and show.\n",
    "names.sort(reverse=True)\n",
    "print(names)\n",
    "print() # This just adds a blank line to the output.\n",
    "\n",
    "# Sort numbers in reverse order (largest to smallest) and show.\n",
    "numbers.sort(reverse=True)\n",
    "print(numbers)\n",
    "print() # This just adds a blank line to the output.\n",
    "\n",
    "# Sort the dates in reverse order (latest to earliest) and show formatted.\n",
    "# Use a for loop.\n",
    "datelist.sort(reverse=True)\n",
    "for date in datelist:\n",
    "    print(f\"{date:%m/%d/%Y}\")\n"
   ]
  },
  {
   "cell_type": "markdown",
   "id": "3ec96b60",
   "metadata": {},
   "source": [
    "# Reversing a list"
   ]
  },
  {
   "cell_type": "markdown",
   "id": "86854ca7",
   "metadata": {},
   "source": [
    "Use the .reverse method to reverse items in the list no matter their order."
   ]
  },
  {
   "cell_type": "code",
   "execution_count": 24,
   "id": "6959d66b",
   "metadata": {},
   "outputs": [
    {
     "name": "stdout",
     "output_type": "stream",
     "text": [
      "['Jake', 'Alberto', 'Hong', 'Lupe', 'Zara']\n"
     ]
    }
   ],
   "source": [
    "# Create a list of strings.\n",
    "names = [\"Zara\", \"Lupe\", \"Hong\", \"Alberto\", \"Jake\"]\n",
    "# Reverse the list\n",
    "names.reverse()\n",
    "# Print the list\n",
    "print(names)"
   ]
  },
  {
   "cell_type": "markdown",
   "id": "3bb8711f",
   "metadata": {},
   "source": [
    "# Copying a list"
   ]
  },
  {
   "cell_type": "markdown",
   "id": "183dc925",
   "metadata": {},
   "source": [
    "Use .copy() to make a copy and manipulate the copy not the original list."
   ]
  },
  {
   "cell_type": "code",
   "execution_count": 25,
   "id": "5f220a7b",
   "metadata": {},
   "outputs": [
    {
     "name": "stdout",
     "output_type": "stream",
     "text": [
      "['Zara', 'Lupe', 'Hong', 'Alberto', 'Jake']\n",
      "['Jake', 'Alberto', 'Hong', 'Lupe', 'Zara']\n"
     ]
    }
   ],
   "source": [
    "# Create a list of strings.\n",
    "names = [\"Zara\", \"Lupe\", \"Hong\", \"Alberto\", \"Jake\"]\n",
    "\n",
    "# Make a copy of the list.\n",
    "backward_names = names.copy()\n",
    "# Reverse the copy\n",
    "backward_names.reverse()\n",
    "\n",
    "# Print the list\n",
    "print(names)\n",
    "print(backward_names)"
   ]
  },
  {
   "cell_type": "markdown",
   "id": "98a34981",
   "metadata": {},
   "source": [
    "# Methods for working with lists"
   ]
  },
  {
   "cell_type": "raw",
   "id": "c1e9d4c1",
   "metadata": {},
   "source": [
    "append(): Adds an item to the end of the list.\n",
    "\n",
    "clear(): Remove all items from the list, leaving it empty.\n",
    "\n",
    "copy(): Makes a copy of a list.\n",
    "\n",
    "count(): Counts how many times an element appears in a list.\n",
    "\n",
    "extend(): Appends the items from one list to the end of another list.\n",
    "\n",
    "index(): Returns the index number(position) of an element within a list.\n",
    "\n",
    "insert(): Insert an item in a list at a specific position.\n",
    "\n",
    "pop(): Remove an element from the list, and provides a copy of that item that\n",
    "you can store in a variable.\n",
    "\n",
    "remove(): Removes one item from the list.\n",
    "\n",
    "reverse(): Reverse the order of items in the list.\n",
    "\n",
    "sort(): Sort the list in the ascending order. put reverse = True inside the \n",
    "parentheses to sort in descending order.\n"
   ]
  },
  {
   "cell_type": "markdown",
   "id": "056aa630",
   "metadata": {},
   "source": [
    "# What's a Tuple and Who Cares?"
   ]
  },
  {
   "cell_type": "markdown",
   "id": "54c45d04",
   "metadata": {},
   "source": [
    "tuple is an immutable list or an unchangable list."
   ]
  },
  {
   "cell_type": "markdown",
   "id": "01ed0cbd",
   "metadata": {},
   "source": [
    "You create a tuple in the same way you create a list except you don't use square brackets but you use parentheses ()"
   ]
  },
  {
   "cell_type": "markdown",
   "id": "15499a63",
   "metadata": {},
   "source": [
    "Syntax is:"
   ]
  },
  {
   "cell_type": "code",
   "execution_count": 26,
   "id": "152f24e6",
   "metadata": {},
   "outputs": [],
   "source": [
    "prices = (29.95, 9.98, 4.95, 79.98, 2.95)"
   ]
  },
  {
   "cell_type": "markdown",
   "id": "6bfde5e0",
   "metadata": {},
   "source": [
    "A tuple can't be modified but you can get the len of a tuple."
   ]
  },
  {
   "cell_type": "code",
   "execution_count": 27,
   "id": "3e2980c9",
   "metadata": {},
   "outputs": [
    {
     "name": "stdout",
     "output_type": "stream",
     "text": [
      "5\n"
     ]
    }
   ],
   "source": [
    "print(len(prices))"
   ]
  },
  {
   "cell_type": "markdown",
   "id": "188ca90f",
   "metadata": {},
   "source": [
    "You can use .count() to count how many times an item appear in a tuple."
   ]
  },
  {
   "cell_type": "code",
   "execution_count": 29,
   "id": "021bc627",
   "metadata": {},
   "outputs": [
    {
     "name": "stdout",
     "output_type": "stream",
     "text": [
      "1\n"
     ]
    }
   ],
   "source": [
    "print(prices.count(4.95))"
   ]
  },
  {
   "cell_type": "markdown",
   "id": "edd498bb",
   "metadata": {},
   "source": [
    "You can use in to see whether a value exist in a tuple."
   ]
  },
  {
   "cell_type": "code",
   "execution_count": 30,
   "id": "dfb7e8c7",
   "metadata": {},
   "outputs": [
    {
     "name": "stdout",
     "output_type": "stream",
     "text": [
      "True\n"
     ]
    }
   ],
   "source": [
    "print(4.95 in prices)"
   ]
  },
  {
   "cell_type": "markdown",
   "id": "003640e2",
   "metadata": {},
   "source": [
    "If an item exist in a tuple, you can get its index number."
   ]
  },
  {
   "cell_type": "code",
   "execution_count": 32,
   "id": "62525764",
   "metadata": {},
   "outputs": [
    {
     "name": "stdout",
     "output_type": "stream",
     "text": [
      "-1\n"
     ]
    }
   ],
   "source": [
    "look_for = 12345\n",
    "if look_for in prices:\n",
    "    position = prices.index(look_for)\n",
    "else:\n",
    "    position = -1\n",
    "print(position)"
   ]
  },
  {
   "cell_type": "markdown",
   "id": "bed0d127",
   "metadata": {},
   "source": [
    "You can loop through a tuple and display items in a tuple using format string."
   ]
  },
  {
   "cell_type": "code",
   "execution_count": 33,
   "id": "08984ba7",
   "metadata": {},
   "outputs": [
    {
     "name": "stdout",
     "output_type": "stream",
     "text": [
      "$29.95\n",
      "$9.98\n",
      "$4.95\n",
      "$79.98\n",
      "$2.95\n"
     ]
    }
   ],
   "source": [
    "# Loop through and display each item in the tuple.\n",
    "for price in prices:\n",
    "    print(f\"${price:.2f}\")"
   ]
  },
  {
   "cell_type": "markdown",
   "id": "93cd03f3",
   "metadata": {},
   "source": [
    "You cannot change the value of an item in tuple.\n",
    "If you do try to change an item in a tuple you get the following error message: \n",
    "##### TypeError: 'tuple' object does not support item assignment"
   ]
  },
  {
   "cell_type": "raw",
   "id": "ae83fe74",
   "metadata": {},
   "source": [
    "prices[1] = 234.56"
   ]
  },
  {
   "cell_type": "markdown",
   "id": "1c067928",
   "metadata": {},
   "source": [
    "# Working with Sets"
   ]
  },
  {
   "cell_type": "markdown",
   "id": "b1a93ca5",
   "metadata": {},
   "source": [
    "Use curly braces to define sets instead of square brackets for lists and parentheses for tuples. "
   ]
  },
  {
   "cell_type": "code",
   "execution_count": 36,
   "id": "232d80b9",
   "metadata": {},
   "outputs": [],
   "source": [
    "sample_set = {1.98, 98.9, 74.95, 2.5, 1, 16.3}"
   ]
  },
  {
   "cell_type": "markdown",
   "id": "6a3836a9",
   "metadata": {},
   "source": [
    "##### Sets are similar to lists and tuple in the following ways: The use len() to determine how many items in a set, they use in to determine whether item is in the set but you cannot get an item in a set based on its index number, nor can you change an item that is already in a set. You cannot change the order of items in a set either."
   ]
  },
  {
   "cell_type": "markdown",
   "id": "c144b2d6",
   "metadata": {},
   "source": [
    "You can add a single item in a set using .add()"
   ]
  },
  {
   "cell_type": "code",
   "execution_count": 38,
   "id": "7ba764af",
   "metadata": {},
   "outputs": [
    {
     "name": "stdout",
     "output_type": "stream",
     "text": [
      "{16.3, 1.98, 98.9, 2.5, 1, 74.95, 11.23}\n"
     ]
    }
   ],
   "source": [
    "sample_set.add(11.23)\n",
    "print(sample_set)"
   ]
  },
  {
   "cell_type": "code",
   "execution_count": 39,
   "id": "a731b975",
   "metadata": {},
   "outputs": [
    {
     "name": "stdout",
     "output_type": "stream",
     "text": [
      "{16.3, 1.98, 98.9, 2.5, 1, 74.95, 11.23, 13.23}\n"
     ]
    }
   ],
   "source": [
    "sample_set.add(13.23)\n",
    "print(sample_set)"
   ]
  },
  {
   "cell_type": "markdown",
   "id": "bf2af505",
   "metadata": {},
   "source": [
    "##### You can add multiple items in a set using .update(). But the items you are adding should be defined as a list in square [] brackets."
   ]
  },
  {
   "cell_type": "code",
   "execution_count": 41,
   "id": "6408040c",
   "metadata": {},
   "outputs": [
    {
     "name": "stdout",
     "output_type": "stream",
     "text": [
      "{1.98, 2.5, 1, 2.98, 74.95, 11.23, 13.23, 16.3, 88, 98.9, 123.45}\n"
     ]
    }
   ],
   "source": [
    "sample_set.update([88, 123.45, 2.98])\n",
    "print(sample_set)"
   ]
  },
  {
   "cell_type": "markdown",
   "id": "d61bc15d",
   "metadata": {},
   "source": [
    "You can copy a set but the items may not be the same as in the original set."
   ]
  },
  {
   "cell_type": "code",
   "execution_count": 43,
   "id": "a506b64a",
   "metadata": {},
   "outputs": [
    {
     "name": "stdout",
     "output_type": "stream",
     "text": [
      "{16.3, 1.98, 98.9, 2.5, 1, 74.95}\n",
      "{16.3, 1.98, 98.9, 2.5, 1, 74.95}\n"
     ]
    }
   ],
   "source": [
    "# Define a set named sample_set.\n",
    "sample_set = {1.98, 98.9, 74.95, 2.5, 1, 16.3}\n",
    "# Show the whole set\n",
    "print(sample_set)\n",
    "# Make a copy and shoe the copy.\n",
    "ss2 = sample_set.copy()\n",
    "print(ss2)"
   ]
  },
  {
   "cell_type": "markdown",
   "id": "14571e6b",
   "metadata": {},
   "source": [
    "You can loop through a set and display its content formatted with with f-strings.\n",
    "List and tuple are two of the most commonly used data structures. A fourth and a very widely used Python data structure is the data dictionary."
   ]
  },
  {
   "cell_type": "markdown",
   "id": "b25f4627",
   "metadata": {},
   "source": [
    "### Playing about with Python sets"
   ]
  },
  {
   "cell_type": "code",
   "execution_count": 44,
   "id": "d39c5f44",
   "metadata": {},
   "outputs": [
    {
     "name": "stdout",
     "output_type": "stream",
     "text": [
      "{16.3, 1.98, 98.9, 2.5, 1, 74.95}\n",
      "6\n",
      "True\n",
      "\n",
      "Sample set after .add() and .update()\n",
      "{1.98, 2.5, 1, 2.98, 74.95, 11.23, 16.3, 88, 98.9, 123.95}\n",
      "\n",
      "Loop through set and print each item formatted.\n",
      "  1.98\n",
      "  2.50\n",
      "  1.00\n",
      "  2.98\n",
      " 74.95\n",
      " 11.23\n",
      " 16.30\n",
      " 88.00\n",
      " 98.90\n",
      "123.95\n"
     ]
    }
   ],
   "source": [
    "# Define a set named sample_set\n",
    "sample_set = {1.98, 98.9, 74.95, 2.5, 1, 16.3}\n",
    "# Show the whole set\n",
    "print(sample_set)\n",
    "\n",
    "# Use len to get the lenght of a set.\n",
    "print(len(sample_set))\n",
    "\n",
    "# Use in to determine if the set contains a value\n",
    "print(74.95 in sample_set)\n",
    "\n",
    "# Use add() to add one item to a set.\n",
    "sample_set.add(11.23)\n",
    "\n",
    "# Use upadate() to add a [list] to a set\n",
    "sample_set.update([88, 123.95, 2.98])\n",
    "\n",
    "print(\"\\nSample set after .add() and .update()\")\n",
    "print(sample_set)\n",
    "\n",
    "# Loop through the set and print each item right-alighed and foramtted.\n",
    "print(\"\\nLoop through set and print each item formatted.\")\n",
    "for price in sample_set:\n",
    "    print(f\"{price:>6.2f}\")"
   ]
  },
  {
   "cell_type": "markdown",
   "id": "ec26e9f3",
   "metadata": {},
   "source": [
    "# Chapter 4  "
   ]
  },
  {
   "cell_type": "markdown",
   "id": "cca38b0e",
   "metadata": {},
   "source": [
    "## Cruising Massive Data with Dictionaries"
   ]
  },
  {
   "cell_type": "markdown",
   "id": "ded7c34a",
   "metadata": {},
   "source": [
    "A data dictionary with keys in the left column, values in the right."
   ]
  },
  {
   "cell_type": "raw",
   "id": "8059892a",
   "metadata": {},
   "source": [
    "\"htanaka\"   = \"Haru Tanaka\"\n",
    "\"ppatel\"    = \"Priya Pate\"\n",
    "\"bagarcia\"  = \"Benjamin Alberto Garcia\"\n",
    "\"zmin\"      = \"Zhang Min\"\n",
    "\"afarooqi\"  = \"Ayesha Farooqi\"\n",
    "\"hajackson\" = \"Hanna Jackson\"\n",
    "\"papatel    = Praytyush Aarav Patel\"\n",
    "\"hrjackson\" = Henry Jackson\""
   ]
  },
  {
   "cell_type": "markdown",
   "id": "5676390e",
   "metadata": {},
   "source": [
    "A data dictionary with lists as values."
   ]
  },
  {
   "cell_type": "raw",
   "id": "47de65a2",
   "metadata": {},
   "source": [
    "\"htanaka\"   = [\"Haru Tanaka\",2000,0,True]\n",
    "\"ppatel\"    = [\"Priya Pate\",2015,1,False]\n",
    "\"bagarcia\"  = [\"Benjamin Alberto Garcia\",1999,2,True]\n",
    "\"zmin\"      = [\"Zhang Min\",2017,0,False]\n",
    "\"afarooqi\"  = [\"Ayesha Farooqi\",2001,1,True]\n",
    "\"hajackson\" = [\"Hanna Jackson\",1998,0,False]\n",
    "\"papatel\"   = [\"Praytyush Aarav Patel\",2011,2,True]\n",
    "\"hrjackson\" = [\"Henry Jackson\",2016,0,False]"
   ]
  },
  {
   "cell_type": "markdown",
   "id": "30b6dce1",
   "metadata": {},
   "source": [
    "A data dictionary for one employee."
   ]
  },
  {
   "cell_type": "raw",
   "id": "6a90dccf",
   "metadata": {},
   "source": [
    "'htanaka'=  'full_name'        = 'Haru Tanaka'\n",
    "            'year_hired'       = 2000\n",
    "            'dependents'       = 0\n",
    "            'has_company_cell' = True"
   ]
  },
  {
   "cell_type": "raw",
   "id": "38c38fdf",
   "metadata": {},
   "source": [
    "ppatel.full_name        = 'priya Patel'\n",
    "ppatel.year_hired       = 2015\n",
    "ppatel,dependents       = 1\n",
    "ppatel.has_company_cell = True"
   ]
  },
  {
   "cell_type": "markdown",
   "id": "83058925",
   "metadata": {},
   "source": [
    "The key name is more descriptive than using an index thats based on position."
   ]
  },
  {
   "cell_type": "raw",
   "id": "7a369e00",
   "metadata": {},
   "source": [
    "ppatel[0]    = 'Priya Patel'\n",
    "ppatel[1]    = 2015\n",
    "ppatel[2]    = 1\n",
    "ppatel[3]    = True"
   ]
  },
  {
   "cell_type": "markdown",
   "id": "feafba7a",
   "metadata": {},
   "source": [
    "# Creating a Data Dictionary"
   ]
  },
  {
   "cell_type": "markdown",
   "id": "d5cc1832",
   "metadata": {},
   "source": [
    "The syntax is as follows:"
   ]
  },
  {
   "cell_type": "raw",
   "id": "8799c44f",
   "metadata": {},
   "source": [
    "name = {key:value, key:value, key:value, key:value, ...}"
   ]
  },
  {
   "cell_type": "markdown",
   "id": "dcf7c76c",
   "metadata": {},
   "source": [
    "Or you can use the below option for readability"
   ]
  },
  {
   "cell_type": "raw",
   "id": "eafc02c1",
   "metadata": {},
   "source": [
    "name = {\n",
    "    key:value, \n",
    "    key:value, \n",
    "    key:value, \n",
    "    key:value, \n",
    "    ...\n",
    "}"
   ]
  },
  {
   "cell_type": "code",
   "execution_count": 3,
   "id": "4225f663",
   "metadata": {},
   "outputs": [],
   "source": [
    "people = {\n",
    "    'htanaka': 'Haru Tanaka',\n",
    "    'ppatel' : 'Priya Pate',\n",
    "    'bagarcia': 'Benjamin Alberto Garcia',\n",
    "    'zmin': 'Zhang Min',\n",
    "    'afarooqi': 'Ayesha Farooqi',\n",
    "    'hajackson': 'Hanna Jackson',\n",
    "    'papatel':  'Praytyush Aarav Patel',\n",
    "    'hrjackson': 'Henry Jackson'\n",
    "}"
   ]
  },
  {
   "cell_type": "markdown",
   "id": "8efe6c24",
   "metadata": {},
   "source": [
    "# Accessing dictionary data"
   ]
  },
  {
   "cell_type": "raw",
   "id": "e8a73439",
   "metadata": {},
   "source": [
    "Use print(people) to print items in a dictionary"
   ]
  },
  {
   "cell_type": "code",
   "execution_count": 4,
   "id": "1f2f431d",
   "metadata": {},
   "outputs": [
    {
     "name": "stdout",
     "output_type": "stream",
     "text": [
      "{'htanaka': 'Haru Tanaka', 'ppatel': 'Priya Pate', 'bagarcia': 'Benjamin Alberto Garcia', 'zmin': 'Zhang Min', 'afarooqi': 'Ayesha Farooqi', 'hajackson': 'Hanna Jackson', 'papatel': 'Praytyush Aarav Patel', 'hrjackson': 'Henry Jackson'}\n"
     ]
    },
    {
     "data": {
      "text/plain": [
       "{'htanaka': 'Haru Tanaka',\n",
       " 'ppatel': 'Priya Pate',\n",
       " 'bagarcia': 'Benjamin Alberto Garcia',\n",
       " 'zmin': 'Zhang Min',\n",
       " 'afarooqi': 'Ayesha Farooqi',\n",
       " 'hajackson': 'Hanna Jackson',\n",
       " 'papatel': 'Praytyush Aarav Patel',\n",
       " 'hrjackson': 'Henry Jackson'}"
      ]
     },
     "execution_count": 4,
     "metadata": {},
     "output_type": "execute_result"
    }
   ],
   "source": [
    "print(people)\n",
    "{\n",
    "    'htanaka': 'Haru Tanaka',\n",
    "    'ppatel' : 'Priya Pate',\n",
    "    'bagarcia': 'Benjamin Alberto Garcia',\n",
    "    'zmin': 'Zhang Min',\n",
    "    'afarooqi': 'Ayesha Farooqi',\n",
    "    'hajackson': 'Hanna Jackson',\n",
    "    'papatel':  'Praytyush Aarav Patel',\n",
    "    'hrjackson': 'Henry Jackson'\n",
    "}"
   ]
  },
  {
   "cell_type": "markdown",
   "id": "14afe345",
   "metadata": {},
   "source": [
    "Use this syntax if you want a specific item in the dictionary."
   ]
  },
  {
   "cell_type": "raw",
   "id": "4bc85ddc",
   "metadata": {},
   "source": [
    "dictionaryname[key]"
   ]
  },
  {
   "cell_type": "markdown",
   "id": "b53edaf3",
   "metadata": {},
   "source": [
    "E.g."
   ]
  },
  {
   "cell_type": "raw",
   "id": "afa3f346",
   "metadata": {},
   "source": [
    "print(people['zmin'])"
   ]
  },
  {
   "cell_type": "markdown",
   "id": "9541ca6f",
   "metadata": {},
   "source": [
    "#### Printing the value of the zmin key in the people dictionary"
   ]
  },
  {
   "cell_type": "code",
   "execution_count": 2,
   "id": "e70cac52",
   "metadata": {},
   "outputs": [
    {
     "name": "stdout",
     "output_type": "stream",
     "text": [
      "Zhang Min\n"
     ]
    }
   ],
   "source": [
    "# Make a data dictionary named people\n",
    "people = {\n",
    "    'htanaka': 'Haru Tanaka',\n",
    "     'ppatel': 'Priya Pate',\n",
    "     'bagarcia': 'Benjamin Alberto Garcia',\n",
    "     'zmin': 'Zhang Min',\n",
    "     'afarooqi': 'Ayesha Farooqi',\n",
    "     'hajackson': 'Hanna Jackson',\n",
    "     'papatel': 'Praytyush Aarav Patel',\n",
    "     'hrjackson': 'Henry Jackson'\n",
    "}\n",
    "print(people['zmin'])"
   ]
  },
  {
   "cell_type": "code",
   "execution_count": 3,
   "id": "6c1bccb3",
   "metadata": {},
   "outputs": [
    {
     "name": "stdout",
     "output_type": "stream",
     "text": [
      "Zhang Min\n"
     ]
    }
   ],
   "source": [
    "# Make a data dictionary named people\n",
    "people = {\n",
    "    'htanaka': 'Haru Tanaka',\n",
    "     'ppatel': 'Priya Pate',\n",
    "     'bagarcia': 'Benjamin Alberto Garcia',\n",
    "     'zmin': 'Zhang Min',\n",
    "     'afarooqi': 'Ayesha Farooqi',\n",
    "     'hajackson': 'Hanna Jackson',\n",
    "     'papatel': 'Praytyush Aarav Patel',\n",
    "     'hrjackson': 'Henry Jackson'\n",
    "}\n",
    "\n",
    "# Look for a person\n",
    "person = 'zmin'\n",
    "print(people[person])"
   ]
  },
  {
   "cell_type": "code",
   "execution_count": 8,
   "id": "5b4f62ff",
   "metadata": {},
   "outputs": [
    {
     "name": "stdout",
     "output_type": "stream",
     "text": [
      "Henry Jackson\n"
     ]
    }
   ],
   "source": [
    "# Make a data dictionary named people\n",
    "people = {\n",
    "    'htanaka': 'Haru Tanaka',\n",
    "     'ppatel': 'Priya Pate',\n",
    "     'bagarcia': 'Benjamin Alberto Garcia',\n",
    "     'zmin': 'Zhang Min',\n",
    "     'afarooqi': 'Ayesha Farooqi',\n",
    "     'hajackson': 'Hanna Jackson',\n",
    "     'papatel': 'Praytyush Aarav Patel',\n",
    "     'hrjackson': 'Henry Jackson'\n",
    "}\n",
    "# Look for a person\n",
    "person = 'hrjackson'\n",
    "print(people[person])"
   ]
  },
  {
   "cell_type": "markdown",
   "id": "e8cf1f06",
   "metadata": {},
   "source": [
    "##### Python's way of saying there's no scheedledorp "
   ]
  },
  {
   "cell_type": "code",
   "execution_count": 9,
   "id": "5f5cdbad",
   "metadata": {},
   "outputs": [
    {
     "ename": "KeyError",
     "evalue": "'scheedledorp'",
     "output_type": "error",
     "traceback": [
      "\u001b[1;31m---------------------------------------------------------------------------\u001b[0m",
      "\u001b[1;31mKeyError\u001b[0m                                  Traceback (most recent call last)",
      "\u001b[1;32m~\\AppData\\Local\\Temp\\ipykernel_3256\\1150732386.py\u001b[0m in \u001b[0;36m<module>\u001b[1;34m\u001b[0m\n\u001b[0;32m     12\u001b[0m \u001b[1;31m# Look for a person\u001b[0m\u001b[1;33m\u001b[0m\u001b[1;33m\u001b[0m\u001b[0m\n\u001b[0;32m     13\u001b[0m \u001b[0mperson\u001b[0m \u001b[1;33m=\u001b[0m \u001b[1;34m'scheedledorp'\u001b[0m\u001b[1;33m\u001b[0m\u001b[1;33m\u001b[0m\u001b[0m\n\u001b[1;32m---> 14\u001b[1;33m \u001b[0mprint\u001b[0m\u001b[1;33m(\u001b[0m\u001b[0mpeople\u001b[0m\u001b[1;33m[\u001b[0m\u001b[0mperson\u001b[0m\u001b[1;33m]\u001b[0m\u001b[1;33m)\u001b[0m\u001b[1;33m\u001b[0m\u001b[1;33m\u001b[0m\u001b[0m\n\u001b[0m",
      "\u001b[1;31mKeyError\u001b[0m: 'scheedledorp'"
     ]
    }
   ],
   "source": [
    "# Make a data dictionary named people\n",
    "people = {\n",
    "    'htanaka': 'Haru Tanaka',\n",
    "     'ppatel': 'Priya Pate',\n",
    "     'bagarcia': 'Benjamin Alberto Garcia',\n",
    "     'zmin': 'Zhang Min',\n",
    "     'afarooqi': 'Ayesha Farooqi',\n",
    "     'hajackson': 'Hanna Jackson',\n",
    "     'papatel': 'Praytyush Aarav Patel',\n",
    "     'hrjackson': 'Henry Jackson'\n",
    "}\n",
    "# Look for a person\n",
    "person = 'scheedledorp'\n",
    "print(people[person])"
   ]
  },
  {
   "cell_type": "markdown",
   "id": "c6b65604",
   "metadata": {},
   "source": [
    "### Getiing the lenght of a dictionary"
   ]
  },
  {
   "cell_type": "markdown",
   "id": "cc23c8a6",
   "metadata": {},
   "source": [
    "##### Syntax: "
   ]
  },
  {
   "cell_type": "raw",
   "id": "1f2903eb",
   "metadata": {},
   "source": [
    "len(dictionaryname)"
   ]
  },
  {
   "cell_type": "code",
   "execution_count": 1,
   "id": "1f75e593",
   "metadata": {},
   "outputs": [
    {
     "name": "stdout",
     "output_type": "stream",
     "text": [
      "8\n"
     ]
    }
   ],
   "source": [
    "people = {\n",
    "    'htanaka': 'Haru Tanaka',\n",
    "     'ppatel': 'Priya Pate',\n",
    "     'bagarcia': 'Benjamin Alberto Garcia',\n",
    "     'zmin': 'Zhang Min',\n",
    "     'afarooqi': 'Ayesha Farooqi',\n",
    "     'hajackson': 'Hanna Jackson',\n",
    "     'papatel': 'Praytyush Aarav Patel',\n",
    "     'hrjackson': 'Henry Jackson'\n",
    "}\n",
    "# Count the number of key: value pairs and put in a variable.\n",
    "howmany = len(people)\n",
    "# Show how many.\n",
    "print(howmany)"
   ]
  },
  {
   "cell_type": "markdown",
   "id": "9c17b229",
   "metadata": {},
   "source": [
    "## Seeing whether a key exists in a dictionary"
   ]
  },
  {
   "cell_type": "code",
   "execution_count": 3,
   "id": "855d03e0",
   "metadata": {},
   "outputs": [
    {
     "name": "stdout",
     "output_type": "stream",
     "text": [
      "True\n",
      "False\n"
     ]
    }
   ],
   "source": [
    "# Make a data dictionary named people\n",
    "people = {\n",
    "    'htanaka': 'Haru Tanaka',\n",
    "     'ppatel': 'Priya Pate',\n",
    "     'bagarcia': 'Benjamin Alberto Garcia',\n",
    "     'zmin': 'Zhang Min',\n",
    "     'afarooqi': 'Ayesha Farooqi',\n",
    "     'hajackson': 'Hanna Jackson',\n",
    "     'papatel': 'Praytyush Aarav Patel',\n",
    "     'hrjackson': 'Henry Jackson'\n",
    "}\n",
    "\n",
    "# Is there an hajackson in the people dictionary?\n",
    "print('hajackson' in people)\n",
    "\n",
    "# Is there an scheedledorp in the people dictionary?\n",
    "print('scheedledorp' in people)\n"
   ]
  },
  {
   "cell_type": "markdown",
   "id": "48648cfb",
   "metadata": {},
   "source": [
    "## Getting dictionary data with get()"
   ]
  },
  {
   "cell_type": "markdown",
   "id": "d2c8eae5",
   "metadata": {},
   "source": [
    "##### Syntax"
   ]
  },
  {
   "cell_type": "raw",
   "id": "a1013596",
   "metadata": {},
   "source": [
    "dictionaryname.get(key)"
   ]
  },
  {
   "cell_type": "raw",
   "id": "3e53629d",
   "metadata": {},
   "source": [
    "# Look for a person\n",
    "person = 'bagarcia'\n",
    "print(people.get(person))"
   ]
  },
  {
   "cell_type": "markdown",
   "id": "150f50ea",
   "metadata": {},
   "source": [
    "##### Python's way of saying there is no scheedlodorp in the dictionary"
   ]
  },
  {
   "cell_type": "code",
   "execution_count": 4,
   "id": "4c5bf7e3",
   "metadata": {},
   "outputs": [
    {
     "name": "stdout",
     "output_type": "stream",
     "text": [
      "None\n"
     ]
    }
   ],
   "source": [
    "# Make a data dictionary named people\n",
    "people = {\n",
    "    'htanaka': 'Haru Tanaka',\n",
    "     'ppatel': 'Priya Pate',\n",
    "     'bagarcia': 'Benjamin Alberto Garcia',\n",
    "     'zmin': 'Zhang Min',\n",
    "     'afarooqi': 'Ayesha Farooqi',\n",
    "     'hajackson': 'Hanna Jackson',\n",
    "     'papatel': 'Praytyush Aarav Patel',\n",
    "     'hrjackson': 'Henry Jackson'\n",
    "}\n",
    "\n",
    "# look for a person.\n",
    "person = 'scheedledorp'\n",
    "print(people.get(person))"
   ]
  },
  {
   "cell_type": "markdown",
   "id": "7cc09516",
   "metadata": {},
   "source": [
    "##### Lets make present something better than none"
   ]
  },
  {
   "cell_type": "code",
   "execution_count": 6,
   "id": "c318ef9a",
   "metadata": {},
   "outputs": [
    {
     "name": "stdout",
     "output_type": "stream",
     "text": [
      "Unbeknownst to this dictionary\n"
     ]
    }
   ],
   "source": [
    "# Make a data dictionary named people\n",
    "people = {\n",
    "    'htanaka': 'Haru Tanaka',\n",
    "     'ppatel': 'Priya Pate',\n",
    "     'bagarcia': 'Benjamin Alberto Garcia',\n",
    "     'zmin': 'Zhang Min',\n",
    "     'afarooqi': 'Ayesha Farooqi',\n",
    "     'hajackson': 'Hanna Jackson',\n",
    "     'papatel': 'Praytyush Aarav Patel',\n",
    "     'hrjackson': 'Henry Jackson'\n",
    "}\n",
    "\n",
    "# look for a person.\n",
    "person = 'scheedledorp'\n",
    "print(people.get('scheedledorp','Unbeknownst to this dictionary'))"
   ]
  },
  {
   "cell_type": "markdown",
   "id": "39926d8b",
   "metadata": {},
   "source": [
    "## Changing the value of a key"
   ]
  },
  {
   "cell_type": "markdown",
   "id": "d7b4cefe",
   "metadata": {},
   "source": [
    "##### Syntax:"
   ]
  },
  {
   "cell_type": "raw",
   "id": "a26d13d1",
   "metadata": {},
   "source": [
    "dictionaryname[key] = newvalue"
   ]
  },
  {
   "cell_type": "code",
   "execution_count": 7,
   "id": "7d32f507",
   "metadata": {},
   "outputs": [
    {
     "name": "stdout",
     "output_type": "stream",
     "text": [
      "Hanna Jackson\n",
      "Hanna Jackson-Smith\n"
     ]
    }
   ],
   "source": [
    "# Print hajackson's current value.\n",
    "print(people['hajackson'])\n",
    "\n",
    "# Change the value of hajackson's key.\n",
    "people['hajackson'] = \"Hanna Jackson-Smith\"\n",
    "\n",
    "# Print the hajackson key to verify that the value has changed.\n",
    "print(people['hajackson'])"
   ]
  },
  {
   "cell_type": "markdown",
   "id": "d90e6e1c",
   "metadata": {},
   "source": [
    "## Adding or changing dictionary data"
   ]
  },
  {
   "cell_type": "markdown",
   "id": "0311099e",
   "metadata": {},
   "source": [
    "##### Use the update method"
   ]
  },
  {
   "cell_type": "raw",
   "id": "ce7cdbfb",
   "metadata": {},
   "source": [
    "dictionaryname.update(key, value)"
   ]
  },
  {
   "cell_type": "code",
   "execution_count": 11,
   "id": "c5fca983",
   "metadata": {},
   "outputs": [
    {
     "name": "stdout",
     "output_type": "stream",
     "text": [
      "{'papatel': 'Praytyush Aarav Patel', 'hrjackson': 'Henry Jackson', 'hr jackson': 'Henrietta Jackson'}\n",
      "{'papatel': 'Praytyush Aarav Patel', 'hrjackson': 'Henry Jackson', 'hr jackson': 'Henrietta Jackson', 'wwigging': 'Wanda Wiggings'}\n"
     ]
    }
   ],
   "source": [
    "# Make a data dictionary named people\n",
    "people = {\n",
    "     'papatel': 'Praytyush Aarav Patel',\n",
    "     'hrjackson': 'Henry Jackson'\n",
    "}\n",
    "\n",
    "# Change the value of the hr jackson key.\n",
    "people.update({'hr jackson':'Henrietta Jackson'})\n",
    "print(people)\n",
    "\n",
    "# Update the dictionary with a new property: value pair.\n",
    "people.update({'wwigging':'Wanda Wiggings'})\n",
    "print(people)"
   ]
  },
  {
   "cell_type": "code",
   "execution_count": 14,
   "id": "17da4918",
   "metadata": {},
   "outputs": [
    {
     "name": "stdout",
     "output_type": "stream",
     "text": [
      "{'papatel': 'Praytyush Aarav Patel', 'hrjackson': 'Henry Jackson', 'wwigging': 'Wanda Wiggings'}\n",
      "papatel = Praytyush Aarav Patel\n",
      "hrjackson = Henry Jackson\n",
      "wwigging = Wanda Wiggings\n"
     ]
    }
   ],
   "source": [
    "# Make a data dictionary named people\n",
    "people = {\n",
    "     'papatel': 'Praytyush Aarav Patel',\n",
    "     'hrjackson': 'Henry Jackson'\n",
    "}\n",
    "\n",
    "# Change the value of the hr jackson key.\n",
    "#people.update({'hr jackson':'Henrietta Jackson'})\n",
    "#print(people)\n",
    "\n",
    "# Update the dictionary with a new property: value pair.\n",
    "people.update({'wwigging':'Wanda Wiggings'})\n",
    "print(people)\n",
    "\n",
    "# Show what's in the data dictionary now.\n",
    "for person in people.keys():\n",
    "    print(person + \" = \" + people[person])"
   ]
  },
  {
   "cell_type": "markdown",
   "id": "be75aa5e",
   "metadata": {},
   "source": [
    "## Looping through a Dictionary"
   ]
  },
  {
   "cell_type": "code",
   "execution_count": 15,
   "id": "482a2601",
   "metadata": {},
   "outputs": [
    {
     "name": "stdout",
     "output_type": "stream",
     "text": [
      "papatel\n",
      "hrjackson\n",
      "wwigging\n"
     ]
    }
   ],
   "source": [
    "for person in people:\n",
    "    print(person)"
   ]
  },
  {
   "cell_type": "code",
   "execution_count": 16,
   "id": "51bc6077",
   "metadata": {},
   "outputs": [
    {
     "name": "stdout",
     "output_type": "stream",
     "text": [
      "Praytyush Aarav Patel\n",
      "Henry Jackson\n",
      "Wanda Wiggings\n"
     ]
    }
   ],
   "source": [
    "for person in people:\n",
    "    print(people[person])"
   ]
  },
  {
   "cell_type": "code",
   "execution_count": 17,
   "id": "1b9a8780",
   "metadata": {},
   "outputs": [
    {
     "name": "stdout",
     "output_type": "stream",
     "text": [
      "Praytyush Aarav Patel\n",
      "Henry Jackson\n",
      "Wanda Wiggings\n"
     ]
    }
   ],
   "source": [
    "for person in people.values():\n",
    "    print(person)"
   ]
  },
  {
   "cell_type": "markdown",
   "id": "cea92680",
   "metadata": {},
   "source": [
    "##### Looping through a dictionary with items"
   ]
  },
  {
   "cell_type": "code",
   "execution_count": 18,
   "id": "244a5606",
   "metadata": {},
   "outputs": [
    {
     "name": "stdout",
     "output_type": "stream",
     "text": [
      "htanaka  =  Haru Tanaka\n",
      "ppatel  =  Priya Pate\n",
      "bagarcia  =  Benjamin Alberto Garcia\n",
      "zmin  =  Zhang Min\n",
      "afarooqi  =  Ayesha Farooqi\n",
      "hajackson  =  Hanna Jackson\n",
      "papatel  =  Praytyush Aarav Patel\n",
      "hrjackson  =  Henry Jackson\n"
     ]
    }
   ],
   "source": [
    "# Make a data dictionary named people\n",
    "people = {\n",
    "    'htanaka': 'Haru Tanaka',\n",
    "     'ppatel': 'Priya Pate',\n",
    "     'bagarcia': 'Benjamin Alberto Garcia',\n",
    "     'zmin': 'Zhang Min',\n",
    "     'afarooqi': 'Ayesha Farooqi',\n",
    "     'hajackson': 'Hanna Jackson',\n",
    "     'papatel': 'Praytyush Aarav Patel',\n",
    "     'hrjackson': 'Henry Jackson'\n",
    "}\n",
    "\n",
    "# Looping through .items to gte the key and the value.\n",
    "for key, value in people.items():\n",
    "    # Show the and value with = in betwwen.\n",
    "    print(key, \" = \", value)"
   ]
  },
  {
   "cell_type": "markdown",
   "id": "b1d915b4",
   "metadata": {},
   "source": [
    "## Data Dictionary Methods"
   ]
  },
  {
   "cell_type": "markdown",
   "id": "5e8dbdd2",
   "metadata": {},
   "source": [
    "##### Copying a Dictionary"
   ]
  },
  {
   "cell_type": "markdown",
   "id": "1a480492",
   "metadata": {},
   "source": [
    "Use this syntax: newdictionaryname = dictionary"
   ]
  },
  {
   "cell_type": "code",
   "execution_count": 19,
   "id": "999d7d85",
   "metadata": {},
   "outputs": [
    {
     "name": "stdout",
     "output_type": "stream",
     "text": [
      "{'htanaka': 'Haru Tanaka', 'zmin': 'Zhang Min', 'afarooqi': 'Ayesha Farooqi'}\n",
      "{'htanaka': 'Haru Tanaka', 'zmin': 'Zhang Min', 'afarooqi': 'Ayesha Farooqi'}\n"
     ]
    }
   ],
   "source": [
    "# Define a dictionary\n",
    "people = {\n",
    "    'htanaka': 'Haru Tanaka',\n",
    "    'zmin': 'Zhang Min',\n",
    "    'afarooqi': 'Ayesha Farooqi',\n",
    "}\n",
    "\n",
    "# Make a copy of the people dictionay and put it in peep 2.\n",
    "peep2 = people.copy()\n",
    "\n",
    "# Show what is in both dictionaries\n",
    "print(people)\n",
    "print(peep2)\n",
    "\n",
    "\n"
   ]
  },
  {
   "cell_type": "markdown",
   "id": "e17e4470",
   "metadata": {},
   "source": [
    "## Deleting Dictionary Items"
   ]
  },
  {
   "cell_type": "raw",
   "id": "99be8780",
   "metadata": {},
   "source": [
    "The syntax is as follows:"
   ]
  },
  {
   "cell_type": "raw",
   "id": "a1bb7a66",
   "metadata": {},
   "source": [
    "del dictionaryname[key]"
   ]
  },
  {
   "cell_type": "code",
   "execution_count": 20,
   "id": "f7bc399c",
   "metadata": {},
   "outputs": [
    {
     "name": "stdout",
     "output_type": "stream",
     "text": [
      "{'htanaka': 'Haru Tanaka', 'zmin': 'Zhang Min', 'afarooqi': 'Ayesha Farooqi'}\n",
      "{'htanaka': 'Haru Tanaka', 'afarooqi': 'Ayesha Farooqi'}\n"
     ]
    }
   ],
   "source": [
    "# Define a dictionary named people.\n",
    "people = {\n",
    "    'htanaka': 'Haru Tanaka',\n",
    "    'zmin': 'Zhang Min',\n",
    "    'afarooqi': 'Ayesha Farooqi',\n",
    "}\n",
    "\n",
    "# Show original people dictionary.\n",
    "print(people)\n",
    "\n",
    "# Remove zmin from the dictionary.\n",
    "del people[\"zmin\"]\n",
    "\n",
    "# Show what's in people now.\n",
    "print(people)"
   ]
  },
  {
   "cell_type": "markdown",
   "id": "d845f5e5",
   "metadata": {},
   "source": [
    "##### To remove all key value pairs from a dictionary, without deleting the entire dictionary. "
   ]
  },
  {
   "cell_type": "raw",
   "id": "95dccdde",
   "metadata": {},
   "source": [
    "Here is the syntax:"
   ]
  },
  {
   "cell_type": "raw",
   "id": "bd28561d",
   "metadata": {},
   "source": [
    "dictionaryname.clear()"
   ]
  },
  {
   "cell_type": "code",
   "execution_count": 21,
   "id": "813f492e",
   "metadata": {},
   "outputs": [
    {
     "name": "stdout",
     "output_type": "stream",
     "text": [
      "{'htanaka': 'Haru Tanaka', 'zmin': 'Zhang Min', 'afarooqi': 'Ayesha Farooqi'}\n",
      "{}\n"
     ]
    }
   ],
   "source": [
    "# Define a dictionary named people.\n",
    "people = {\n",
    "    'htanaka': 'Haru Tanaka',\n",
    "    'zmin': 'Zhang Min',\n",
    "    'afarooqi': 'Ayesha Farooqi',\n",
    "}\n",
    "\n",
    "# Show original people dictionary.\n",
    "print(people)\n",
    "\n",
    "# Remove all data from the dictionary.\n",
    "people.clear()\n",
    "\n",
    "# Show what's in people now.\n",
    "print(people)"
   ]
  },
  {
   "cell_type": "markdown",
   "id": "07be40ed",
   "metadata": {},
   "source": [
    "## Using pop() with Data Dictionaries "
   ]
  },
  {
   "cell_type": "code",
   "execution_count": 22,
   "id": "751f76a7",
   "metadata": {},
   "outputs": [
    {
     "name": "stdout",
     "output_type": "stream",
     "text": [
      "{'htanaka': 'Haru Tanaka', 'zmin': 'Zhang Min', 'afarooqi': 'Ayesha Farooqi'}\n",
      "Zhang Min\n",
      "{'htanaka': 'Haru Tanaka', 'afarooqi': 'Ayesha Farooqi'}\n"
     ]
    }
   ],
   "source": [
    "# Define a dictionary named people.\n",
    "people = {\n",
    "    'htanaka': 'Haru Tanaka',\n",
    "    'zmin': 'Zhang Min',\n",
    "    'afarooqi': 'Ayesha Farooqi',\n",
    "}\n",
    "\n",
    "# Show original people dictionary.\n",
    "print(people)\n",
    "\n",
    "# Pop zmin from the dictionary, store its value  in adios variable\n",
    "adios = people.pop(\"zmin\")\n",
    "\n",
    "# Print the contents of adios and people.\n",
    "print(adios)\n",
    "print(people)"
   ]
  },
  {
   "cell_type": "raw",
   "id": "d3ebc6ed",
   "metadata": {},
   "source": [
    "Here is a syntax for pop() variation: dictionaryname = popitem()"
   ]
  },
  {
   "cell_type": "code",
   "execution_count": 23,
   "id": "fed78735",
   "metadata": {},
   "outputs": [
    {
     "name": "stdout",
     "output_type": "stream",
     "text": [
      "{'htanaka': 'Haru Tanaka', 'zmin': 'Zhang Min', 'afarooqi': 'Ayesha Farooqi'}\n",
      "('afarooqi', 'Ayesha Farooqi')\n",
      "{'htanaka': 'Haru Tanaka', 'zmin': 'Zhang Min'}\n"
     ]
    }
   ],
   "source": [
    "# Define a dictionary named people.\n",
    "people = {\n",
    "    'htanaka': 'Haru Tanaka',\n",
    "    'zmin': 'Zhang Min',\n",
    "    'afarooqi': 'Ayesha Farooqi',\n",
    "}\n",
    "\n",
    "# Show original people dictionary.\n",
    "print(people)\n",
    "\n",
    "# Pop zmin from the dictionary, store its value  in adios variable\n",
    "adios = people.popitem()\n",
    "\n",
    "# Print the contents of adios and people.\n",
    "print(adios)\n",
    "print(people)"
   ]
  },
  {
   "cell_type": "markdown",
   "id": "396c665c",
   "metadata": {},
   "source": [
    "## Fun with Multi-key Dictionaries"
   ]
  },
  {
   "cell_type": "code",
   "execution_count": 27,
   "id": "e5d4c8f4",
   "metadata": {},
   "outputs": [],
   "source": [
    "employee = {\n",
    "    'name' : 'Haru Tanaka',\n",
    "    'year_hired' : 2005,\n",
    "    'dob' : '11/23/1987',\n",
    "    'has_laptop' : False\n",
    "}"
   ]
  },
  {
   "cell_type": "code",
   "execution_count": 28,
   "id": "52157c92",
   "metadata": {},
   "outputs": [],
   "source": [
    "product = {\n",
    "    'name' : 'Ray-Ban Wayfarer Sunglasses',\n",
    "    'unit_price' : 112.99,\n",
    "    'taxable' : True,\n",
    "    'in_stock' : 10\n",
    "}"
   ]
  },
  {
   "cell_type": "code",
   "execution_count": 29,
   "id": "29da55d5",
   "metadata": {},
   "outputs": [],
   "source": [
    "product = {\n",
    "    'name' : 'Ray-Ban Wayfarer Sunglasses',\n",
    "    'unit_price' : 112.99,\n",
    "    'taxable' : True,\n",
    "    'in_stock' : 10,\n",
    "    'models' : ['Black', 'Tortose']\n",
    "}"
   ]
  },
  {
   "cell_type": "code",
   "execution_count": 30,
   "id": "e16155d5",
   "metadata": {},
   "outputs": [
    {
     "name": "stdout",
     "output_type": "stream",
     "text": [
      "Ray-Ban Wayfarer Sunglasses\n",
      "112.99\n",
      "True\n",
      "10\n",
      "['Black', 'Tortose']\n"
     ]
    }
   ],
   "source": [
    "print(product['name'])\n",
    "print(product['unit_price'])\n",
    "print(product['taxable'])\n",
    "print(product['in_stock'])\n",
    "print(product['models'])"
   ]
  },
  {
   "cell_type": "code",
   "execution_count": 32,
   "id": "70f64794",
   "metadata": {},
   "outputs": [
    {
     "name": "stdout",
     "output_type": "stream",
     "text": [
      "Name:       Ray-Ban Wayfarer Sunglasses\n",
      "Price:      112.99\n",
      "Taxable:    True\n",
      "In Stock:   10\n",
      "Models: \n",
      "          Black\n",
      "          Tortose\n"
     ]
    }
   ],
   "source": [
    "product = {\n",
    "    'name' : 'Ray-Ban Wayfarer Sunglasses',\n",
    "    'unit_price' : 112.99,\n",
    "    'taxable' : True,\n",
    "    'in_stock' : 10,\n",
    "    'models' : ['Black', 'Tortose']\n",
    "}\n",
    "\n",
    "print('Name:      ', product['name'])\n",
    "print('Price:     ', product['unit_price'])\n",
    "print('Taxable:   ', product['taxable'])\n",
    "print('In Stock:  ',product['in_stock'])\n",
    "print('Models: ')\n",
    "for model in product['models']:\n",
    "    print(\" \" * 10 + model)"
   ]
  },
  {
   "cell_type": "markdown",
   "id": "68c7c43f",
   "metadata": {},
   "source": [
    "## Using the mysterious fromkeys and set default methods"
   ]
  },
  {
   "cell_type": "raw",
   "id": "8a4ecc57",
   "metadata": {},
   "source": [
    "Use this syntax:"
   ]
  },
  {
   "cell_type": "raw",
   "id": "9cf24d04",
   "metadata": {},
   "source": [
    "newdictionaryname = dict(iterable[,value])"
   ]
  },
  {
   "cell_type": "code",
   "execution_count": 33,
   "id": "eafd71c2",
   "metadata": {},
   "outputs": [
    {
     "name": "stdout",
     "output_type": "stream",
     "text": [
      "{'name': None, 'unit_price': None, 'taxable': None, 'in_stock': None, 'models': None}\n"
     ]
    }
   ],
   "source": [
    "DWC001 = dict.fromkeys(['name', 'unit_price', 'taxable', 'in_stock', 'models'])\n",
    "print(DWC001)"
   ]
  },
  {
   "cell_type": "code",
   "execution_count": 34,
   "id": "73b8a1db",
   "metadata": {},
   "outputs": [
    {
     "name": "stdout",
     "output_type": "stream",
     "text": [
      "{'name': None, 'unit_price': None, 'taxable': None, 'in_stock': None, 'models': None}\n"
     ]
    }
   ],
   "source": [
    "# Create a generic dictionary for products name product.\n",
    "product = {\n",
    "    'name' : '',\n",
    "    'unit_price': 0,\n",
    "    'taxable': True,\n",
    "    'in_stock': 0,\n",
    "    'models': []\n",
    "}\n",
    "\n",
    "# Create a dictionary names DWC001 that has same keys as product.\n",
    "DWC001 = dict.fromkeys(product.keys())\n",
    "\n",
    "# Show what's in the new dictionary.\n",
    "print(DWC001)"
   ]
  },
  {
   "cell_type": "markdown",
   "id": "e9073bde",
   "metadata": {},
   "source": [
    "# Experimenting with fromkeys and setdefault"
   ]
  },
  {
   "cell_type": "code",
   "execution_count": 36,
   "id": "8f86ab39",
   "metadata": {},
   "outputs": [
    {
     "name": "stdout",
     "output_type": "stream",
     "text": [
      "Dictionary after fromkeys() and setdefault()\n",
      "{'name': None, 'unit_price': None, 'taxable': None, 'in_stock': None, 'models': None, 'reorder_point': 100}\n",
      "\n",
      "Dictionary after fromkeys() and setdefault()\n",
      "{'name': None, 'unit_price': None, 'taxable': True, 'in_stock': None, 'models': None, 'reorder_point': 100}\n"
     ]
    }
   ],
   "source": [
    "# Create a generic dictonary for products name product.\n",
    "product = {\n",
    "    'name': '',\n",
    "    'unit_price' : 0, \n",
    "    'taxable': True,\n",
    "    'in_stock': 0,\n",
    "    'models': []\n",
    "    \n",
    "}\n",
    "\n",
    "# Create a dictionary for product SKU # DWC001\n",
    "DWC001 = dict.fromkeys(product.keys())\n",
    "DWC001.setdefault('taxable', True)\n",
    "DWC001.setdefault('models', [])\n",
    "DWC001.setdefault('reorder_point', 100)\n",
    "\n",
    "# Show what's in the new dictionary.\n",
    "print(\"Dictionary after fromkeys() and setdefault()\")\n",
    "print(DWC001)\n",
    "\n",
    "# Change the taxable field form None to True.\n",
    "print(\"\\nDictionary after fromkeys() and setdefault()\")\n",
    "DWC001['taxable'] = True\n",
    "\n",
    "# Print the dictionary after changing taxable to True\n",
    "print(DWC001)"
   ]
  },
  {
   "cell_type": "markdown",
   "id": "24a5c635",
   "metadata": {},
   "source": [
    "# Nesting Dictionaries"
   ]
  },
  {
   "cell_type": "raw",
   "id": "134431d5",
   "metadata": {},
   "source": [
    "containingdictionaryname = {\n",
    "    key : {dictionary},\n",
    "    key : {dictionary},\n",
    "    key : {dictionary},\n",
    "    ...\n",
    "}"
   ]
  },
  {
   "cell_type": "markdown",
   "id": "267c37e3",
   "metadata": {},
   "source": [
    "# Multiple product dictionaries contained within a larger products dictionary"
   ]
  },
  {
   "cell_type": "code",
   "execution_count": 37,
   "id": "6c802d25",
   "metadata": {},
   "outputs": [],
   "source": [
    "# Create a generic dictioinary to contain multiple product dictionaries.\n",
    "products = {\n",
    "    'RB00111':{'name' : 'Rayban Sunglasses', 'price':112.98, 'models': ['black', 'tortoise']},\n",
    "    'DWC0317':{'name' : 'Drone with Camera', 'price':72.95, 'models': ['white', 'black']},\n",
    "    'MTS0540':{'name' : 'T-Shirt', 'price':2.95, 'models': ['small', 'medium', 'large']},\n",
    "    'ECD2989':{'name' : 'Echo Dot', 'price':29.99, 'models':[]},\n",
    "}"
   ]
  },
  {
   "cell_type": "markdown",
   "id": "470ac46b",
   "metadata": {},
   "source": [
    "# Printing data dictionaries formatted into rows and columns."
   ]
  },
  {
   "cell_type": "code",
   "execution_count": 38,
   "id": "42a79562",
   "metadata": {},
   "outputs": [
    {
     "name": "stdout",
     "output_type": "stream",
     "text": [
      "ID     Name                 Price Models\n",
      "------------------------------------------------------------\n",
      "RB00111 Rayban Sunglasses  $112.98 black, tortoise\n",
      "DWC0317 Drone with Camera   $72.95 white, black\n",
      "MTS0540 T-Shirt              $2.95 small, medium, large\n",
      "ECD2989 Echo Dot            $29.99 <none>\n"
     ]
    }
   ],
   "source": [
    "# Create a generic dictioinary to contain multiple product dictionaries.\n",
    "products = {\n",
    "    'RB00111':{'name' : 'Rayban Sunglasses', 'price':112.98, 'models': ['black', 'tortoise']},\n",
    "    'DWC0317':{'name' : 'Drone with Camera', 'price':72.95, 'models': ['white', 'black']},\n",
    "    'MTS0540':{'name' : 'T-Shirt', 'price':2.95, 'models': ['small', 'medium', 'large']},\n",
    "    'ECD2989':{'name' : 'Echo Dot', 'price':29.99, 'models':[]},\n",
    "}\n",
    "print(f\"{'ID':<6} {'Name':<17} {'Price':>8} {'Models'}\")\n",
    "print('-' * 60)\n",
    "# Loop through each dictionary in the products dictionary\n",
    "for oneproduct in products.keys():\n",
    "    # Get the id of one product.\n",
    "    id = oneproduct\n",
    "    # Get the name of one product.\n",
    "    name = products[oneproduct]['name']\n",
    "    # Get the unit price of one product and format with $\n",
    "    unit_price = '$' + f\"{products[oneproduct]['price']:,.2f}\"\n",
    "    # Create and empty string variable named models\n",
    "    models = ''\n",
    "    # Loop through the models list and tack onto models\n",
    "    # one item from the list followed by by a comma and a space.\n",
    "    for m in products[oneproduct]['models']:\n",
    "        models += m + ', '\n",
    "    # If the models variable is more than two characters in lenght,\n",
    "    # Peel off the last two characters (last comma and space)\n",
    "    if len(models) > 2:\n",
    "        models = models[:-2]\n",
    "    else:\n",
    "        models = \"<none>\"\n",
    "    # Print all the variables with a neat f-string.\n",
    "    print(f\"{id:<6} {name:<17} {unit_price:>8} {models}\")"
   ]
  },
  {
   "cell_type": "markdown",
   "id": "17eca556",
   "metadata": {},
   "source": [
    "# Chapter 5"
   ]
  },
  {
   "cell_type": "markdown",
   "id": "391e08cd",
   "metadata": {},
   "source": [
    "# Wrangling Bigger Chunks of Code"
   ]
  },
  {
   "cell_type": "markdown",
   "id": "49010a07",
   "metadata": {},
   "source": [
    "#### Use a def key word to create a function"
   ]
  },
  {
   "cell_type": "markdown",
   "id": "0dc34834",
   "metadata": {},
   "source": [
    "Syntax: "
   ]
  },
  {
   "cell_type": "raw",
   "id": "b5ed06c0",
   "metadata": {},
   "source": [
    "def hello():"
   ]
  },
  {
   "cell_type": "code",
   "execution_count": 3,
   "id": "327a0871",
   "metadata": {},
   "outputs": [
    {
     "name": "stdout",
     "output_type": "stream",
     "text": [
      "Hello World\n"
     ]
    }
   ],
   "source": [
    "def hello():\n",
    "    print('Hello World')  # This line of code will run until the function is called.\n",
    "hello()                   # Now we calling this function.   "
   ]
  },
  {
   "cell_type": "markdown",
   "id": "531694ce",
   "metadata": {},
   "source": [
    "## Commenting a function"
   ]
  },
  {
   "cell_type": "code",
   "execution_count": 4,
   "id": "fb8f29e1",
   "metadata": {},
   "outputs": [],
   "source": [
    "def hello():    # Practice function\n",
    "    \"\"\"\"A docstring describing the function\"\"\"\n",
    "    print('Hello')"
   ]
  },
  {
   "cell_type": "raw",
   "id": "57457129",
   "metadata": {},
   "source": [
    "hello(fname, lname, datestring)\n",
    "param fname\n",
    "A docstring describing the function"
   ]
  },
  {
   "cell_type": "markdown",
   "id": "3b87891a",
   "metadata": {},
   "source": [
    "## Passing information to a Function"
   ]
  },
  {
   "cell_type": "code",
   "execution_count": 7,
   "id": "48d3e398",
   "metadata": {},
   "outputs": [],
   "source": [
    "def hello(x):     # Practice function\n",
    "    \"\"\"A docstring describing the function\"\"\"\n",
    "    print('Hello ' + x)"
   ]
  },
  {
   "cell_type": "code",
   "execution_count": 9,
   "id": "7f7cb72c",
   "metadata": {},
   "outputs": [],
   "source": [
    "def hello(user_name):    # practice function\n",
    "    \"\"\"A docstring describing the function\"\"\"\n",
    "    print('Hello ' + user_name)"
   ]
  },
  {
   "cell_type": "code",
   "execution_count": 12,
   "id": "354f4c38",
   "metadata": {},
   "outputs": [
    {
     "ename": "TypeError",
     "evalue": "hello() missing 1 required positional argument: 'user_name'",
     "output_type": "error",
     "traceback": [
      "\u001b[0;31m---------------------------------------------------------------------------\u001b[0m",
      "\u001b[0;31mTypeError\u001b[0m                                 Traceback (most recent call last)",
      "\u001b[0;32m/tmp/ipykernel_3539/163574316.py\u001b[0m in \u001b[0;36m<module>\u001b[0;34m\u001b[0m\n\u001b[1;32m      2\u001b[0m     \u001b[0;34m\"\"\"A docstring describing the function\"\"\"\u001b[0m\u001b[0;34m\u001b[0m\u001b[0;34m\u001b[0m\u001b[0m\n\u001b[1;32m      3\u001b[0m     \u001b[0mprint\u001b[0m\u001b[0;34m(\u001b[0m\u001b[0;34m'Hello '\u001b[0m \u001b[0;34m+\u001b[0m \u001b[0muser_name\u001b[0m\u001b[0;34m)\u001b[0m\u001b[0;34m\u001b[0m\u001b[0;34m\u001b[0m\u001b[0m\n\u001b[0;32m----> 4\u001b[0;31m \u001b[0mhello\u001b[0m\u001b[0;34m(\u001b[0m\u001b[0;34m)\u001b[0m\u001b[0;34m\u001b[0m\u001b[0;34m\u001b[0m\u001b[0m\n\u001b[0m",
      "\u001b[0;31mTypeError\u001b[0m: hello() missing 1 required positional argument: 'user_name'"
     ]
    }
   ],
   "source": [
    "def hello(user_name):    # practice function\n",
    "    \"\"\"A docstring describing the function\"\"\"\n",
    "    print('Hello ' + user_name)\n",
    "hello()"
   ]
  },
  {
   "cell_type": "code",
   "execution_count": 13,
   "id": "8943d026",
   "metadata": {},
   "outputs": [
    {
     "name": "stdout",
     "output_type": "stream",
     "text": [
      "Hello Alan\n"
     ]
    }
   ],
   "source": [
    "def hello(user_name):     # Practice function\n",
    "    \"\"\"A docstring describing the function\"\"\"\n",
    "    print('Hello ' + user_name)\n",
    "hello('Alan')"
   ]
  },
  {
   "cell_type": "markdown",
   "id": "54da3e1b",
   "metadata": {},
   "source": [
    "## Passing data to a functioin via a variable"
   ]
  },
  {
   "cell_type": "code",
   "execution_count": 14,
   "id": "fc39d6b1",
   "metadata": {},
   "outputs": [
    {
     "name": "stdout",
     "output_type": "stream",
     "text": [
      "Hello Alan\n"
     ]
    }
   ],
   "source": [
    "def hello(user_name):    # Practice function\n",
    "    \"\"\"A docstring describing the function\"\"\"\n",
    "    print('Hello ' + user_name)\n",
    "    \n",
    "# Put a string in a variable named this_person\n",
    "this_person = 'Alan'\n",
    "# Pass that variable name to the function\n",
    "hello(this_person)\n"
   ]
  },
  {
   "cell_type": "markdown",
   "id": "13ad1cf6",
   "metadata": {},
   "source": [
    "# Defining optional parameters with defaults"
   ]
  },
  {
   "cell_type": "markdown",
   "id": "abac7752",
   "metadata": {},
   "source": [
    "Syntax:"
   ]
  },
  {
   "cell_type": "raw",
   "id": "48cef15d",
   "metadata": {},
   "source": [
    "def functionname(paremetername = defaultvalue):"
   ]
  },
  {
   "cell_type": "markdown",
   "id": "f67cba29",
   "metadata": {},
   "source": [
    "### you could rewrite our sample hello() function with a default value, like this:"
   ]
  },
  {
   "cell_type": "markdown",
   "id": "2cd1bbf9",
   "metadata": {},
   "source": [
    "### Calling a function with and without parameter"
   ]
  },
  {
   "cell_type": "code",
   "execution_count": 20,
   "id": "29d86683",
   "metadata": {},
   "outputs": [
    {
     "name": "stdout",
     "output_type": "stream",
     "text": [
      "Hello Alan\n",
      "Hello nobody\n"
     ]
    }
   ],
   "source": [
    "def hello(user_name = 'nobody'):\n",
    "    \"\"\"A docstring describing the function\"\"\"\n",
    "    print('Hello ' + user_name)\n",
    "    \n",
    "hello('Alan')\n",
    "hello()"
   ]
  },
  {
   "cell_type": "markdown",
   "id": "711003a9",
   "metadata": {},
   "source": [
    "# Passing multiple values to a function"
   ]
  },
  {
   "cell_type": "code",
   "execution_count": 21,
   "id": "1f757770",
   "metadata": {},
   "outputs": [],
   "source": [
    "def hell(fname, lname, datestring):      # Practice fucntion\n",
    "    \"\"\"A docstring describing the function\"\"\"\n",
    "    print('Hello ' + fname + '' + lname)\n",
    "    print('The date is ' + datestring)"
   ]
  },
  {
   "cell_type": "markdown",
   "id": "cde74b96",
   "metadata": {},
   "source": [
    "#### when calling the function, you need to pass in three values, like this:"
   ]
  },
  {
   "cell_type": "raw",
   "id": "a978d142",
   "metadata": {},
   "source": [
    "hello('Alan', 'Simpson', '12/31/2019')"
   ]
  },
  {
   "cell_type": "code",
   "execution_count": 23,
   "id": "290d647c",
   "metadata": {},
   "outputs": [
    {
     "name": "stdout",
     "output_type": "stream",
     "text": [
      "Hello Alan Simpson you mentioned 12/31/2019\n"
     ]
    }
   ],
   "source": [
    "def hello(fname, lname, datestring):      # Practice function\n",
    "    \"\"\"A docstring describing the function\"\"\"\n",
    "    msg = \"Hello \" + fname + \" \" + lname\n",
    "    msg += \" you mentioned \" + datestring\n",
    "    print(msg)\n",
    "    \n",
    "hello('Alan', 'Simpson', '12/31/2019')"
   ]
  },
  {
   "cell_type": "markdown",
   "id": "6c6e454f",
   "metadata": {},
   "source": [
    "### Make the optional parameters the last ones when using multiple parameters"
   ]
  },
  {
   "cell_type": "raw",
   "id": "942bcbe1",
   "metadata": {},
   "source": [
    "def hello(fname, lname = 'unknown', datestring):"
   ]
  },
  {
   "cell_type": "code",
   "execution_count": 28,
   "id": "7669f8d4",
   "metadata": {},
   "outputs": [
    {
     "name": "stdout",
     "output_type": "stream",
     "text": [
      "Hello Alan Simpson you mentioned 12/31/2019\n",
      "Hello Sammy Scmeedledorp\n"
     ]
    }
   ],
   "source": [
    "def hello(fname, lname, datestring = ''):\n",
    "    msg = 'Hello ' + fname + ' ' + lname\n",
    "    if len(datestring) > 0:\n",
    "        msg += ' you mentioned ' + datestring\n",
    "    print(msg)\n",
    "    \n",
    "hello('Alan', 'Simpson', '12/31/2019')\n",
    "hello('Sammy', 'Scmeedledorp')"
   ]
  },
  {
   "cell_type": "markdown",
   "id": "689eae95",
   "metadata": {},
   "source": [
    "# Using keyword arguments (kwargs)"
   ]
  },
  {
   "cell_type": "raw",
   "id": "42626ec0",
   "metadata": {},
   "source": [
    "def hello(fname, lname, datestring=''):\n",
    "    "
   ]
  },
  {
   "cell_type": "raw",
   "id": "8e569ead",
   "metadata": {},
   "source": [
    "hello(\"Alan\", \"Simpson\")"
   ]
  },
  {
   "cell_type": "markdown",
   "id": "c14b343c",
   "metadata": {},
   "source": [
    "### You can tell the function what’s what by using the syntax parameter = value in the code that’s calling the function"
   ]
  },
  {
   "cell_type": "raw",
   "id": "91a1b81b",
   "metadata": {},
   "source": [
    "hello(datestring= '12/31/2019', lname='Simpson', fname='Alan')"
   ]
  },
  {
   "cell_type": "markdown",
   "id": "64349939",
   "metadata": {},
   "source": [
    "##### It works if you pass in variables too. Again, the order doesn’t matter. Here’s another way to do this:"
   ]
  },
  {
   "cell_type": "markdown",
   "id": "22c65731",
   "metadata": {},
   "source": [
    "### Calling a function with keyword arguments (kwargs)"
   ]
  },
  {
   "cell_type": "raw",
   "id": "679df238",
   "metadata": {},
   "source": [
    "attpt_date = '12/30/2019'\n",
    "last_name = 'Janda'\n",
    "first_name = 'Kylie'\n",
    "hello(datestring=apt_date, lname=last_name, fname=first_name)"
   ]
  },
  {
   "cell_type": "code",
   "execution_count": 33,
   "id": "9c01088c",
   "metadata": {},
   "outputs": [
    {
     "name": "stdout",
     "output_type": "stream",
     "text": [
      "Hello Alan Simpsonyou mentioned 12/30/2019\n",
      "Hello Kylie Jandayou mentioned 12/30/2019\n"
     ]
    }
   ],
   "source": [
    "def hello(fname, lname, datestring):      # Practice function\n",
    "    \"\"\"A docstring describing the function\"\"\"\n",
    "    msg = \"Hello \" + fname + \" \" + lname\n",
    "    msg += \"you mentioned \" + datestring\n",
    "    print(msg)\n",
    "    \n",
    "# Pass in in literal kwargs (identify each by parameter name)\n",
    "hello(datestring='12/30/2019', lname='Simpson', fname='Alan')\n",
    "\n",
    "# Pass in in kwargs from variables (identity each by parameter name)\n",
    "appt_date = '12/30/2019'\n",
    "last_name = 'Janda'\n",
    "first_name = 'Kylie'\n",
    "hello(datestring=appt_date, lname=last_name, fname=first_name)"
   ]
  },
  {
   "cell_type": "code",
   "execution_count": 38,
   "id": "4c72d111",
   "metadata": {},
   "outputs": [],
   "source": [
    "def alphabetize(original_list = []):\n",
    "    \"\"\"Pass any list in square brackets, displays a string with items sorted\"\"\"\n",
    "    # Inside the function make a working copy of the list passed in.\n",
    "    sorted_list = original_list.copy()\n",
    "    # Sort the working copy.\n",
    "    sorted_list.sort()\n",
    "    # Make a new empty string for output\n",
    "    final_list = ''\n",
    "    # Loop through sorted list and append name and comma and space.\n",
    "    for name in sorted_list:\n",
    "        final_list += name + ', '\n",
    "    # Knock of last comma space if final list is long enough\n",
    "    final_list = final_list[:-2]\n",
    "    # Print the alphabetized list.\n",
    "    print(final_list)\n",
    "    \n"
   ]
  },
  {
   "cell_type": "markdown",
   "id": "376dd310",
   "metadata": {},
   "source": [
    "##### Because the function can’t alter the list directly, it first makes a copy of the origi-nal list (the one that was passed in) in a new list called sorted_list, with this line of code:"
   ]
  },
  {
   "cell_type": "raw",
   "id": "1f7640db",
   "metadata": {},
   "source": [
    "sorted_list = original_list.copy()"
   ]
  },
  {
   "cell_type": "markdown",
   "id": "14a12904",
   "metadata": {},
   "source": [
    "##### At this point, the sorted_list isn’t really sorted, it’s still just a copy of the origi-nal. The next line of code does the actual sorting:"
   ]
  },
  {
   "cell_type": "raw",
   "id": "1bad76b4",
   "metadata": {},
   "source": [
    "sorted_list.sort()"
   ]
  },
  {
   "cell_type": "markdown",
   "id": "ef728eef",
   "metadata": {},
   "source": [
    "##### This loop loops through the sorted list and adds each item from the list, separated by a comma and a space, to that final_list string:"
   ]
  },
  {
   "cell_type": "raw",
   "id": "40207b61",
   "metadata": {},
   "source": [
    "for name in sorted_list:\n",
    "    final_list += name + ', '"
   ]
  },
  {
   "cell_type": "markdown",
   "id": "31f013c0",
   "metadata": {},
   "source": [
    "###### this statement removes those last two charac-ters, assuming the list is at least two characters in length:"
   ]
  },
  {
   "cell_type": "raw",
   "id": "6d93b892",
   "metadata": {},
   "source": [
    "final_list = final_list[:-2]"
   ]
  },
  {
   "cell_type": "markdown",
   "id": "6b99867f",
   "metadata": {},
   "source": [
    "##### To call the function, you can pass a list right inside the parentheses of the func-tion, like this:"
   ]
  },
  {
   "cell_type": "raw",
   "id": "2c3e7124",
   "metadata": {},
   "source": [
    "alphabebetize(['Schrepter', 'Maier', 'Santiago', 'Adams'])"
   ]
  },
  {
   "cell_type": "markdown",
   "id": "61cd7c6c",
   "metadata": {},
   "source": [
    "##### As always, you can also pass in the name of a variable that already contains the list, as in this example."
   ]
  },
  {
   "cell_type": "raw",
   "id": "bfbfc153",
   "metadata": {},
   "source": [
    "names = ['Schrepfer', 'Maier', 'Santiago', 'Adams']\n",
    "alphabetize(names)"
   ]
  },
  {
   "cell_type": "markdown",
   "id": "d2e2830a",
   "metadata": {},
   "source": [
    "#### Either way, the function shows those names in alphabetical order, as follows."
   ]
  },
  {
   "cell_type": "raw",
   "id": "a05253bf",
   "metadata": {},
   "source": [
    "Adams, Maier, Santiago, Schrepfer"
   ]
  },
  {
   "cell_type": "markdown",
   "id": "9b5b3239",
   "metadata": {},
   "source": [
    "# Passing in an arbitrary number of arguments"
   ]
  },
  {
   "cell_type": "raw",
   "id": "0b0625a0",
   "metadata": {},
   "source": [
    "Syntax:"
   ]
  },
  {
   "cell_type": "raw",
   "id": "14948c65",
   "metadata": {},
   "source": [
    "def sorter(*args)"
   ]
  },
  {
   "cell_type": "code",
   "execution_count": 39,
   "id": "4ae1c57b",
   "metadata": {},
   "outputs": [
    {
     "name": "stdout",
     "output_type": "stream",
     "text": [
      "[-900, 0.001, 1, 2, 100000]\n"
     ]
    }
   ],
   "source": [
    "def sorter(*args):\n",
    "    \"\"\"Pass in any number of arguments separated by commas inside the function, they treated as a tuple named args\"\"\"\n",
    "    # The passed-in\n",
    "    # create a list from the passed-in tuple\n",
    "    newlist = list(args)\n",
    "    # Sort and show the list.\n",
    "    newlist.sort()\n",
    "    print(newlist)\n",
    "    \n",
    "sorter(1, 0.001, 100000, -900, 2)   "
   ]
  },
  {
   "cell_type": "markdown",
   "id": "38e9ce1f",
   "metadata": {},
   "source": [
    "# Returning Values from functions"
   ]
  },
  {
   "cell_type": "code",
   "execution_count": 41,
   "id": "283810a6",
   "metadata": {},
   "outputs": [],
   "source": [
    "def alphabetized(original_list=[]):\n",
    "    \"\"\"Pass any list in square brackets, display a string with items sorted\"\"\"\n",
    "    \n",
    "    # Inside a function make a working copy of the list passed in.\n",
    "    sorted_list = original_list.copy()\n",
    "    \n",
    "    # Sort the working copy\n",
    "    sorted_list.copy()\n",
    "    \n",
    "    # Make a new empty string for output\n",
    "    final_list = ''\n",
    "    \n",
    "    # Loop through sorted list and append name and comma and space.\n",
    "    for name in sorted_list:\n",
    "        final_list += name + ', '\n",
    "        \n",
    "    # Knock of last comma space if final list is long enough\n",
    "    final_list = final_list[:-2]\n",
    "    \n",
    "    # Return the alphabetized list.\n",
    "    return final_list"
   ]
  },
  {
   "cell_type": "markdown",
   "id": "2be2a4e1",
   "metadata": {},
   "source": [
    "## The final print statement displays whatever is in the alpha_list variable:"
   ]
  },
  {
   "cell_type": "raw",
   "id": "a9437403",
   "metadata": {},
   "source": [
    "random_list = ['McMuller', 'Keaser', 'Maier', 'Wilson', 'Yudt', 'Gallagher', 'Jacobs']\n",
    "alpha_list = alphabetize(random_list)\n",
    "print(alpha_list)"
   ]
  },
  {
   "cell_type": "markdown",
   "id": "d85a73af",
   "metadata": {},
   "source": [
    "### Printing a string returned by the alphabetize() function."
   ]
  },
  {
   "cell_type": "code",
   "execution_count": 42,
   "id": "4a960d03",
   "metadata": {},
   "outputs": [
    {
     "name": "stdout",
     "output_type": "stream",
     "text": [
      "Gallagher, Jacobs, Keaser, Maier, McMullen, Wilson, Yudt\n"
     ]
    }
   ],
   "source": [
    "def alphabetize(original_list=[]):\n",
    "    \"\"\"Pass any list in square brackets, displays with items sorted\"\"\"\n",
    "    \n",
    "    # Inside the function make a working copy of the list passed in.\n",
    "    sorted_list = original_list.copy()\n",
    "    \n",
    "    # Sort the working copy.\n",
    "    sorted_list.sort()\n",
    "    \n",
    "    # Make a new empty string for output\n",
    "    final_list = ''\n",
    "    \n",
    "    # Loop through sorted list and append name and comma and space\n",
    "    for name in sorted_list:\n",
    "        final_list += name + ', '\n",
    "        \n",
    "    # Knock of last comma space if final list is long enough\n",
    "    final_list = final_list[:-2]\n",
    "    \n",
    "    # Print the alphabetized list\n",
    "    print(final_list)\n",
    "    \n",
    "names = ['McMullen', 'Keaser', 'Maier', 'Wilson', 'Yudt', 'Gallagher', 'Jacobs']\n",
    "alphabetize(names)"
   ]
  },
  {
   "cell_type": "markdown",
   "id": "8c6d29fe",
   "metadata": {},
   "source": [
    "# Unmasking Anonymous Functions"
   ]
  },
  {
   "cell_type": "markdown",
   "id": "ffabf71b",
   "metadata": {},
   "source": [
    "Syntax:"
   ]
  },
  {
   "cell_type": "markdown",
   "id": "f8ece071",
   "metadata": {},
   "source": [
    "##### Names that starts with uppercase and those that starts with lowercase letters:"
   ]
  },
  {
   "cell_type": "raw",
   "id": "a4788b16",
   "metadata": {},
   "source": [
    "Adams, Ma, diMeola, Zandusky"
   ]
  },
  {
   "cell_type": "code",
   "execution_count": 1,
   "id": "bdffc719",
   "metadata": {},
   "outputs": [
    {
     "name": "stdout",
     "output_type": "stream",
     "text": [
      "['Adams', 'Ma', 'Zandusky', 'diMeola']\n"
     ]
    }
   ],
   "source": [
    "names = ['Adams', 'Ma', 'diMeola', 'Zandusky']\n",
    "names.sort()\n",
    "print(names)"
   ]
  },
  {
   "cell_type": "raw",
   "id": "b8c6585c",
   "metadata": {},
   "source": [
    ".sort(key = transform)"
   ]
  },
  {
   "cell_type": "raw",
   "id": "58b49549",
   "metadata": {},
   "source": [
    "names.sort(key=len)"
   ]
  },
  {
   "cell_type": "raw",
   "id": "d09d80b9",
   "metadata": {},
   "source": [
    "def lower(anystring):\n",
    "    \"\"\"Converts string to all lowercase \"\"\"\n",
    "    return anystring.lower"
   ]
  },
  {
   "cell_type": "code",
   "execution_count": 3,
   "id": "5bb89234",
   "metadata": {},
   "outputs": [
    {
     "name": "stdout",
     "output_type": "stream",
     "text": [
      "zandusky\n"
     ]
    }
   ],
   "source": [
    "def lowercaseof(anystring):\n",
    "    \"\"\"Convert string to all lowercase\"\"\"\n",
    "    return anystring.lower()\n",
    "\n",
    "print(lowercaseof('Zandusky'))"
   ]
  },
  {
   "cell_type": "code",
   "execution_count": 4,
   "id": "ce5ca31d",
   "metadata": {},
   "outputs": [],
   "source": [
    "def lowercaseof(anystring):\n",
    "    \"\"\" Converts string to all lowercase \"\"\"\n",
    "    return anystring.lower()\n",
    "\n",
    "names = ['Adams','Ma','diMeola','Zandusky']\n",
    "names.sort(key=lowercaseof)"
   ]
  },
  {
   "cell_type": "code",
   "execution_count": null,
   "id": "ad4a596c",
   "metadata": {},
   "outputs": [],
   "source": [
    "lambda parameters: expression"
   ]
  },
  {
   "cell_type": "code",
   "execution_count": 5,
   "id": "7a2cbea2",
   "metadata": {},
   "outputs": [
    {
     "data": {
      "text/plain": [
       "<function __main__.<lambda>(anystring)>"
      ]
     },
     "execution_count": 5,
     "metadata": {},
     "output_type": "execute_result"
    }
   ],
   "source": [
    "lambda anystring: anystring.lower()"
   ]
  },
  {
   "cell_type": "markdown",
   "id": "fbe1ed4d",
   "metadata": {},
   "source": [
    "### Using a lambda expression as a sort key"
   ]
  },
  {
   "cell_type": "code",
   "execution_count": 6,
   "id": "dc2ad3d2",
   "metadata": {},
   "outputs": [
    {
     "name": "stdout",
     "output_type": "stream",
     "text": [
      "['Adams', 'diMeola', 'Ma', 'Zandusky']\n"
     ]
    }
   ],
   "source": [
    "names = ['Adams','Ma','diMeola','Zandusky']\n",
    "names.sort(key = lambda anystring: anystring.lower())\n",
    "print(names)"
   ]
  },
  {
   "cell_type": "raw",
   "id": "f520d6fc",
   "metadata": {},
   "source": [
    "names = ['Adams','Ma','diMeola','Zandusky']\n",
    "names.sort(key=lambda s: s.lower())\n",
    "print(names)"
   ]
  },
  {
   "cell_type": "code",
   "execution_count": 8,
   "id": "236f4b77",
   "metadata": {},
   "outputs": [],
   "source": [
    "currency = lambda n: f\"${n:,.2f}\""
   ]
  },
  {
   "cell_type": "code",
   "execution_count": 9,
   "id": "863472e4",
   "metadata": {},
   "outputs": [],
   "source": [
    "percent = lambda n: f\"n:.2%\""
   ]
  },
  {
   "cell_type": "code",
   "execution_count": 10,
   "id": "ebb90d3b",
   "metadata": {},
   "outputs": [],
   "source": [
    "# Show number in currency format.\n",
    "def currency(n):\n",
    "    return f\"${n:,.2f}\"\n"
   ]
  },
  {
   "cell_type": "code",
   "execution_count": 11,
   "id": "e88065a1",
   "metadata": {},
   "outputs": [],
   "source": [
    "def percent(n):\n",
    "# Show number in percent format.\n",
    "    return f\"{n:.2%}\""
   ]
  },
  {
   "cell_type": "markdown",
   "id": "4bbcc7b4",
   "metadata": {},
   "source": [
    "### Two functions for formatting numbers"
   ]
  },
  {
   "cell_type": "code",
   "execution_count": 13,
   "id": "849c703f",
   "metadata": {},
   "outputs": [
    {
     "name": "stdout",
     "output_type": "stream",
     "text": [
      "$99.00\n",
      "$123,456,789.10\n",
      "6.50%\n",
      "50.00%\n"
     ]
    }
   ],
   "source": [
    "# Show number in currency format.\n",
    "currency = lambda n: f\"${n:,.2f}\"\n",
    "# Show number in percent format.\n",
    "percent = lambda n: f\"{n:.2%}\"\n",
    "\n",
    "#Test currency function\n",
    "print(currency(99))\n",
    "print(currency(123456789.09876543))\n",
    "\n",
    "# Test percent function\n",
    "print(percent(0.065))\n",
    "print(percent(.5))"
   ]
  },
  {
   "cell_type": "markdown",
   "id": "bd990c35",
   "metadata": {},
   "source": [
    "### Two for formatting numbers with fixed width"
   ]
  },
  {
   "cell_type": "code",
   "execution_count": 15,
   "id": "c39009c3",
   "metadata": {},
   "outputs": [],
   "source": [
    "# Show numbers in currency, specified width\n",
    "def currency(n, w=15):\n",
    "    \"\"\"Show in currency format, width = 15 or width of your choosing\"\"\"\n",
    "    s = f\"${n:,.2f}\"\n",
    "    # Pad left of output with spaces to width of w.\n",
    "    return s.rjust(w)\n",
    "\n",
    "# Show numbers in percent format, specify width.\n",
    "def percent(n, w=15):\n",
    "    \"\"\"Show in percent format, width = 15 or width of your choosing\"\"\"\n",
    "    # Show number in percent format.\n",
    "    s = f\"{n:.1%}\"\n",
    "    # Pad left of output with spaces to width of w.\n",
    "    return s.rjust(w)"
   ]
  },
  {
   "cell_type": "code",
   "execution_count": 16,
   "id": "57940918",
   "metadata": {},
   "outputs": [
    {
     "name": "stdout",
     "output_type": "stream",
     "text": [
      "      $9,999.00\n"
     ]
    }
   ],
   "source": [
    "print(currency(9999))"
   ]
  },
  {
   "cell_type": "code",
   "execution_count": 17,
   "id": "1954fa49",
   "metadata": {},
   "outputs": [
    {
     "name": "stdout",
     "output_type": "stream",
     "text": [
      "      $9,999.20\n"
     ]
    }
   ],
   "source": [
    "print(currency(9999.20))"
   ]
  },
  {
   "cell_type": "markdown",
   "id": "c69d82ce",
   "metadata": {},
   "source": [
    "# Chapter 6\n",
    "# Doing python with Class"
   ]
  },
  {
   "cell_type": "markdown",
   "id": "3f507296",
   "metadata": {},
   "source": [
    "# Mastering Classes and Objects"
   ]
  },
  {
   "cell_type": "markdown",
   "id": "7f353b1b",
   "metadata": {},
   "source": [
    "#### Creating a Class"
   ]
  },
  {
   "cell_type": "code",
   "execution_count": null,
   "id": "80af80d9",
   "metadata": {},
   "outputs": [],
   "source": [
    "# Define a new class name Member\n",
    "class Member:\n",
    "    \"\"\" Create a new member. \"\"\""
   ]
  },
  {
   "cell_type": "code",
   "execution_count": 19,
   "id": "db05b616",
   "metadata": {},
   "outputs": [],
   "source": [
    "# Define a new class name Member.\n",
    "class Member:\n",
    "    pass"
   ]
  },
  {
   "cell_type": "markdown",
   "id": "93b60d0a",
   "metadata": {},
   "source": [
    "# How a class create an Instance"
   ]
  },
  {
   "cell_type": "markdown",
   "id": "e4e9972c",
   "metadata": {},
   "source": [
    "### The syntax for creating an init method is:"
   ]
  },
  {
   "cell_type": "raw",
   "id": "ca1547ad",
   "metadata": {},
   "source": [
    "def __init__(self[, suppliedprop1, suppliedprop2,.....])"
   ]
  },
  {
   "cell_type": "raw",
   "id": "f0f1cf94",
   "metadata": {},
   "source": [
    "# Define a class named Member for making member objects.\n",
    "class Member:\n",
    "    \"\"\" Create a member from uname and fname \"\"\"\n",
    "    def __init__(seft, uname, fname):"
   ]
  },
  {
   "cell_type": "markdown",
   "id": "b99c44d5",
   "metadata": {},
   "source": [
    "# Giving an Object Its Attributes"
   ]
  },
  {
   "cell_type": "raw",
   "id": "500d182c",
   "metadata": {},
   "source": [
    "self.username = uname\n",
    "self.fullname = fname"
   ]
  },
  {
   "cell_type": "raw",
   "id": "31c0dbbc",
   "metadata": {},
   "source": [
    "# Define a new class name member.\n",
    "class Member:\n",
    "    \"\"\" Create a new member. \"\"\"\n",
    "    def __init__(self, uname, fname):\n",
    "    # Define attributes and give then values.\n",
    "    self.username = uname\n",
    "    self.fullname = fname"
   ]
  },
  {
   "cell_type": "markdown",
   "id": "89c96bfe",
   "metadata": {},
   "source": [
    "# Creating an instance from a class"
   ]
  },
  {
   "cell_type": "raw",
   "id": "d6452f77",
   "metadata": {},
   "source": [
    "Using this syntax:"
   ]
  },
  {
   "cell_type": "raw",
   "id": "cf4f8ef0",
   "metadata": {},
   "source": [
    "this_instance_name = Member('uname', 'fname')"
   ]
  },
  {
   "cell_type": "raw",
   "id": "7fa1e598",
   "metadata": {},
   "source": [
    "new_guy = Member('Rambo', 'Rocco Moe')"
   ]
  },
  {
   "cell_type": "raw",
   "id": "ded46b07",
   "metadata": {},
   "source": [
    "print(new_guy)\n",
    "print(new_guy.username)\n",
    "print(new_guy.fullname)\n",
    "print(type(new_guy))"
   ]
  },
  {
   "cell_type": "markdown",
   "id": "94fed71c",
   "metadata": {},
   "source": [
    "# Creating a member from the Member class in a Jupyter cell"
   ]
  },
  {
   "cell_type": "code",
   "execution_count": 26,
   "id": "055054a3",
   "metadata": {},
   "outputs": [
    {
     "name": "stdout",
     "output_type": "stream",
     "text": [
      "<__main__.Member object at 0x7f1f99ae0a00>\n",
      "Rambo\n",
      "Rocco Moe\n",
      "<class '__main__.Member'>\n"
     ]
    }
   ],
   "source": [
    "# Define a class name Member\n",
    "class Member:\n",
    "    \"\"\" Create a new member. \"\"\"\n",
    "    def __init__(self, uname, fname):\n",
    "        # Define attributes and give them values.\n",
    "        self.username = uname\n",
    "        self.fullname = fname\n",
    "        \n",
    "# The class end at the first un-indented line.\n",
    "\n",
    "# Create an instance of a Member class named new_guy\n",
    "new_guy = Member('Rambo', 'Rocco Moe')\n",
    "\n",
    "# See what's in the instance, as well as its individual properties.\n",
    "print(new_guy)\n",
    "print(new_guy.username)\n",
    "print(new_guy.fullname)\n",
    "print(type(new_guy))"
   ]
  },
  {
   "cell_type": "raw",
   "id": "334eace0",
   "metadata": {},
   "source": [
    "<__main__.Member object at 0x000002175EA2E160>"
   ]
  },
  {
   "cell_type": "markdown",
   "id": "0be3d32b",
   "metadata": {},
   "source": [
    "# The Member class with username and fullname for parameters and attributes"
   ]
  },
  {
   "cell_type": "code",
   "execution_count": 27,
   "id": "bdcef65e",
   "metadata": {},
   "outputs": [
    {
     "name": "stdout",
     "output_type": "stream",
     "text": [
      "<__main__.Member object at 0x7f1f99abf460>\n",
      "Rambo\n",
      "Rocco Moe\n",
      "<class '__main__.Member'>\n"
     ]
    }
   ],
   "source": [
    "# Define a new class name Member.\n",
    "class Member:\n",
    "    \"\"\" Create a new member. \"\"\"\n",
    "    def __init__(self, username, fullname):\n",
    "        # Define attributes and give them values.\n",
    "        self.username = username\n",
    "        self.fullname = fullname\n",
    "        \n",
    "# The class ends at the first un-indented line.\n",
    "\n",
    "# Create an instance of the Member class named new_guy\n",
    "new_guy = Member('Rambo', 'Rocco Moe')\n",
    "\n",
    "# See what's in the instance, as well as its individual properties.\n",
    "print(new_guy)\n",
    "print(new_guy.username)\n",
    "print(new_guy.fullname)\n",
    "print(type(new_guy))"
   ]
  },
  {
   "cell_type": "markdown",
   "id": "93f38f0b",
   "metadata": {},
   "source": [
    "# Changing the value of an attribute"
   ]
  },
  {
   "cell_type": "raw",
   "id": "cbcf210d",
   "metadata": {},
   "source": [
    "Using the following syntax:"
   ]
  },
  {
   "cell_type": "raw",
   "id": "29da2785",
   "metadata": {},
   "source": [
    "objectname.attributename = value"
   ]
  },
  {
   "cell_type": "code",
   "execution_count": 28,
   "id": "52f9a43c",
   "metadata": {},
   "outputs": [],
   "source": [
    "new_guy.username = \"Princess\""
   ]
  },
  {
   "cell_type": "markdown",
   "id": "4adc5eea",
   "metadata": {},
   "source": [
    "# Defining attributes with default values"
   ]
  },
  {
   "cell_type": "raw",
   "id": "d95fa79f",
   "metadata": {},
   "source": [
    "self.attributesname = value"
   ]
  },
  {
   "cell_type": "raw",
   "id": "e95bd3a7",
   "metadata": {},
   "source": [
    "True or False"
   ]
  },
  {
   "cell_type": "markdown",
   "id": "56e181d6",
   "metadata": {},
   "source": [
    "# Changing the value of an object's attribute"
   ]
  },
  {
   "cell_type": "code",
   "execution_count": 32,
   "id": "61e77cc0",
   "metadata": {},
   "outputs": [
    {
     "name": "stdout",
     "output_type": "stream",
     "text": [
      "Rambo\n",
      "Rocco Moe\n",
      "\n",
      "Princess\n",
      "Rocco Moe\n"
     ]
    }
   ],
   "source": [
    "# Define a new class name Member.\n",
    "class Member:\n",
    "    \"\"\" Create a new member. \"\"\"\n",
    "    def __init__(self, username, fullname):\n",
    "        # Define attributes and give them values.\n",
    "        self.username = username\n",
    "        self.fullname = fullname\n",
    "    \n",
    "# The class end at the first un-indented line.\n",
    "\n",
    "# Create an instance of the Member class named new_guy\n",
    "new_guy = Member('Rambo', 'Rocco Moe')\n",
    "\n",
    "# See what's in the instance, as well as its individual properties.\n",
    "print(new_guy.username)\n",
    "print(new_guy.fullname)\n",
    "print() # This just prints a blanks line.\n",
    "\n",
    "# Change new_guy's user name then print both attributes again.\n",
    "new_guy.username = \"Princess\"\n",
    "print(new_guy.username)\n",
    "print(new_guy.fullname)"
   ]
  },
  {
   "cell_type": "markdown",
   "id": "ebb8d1f3",
   "metadata": {},
   "source": [
    "### If you're going to be doing anything with dates and times, you'll want to import the datetime module"
   ]
  },
  {
   "cell_type": "raw",
   "id": "cc556213",
   "metadata": {},
   "source": [
    "self.date_joined = dt.date.today()\n",
    "self.is_active = True"
   ]
  },
  {
   "cell_type": "code",
   "execution_count": 35,
   "id": "eb6a08cb",
   "metadata": {},
   "outputs": [],
   "source": [
    "import datetime as dt\n",
    "\n",
    "# Define a new class name Member.\n",
    "class Member:\n",
    "    \"\"\" Create a new member. \"\"\"\n",
    "    def __init__(self, username, fullname):\n",
    "        # Define attributes and give them values.\n",
    "        self.username = username\n",
    "        self.fullname = fullname\n",
    "        \n",
    "        # Default date_joined to toady's date.\n",
    "        self.date_joint = dt.date.today()\n",
    "        # Set is active to True initially\n",
    "        self.is_active = True"
   ]
  },
  {
   "cell_type": "markdown",
   "id": "d1b3ed78",
   "metadata": {},
   "source": [
    "#### Change any other attribute's value using the syntax:"
   ]
  },
  {
   "cell_type": "raw",
   "id": "1ddec41b",
   "metadata": {},
   "source": [
    "objectname.attributename = name"
   ]
  },
  {
   "cell_type": "raw",
   "id": "e8c50369",
   "metadata": {},
   "source": [
    "newmember.is_active = False"
   ]
  },
  {
   "cell_type": "markdown",
   "id": "786201ce",
   "metadata": {},
   "source": [
    "# Giving a Class Methods"
   ]
  },
  {
   "cell_type": "markdown",
   "id": "f3a33177",
   "metadata": {},
   "source": [
    "#### To define what the methods will be in your class, use this syntax for each method:"
   ]
  },
  {
   "cell_type": "raw",
   "id": "54cd982b",
   "metadata": {},
   "source": [
    "def methodname(self[, param1, param2, ...])"
   ]
  },
  {
   "cell_type": "code",
   "execution_count": 36,
   "id": "154a887f",
   "metadata": {},
   "outputs": [],
   "source": [
    "# Define methods as functions, use self for \"this\" object.\n",
    "def show_date_joined(self):\n",
    "    return f\"{self.fullname} joined on {self.date_joined:%m/%d/%y}\""
   ]
  },
  {
   "cell_type": "raw",
   "id": "b351c5b8",
   "metadata": {},
   "source": [
    "objectname.methodname()"
   ]
  },
  {
   "cell_type": "markdown",
   "id": "271d9b3f",
   "metadata": {},
   "source": [
    "# Changing the value of an object's attributes"
   ]
  },
  {
   "cell_type": "code",
   "execution_count": 42,
   "id": "6b145ed7",
   "metadata": {},
   "outputs": [
    {
     "name": "stdout",
     "output_type": "stream",
     "text": [
      "Rocco Moe joined on 03/23/23\n"
     ]
    }
   ],
   "source": [
    "import datetime as dt\n",
    "\n",
    "# Define a new class name Member\n",
    "class Member:\n",
    "    \"\"\" Create a new member. \"\"\"\n",
    "    def __init__(self, username, fullname):\n",
    "        # Define attribute and give them values\n",
    "        self.username = username\n",
    "        self.fullname = fullname\n",
    "        # Default date_joined to today's date\n",
    "        self.date_joined = dt.date.today()\n",
    "        # Set is active to True initially.\n",
    "        self.is_active = True\n",
    "        \n",
    "    # Member for each instance created (instance methods)\n",
    "        \n",
    "    # A method to return a formatted string with showing date joined.\n",
    "    def show_datejoined(self):\n",
    "        return f\"{self.fullname} joined on {self.date_joined:%m/%d/%y}\"\n",
    "# The class ends at the first un-indented line.\n",
    "                \n",
    "        \n",
    "# Create an instance of the Member class named new_guy.\n",
    "new_guy = Member('Rambo','Rocco Moe')\n",
    "        \n",
    "# Try out the date_joined method.\n",
    "print(new_guy.show_datejoined())"
   ]
  },
  {
   "cell_type": "markdown",
   "id": "2042b54d",
   "metadata": {},
   "source": [
    "# Passing parameters to methods"
   ]
  },
  {
   "cell_type": "code",
   "execution_count": 43,
   "id": "e244a349",
   "metadata": {},
   "outputs": [],
   "source": [
    "# Method to activate (True) or deactivate (False) account.\n",
    "def activate(self, yesno):\n",
    "    \"\"\"True for active, False to make inactive \"\"\"\n",
    "    self.is_active = yesno"
   ]
  },
  {
   "cell_type": "markdown",
   "id": "26d1d95f",
   "metadata": {},
   "source": [
    "#### It helps to understand that a method is really just a function. What makes a method different from a generic function is the fact that a method is always associated with some class. So it’s not as generic as a function."
   ]
  },
  {
   "cell_type": "markdown",
   "id": "5cae0d99",
   "metadata": {},
   "source": [
    "# Adding and testing an .activate() method"
   ]
  },
  {
   "cell_type": "code",
   "execution_count": 47,
   "id": "6f87572c",
   "metadata": {},
   "outputs": [
    {
     "name": "stdout",
     "output_type": "stream",
     "text": [
      "True\n",
      "False\n",
      "2023-03-23\n"
     ]
    }
   ],
   "source": [
    "import datetime as dt\n",
    "\n",
    "# Define a new member class named Member.\n",
    "class Member:\n",
    "    def __init__(self, username, fullname):\n",
    "        # Define attributes and give them values\n",
    "        self.username = username\n",
    "        self.fullname = fullname\n",
    "        # Default date_joined to today's date\n",
    "        self.date_joined = dt.date.today()\n",
    "        # Set is active to True initially\n",
    "        self.is_active = True\n",
    "        \n",
    "    # Methods for each instance created (instance methods)\n",
    "    \n",
    "    # A method to return a formatted string with showing date joined.\n",
    "    def show_datejoined(self):\n",
    "        return f\"{self.fullname} joined on {self.date_joined:%m/%d/%y}\"\n",
    "    \n",
    "    # Method to activate (True) or deactivate (False) account.\n",
    "    def activate(self, yesno):\n",
    "        \"\"\" True for active, False to make inactive \"\"\"\n",
    "        self.is_active = yesno\n",
    "        \n",
    "# The class ends at the first un-indented line.\n",
    "\n",
    "# Create an instance of the Member class named new_guy.\n",
    "new_guy = Member('Rambo','Rocco Moe')\n",
    "\n",
    "# Is new_guy active?\n",
    "print(new_guy.is_active)\n",
    "\n",
    "# Try out the activate method.\n",
    "new_guy.activate(False)\n",
    "\n",
    "# Is new_guy still active?\n",
    "print(new_guy.is_active)\n",
    "\n",
    "# Print today's date\n",
    "print(new_guy.date_joined)"
   ]
  },
  {
   "cell_type": "markdown",
   "id": "92d32b5e",
   "metadata": {},
   "source": [
    "# Calling a class method by class name"
   ]
  },
  {
   "cell_type": "raw",
   "id": "0a123218",
   "metadata": {},
   "source": [
    "Syntax:"
   ]
  },
  {
   "cell_type": "raw",
   "id": "656c3084",
   "metadata": {},
   "source": [
    "specificobject.method()"
   ]
  },
  {
   "cell_type": "raw",
   "id": "fba71817",
   "metadata": {},
   "source": [
    "Alternative syntax:"
   ]
  },
  {
   "cell_type": "raw",
   "id": "e05ce5b1",
   "metadata": {},
   "source": [
    "Classname.method(specificobject)"
   ]
  },
  {
   "cell_type": "raw",
   "id": "d59e23cd",
   "metadata": {},
   "source": [
    "Wilbur = Member('wblomgren','Wilbur Blomgren') "
   ]
  },
  {
   "cell_type": "raw",
   "id": "47e7082e",
   "metadata": {},
   "source": [
    "print(Wilbur.show_datejoined())"
   ]
  },
  {
   "cell_type": "raw",
   "id": "cc02012d",
   "metadata": {},
   "source": [
    "print(Member.show_joined(Wilbur))"
   ]
  },
  {
   "cell_type": "raw",
   "id": "ed738525",
   "metadata": {},
   "source": [
    "Wilbur Blomgren joined on 12/06/18"
   ]
  },
  {
   "cell_type": "markdown",
   "id": "0ed4bb02",
   "metadata": {},
   "source": [
    "# Using class variables"
   ]
  },
  {
   "cell_type": "markdown",
   "id": "778a0b02",
   "metadata": {},
   "source": [
    "### Define the class variable"
   ]
  },
  {
   "cell_type": "raw",
   "id": "a0321c93",
   "metadata": {},
   "source": [
    "Syntax:"
   ]
  },
  {
   "cell_type": "raw",
   "id": "944f013b",
   "metadata": {},
   "source": [
    "variablename = value"
   ]
  },
  {
   "cell_type": "raw",
   "id": "69af082f",
   "metadata": {},
   "source": [
    "# Define a class named Member for making member objects\n",
    "class Member:\n",
    "    \"\"\" Create a member object \"\"\"\n",
    "    free_days = 90\n",
    "    \n",
    "    def __init__ (self, username, fullname):"
   ]
  },
  {
   "cell_type": "markdown",
   "id": "b09133c1",
   "metadata": {},
   "source": [
    "### This will give an error"
   ]
  },
  {
   "cell_type": "raw",
   "id": "cec569ac",
   "metadata": {},
   "source": [
    "self.free_expires = dt.date.today() + dt.timedlta(days = free_days)"
   ]
  },
  {
   "cell_type": "raw",
   "id": "16496d28",
   "metadata": {},
   "source": [
    "self.free_expires = dt.date.today() + dt.timedelta(days = Member.free_days)"
   ]
  },
  {
   "cell_type": "markdown",
   "id": "b9448f4d",
   "metadata": {},
   "source": [
    "# The variable free days is a class variable in this class"
   ]
  },
  {
   "cell_type": "code",
   "execution_count": 50,
   "id": "4898c655",
   "metadata": {},
   "outputs": [
    {
     "name": "stdout",
     "output_type": "stream",
     "text": [
      "2023-03-23\n",
      "2024-03-22\n"
     ]
    }
   ],
   "source": [
    "import datetime as dt\n",
    "# Define a new class member name Member.\n",
    "class Member:\n",
    "    # Default number of free days.\n",
    "    free_days = 365\n",
    "    \n",
    "    \"\"\" Create a new member \"\"\"\n",
    "    # This is an instance method for creating an object. Self immediately ties the method to one object\n",
    "    def __init__(self, username, fullname): \n",
    "        self.date_joined = dt.date.today()\n",
    "        # Set an expiration date\n",
    "        self.free_expires = dt.date.today() + dt.timedelta(days = Member.free_days)\n",
    "        \n",
    "# The class ends at the first un-indented line.\n",
    "\n",
    "# Create an instance of the Member class named new_guy.\n",
    "wilbur = Member('wblomgren','Wilbur Blomegren')\n",
    "\n",
    "print(wilbur.date_joined)\n",
    "print(wilbur.free_expires)"
   ]
  },
  {
   "cell_type": "code",
   "execution_count": 51,
   "id": "3a1d2b3b",
   "metadata": {},
   "outputs": [],
   "source": [
    "# Set a default for free days\n",
    "Member.free_days = 90"
   ]
  },
  {
   "cell_type": "markdown",
   "id": "99c23e63",
   "metadata": {},
   "source": [
    "# Using class methods"
   ]
  },
  {
   "cell_type": "raw",
   "id": "778516b9",
   "metadata": {},
   "source": [
    "@classmethod"
   ]
  },
  {
   "cell_type": "markdown",
   "id": "fbdac21c",
   "metadata": {},
   "source": [
    "#### The @ at the start of this defines it as a decorator — yep, yet another buzzword to add to your ever-growing list of nerd-o-rama buzzwords. A decorator is generally something that alters or extends the functionality of that to which it is applied."
   ]
  },
  {
   "cell_type": "raw",
   "id": "0044448a",
   "metadata": {},
   "source": [
    "Syntax:"
   ]
  },
  {
   "cell_type": "raw",
   "id": "0b8c735f",
   "metadata": {},
   "source": [
    "def methodname(cls,x):"
   ]
  },
  {
   "cell_type": "raw",
   "id": "817d4217",
   "metadata": {},
   "source": [
    "# Class methods follows @classmethods and use cls rather than self.\n",
    "@classmethod\n",
    "def setfreedays(cls,days):\n",
    "    cls.free_days = days"
   ]
  },
  {
   "cell_type": "code",
   "execution_count": 62,
   "id": "d59b1d1e",
   "metadata": {},
   "outputs": [],
   "source": [
    "import datetime as dt\n",
    "# Define a new class name Member.\n",
    "class Member:\n",
    "    # Default number of free days.\n",
    "    free_days = 365\n",
    "    \n",
    "    \"\"\" Create a new member. \"\"\"\n",
    "    def __init__(self, username, fullname):\n",
    "        self.date_joined = dt.date.today()\n",
    "        # Set an expiration date\n",
    "        self.free_expires = dt.date.today() + dt.timedelta(days = Member.free_days)\n",
    "        \n",
    "    # Class methods follows @classmethod decorator and refer to cls rather than to self.\n",
    "    @classmethod\n",
    "    def setfreedays(cls,days):\n",
    "        cls.free_days = days"
   ]
  },
  {
   "cell_type": "code",
   "execution_count": 63,
   "id": "4f55f75d",
   "metadata": {},
   "outputs": [],
   "source": [
    "Member.setfreedays(30)"
   ]
  },
  {
   "cell_type": "code",
   "execution_count": 64,
   "id": "19a476f5",
   "metadata": {},
   "outputs": [
    {
     "name": "stdout",
     "output_type": "stream",
     "text": [
      "2023-03-23\n",
      "2023-04-22\n"
     ]
    }
   ],
   "source": [
    "wilbur = Member('wblomgren','Wilbur Blomgren')\n",
    "print(wilbur.date_joined)\n",
    "print(wilbur.free_expires)"
   ]
  },
  {
   "cell_type": "markdown",
   "id": "c3488cdf",
   "metadata": {},
   "source": [
    "# Using static methods"
   ]
  },
  {
   "cell_type": "markdown",
   "id": "4698b540",
   "metadata": {},
   "source": [
    "### What makes a static method different from instance and class methods is that a static method doesn’t relate specifically to an instance"
   ]
  },
  {
   "cell_type": "raw",
   "id": "8daed46b",
   "metadata": {},
   "source": [
    "Sybntax: "
   ]
  },
  {
   "cell_type": "raw",
   "id": "181f6ede",
   "metadata": {},
   "source": [
    "@staticmethod"
   ]
  },
  {
   "cell_type": "raw",
   "id": "a8d45fa5",
   "metadata": {},
   "source": [
    "@staticmethod\n",
    "def currenttime():\n",
    "    now = dt.datetime.now()\n",
    "    return f\"{now:%I:%M %p}\""
   ]
  },
  {
   "cell_type": "markdown",
   "id": "63bbf43d",
   "metadata": {},
   "source": [
    "# The Member class now has a static method named currenttime()"
   ]
  },
  {
   "cell_type": "code",
   "execution_count": 3,
   "id": "8a4670ad",
   "metadata": {},
   "outputs": [
    {
     "name": "stdout",
     "output_type": "stream",
     "text": [
      "12:14 PM\n"
     ]
    }
   ],
   "source": [
    "import datetime as dt\n",
    "\n",
    "# Define a class named Member for making member objects.\n",
    "class Member:\n",
    "    # This is the class variable that's the same for all instances.\n",
    "    free_days = 0\n",
    "    \n",
    "    \"\"\" Create a member object from username and fullname \"\"\"\n",
    "    def __init__(self, username, fullname):\n",
    "        # Define properties and assign default values.\n",
    "        self.datejoined = dt.date.today()\n",
    "        self.free_expires = dt.date.today() + dt.timedelta(Member.free_days)\n",
    "        \n",
    "    \n",
    "    # Class methods follow @classmethods and use cls rather than self.\n",
    "    @classmethod\n",
    "    def setfreedays(cls,days):\n",
    "        cls.free_days = days\n",
    "        \n",
    "        \n",
    "    @staticmethod\n",
    "    def currenttime():\n",
    "        now = dt.datetime.now()\n",
    "        return f\"{now:%I:%M %p}\"\n",
    "    \n",
    "# Class definition ends at last indented line\n",
    "\n",
    "# Try out the new static method (no object required)\n",
    "print(Member.currenttime())"
   ]
  },
  {
   "cell_type": "markdown",
   "id": "60283566",
   "metadata": {},
   "source": [
    "# Understanding Class Inheritance"
   ]
  },
  {
   "cell_type": "code",
   "execution_count": 5,
   "id": "8f024e07",
   "metadata": {},
   "outputs": [],
   "source": [
    "import datetime as dt\n",
    "# Class is used for all kinds of people.\n",
    "import datetime as dt\n",
    "\n",
    "# Base class is used for all kinds of Members\n",
    "class Member:\n",
    "    \"\"\" The Member class attributes and methods are for everyone \"\"\"\n",
    "    # By default, a new account expires in one year (365 days)\n",
    "    expiry_days = 365\n",
    "    \n",
    "    # Initialize a member object.\n",
    "    def __init__(self, firstname, lastname):\n",
    "        # attributes (instance variables) for everybody.\n",
    "        self.firstname = firstname\n",
    "        self.lastname = lastname\n",
    "        # Calculate expiry date from today's date.\n",
    "        self.expiry_date = dt.date.today() + dt.timedelta(days=self.expiry_days)"
   ]
  },
  {
   "cell_type": "markdown",
   "id": "290d0be6",
   "metadata": {},
   "source": [
    "# Changing the value of an attribute"
   ]
  },
  {
   "cell_type": "markdown",
   "id": "7d874c9b",
   "metadata": {},
   "source": [
    "Syntax:"
   ]
  },
  {
   "cell_type": "raw",
   "id": "9f1d22db",
   "metadata": {},
   "source": [
    "objectname.attributename = value"
   ]
  },
  {
   "cell_type": "raw",
   "id": "12310bad",
   "metadata": {},
   "source": [
    "new_guy.username = \"Princess\""
   ]
  },
  {
   "cell_type": "markdown",
   "id": "2ee7b3a9",
   "metadata": {},
   "source": [
    "# Defining attributes with default values"
   ]
  },
  {
   "cell_type": "markdown",
   "id": "37f04bca",
   "metadata": {},
   "source": [
    "Use the syntax:"
   ]
  },
  {
   "cell_type": "raw",
   "id": "b878fdfc",
   "metadata": {},
   "source": [
    "self.attributename = value"
   ]
  },
  {
   "cell_type": "raw",
   "id": "770f4bb8",
   "metadata": {},
   "source": [
    "is_active"
   ]
  },
  {
   "cell_type": "markdown",
   "id": "303e228b",
   "metadata": {},
   "source": [
    "# Changing the value of an object's attribute"
   ]
  },
  {
   "cell_type": "code",
   "execution_count": 12,
   "id": "9a906ef1",
   "metadata": {},
   "outputs": [
    {
     "name": "stdout",
     "output_type": "stream",
     "text": [
      "Rambo\n",
      "Rocco Moe\n",
      "\n",
      "Princess\n",
      "Rocco Moe\n"
     ]
    }
   ],
   "source": [
    "# Define a new class name Member.\n",
    "class Member:\n",
    "    \"\"\" Create a new member. \"\"\"\n",
    "    def __init__(self, username, fullname):\n",
    "        # Define attributes and give them values.\n",
    "        self.username = username\n",
    "        self.fullname = fullname\n",
    "        \n",
    "# The class ends at the instance, as well as its individual properties.\n",
    "\n",
    "# Create an instance of the Member class named new_guy\n",
    "new_guy = Member('Rambo','Rocco Moe')\n",
    "\n",
    "# See what's in the instance, as well as its individual properties\n",
    "print(new_guy.username)\n",
    "print(new_guy.fullname)\n",
    "print() # This just prints a blanks line.\n",
    "\n",
    "# Change new_guy's user name then print both attributes again.\n",
    "new_guy.username = \"Princess\"\n",
    "print(new_guy.username)\n",
    "print(new_guy.fullname)"
   ]
  },
  {
   "cell_type": "raw",
   "id": "970b281f",
   "metadata": {},
   "source": [
    "self.date_joined = dt.date.today()\n",
    "self.is_active = True"
   ]
  },
  {
   "cell_type": "code",
   "execution_count": 14,
   "id": "12110ef6",
   "metadata": {},
   "outputs": [],
   "source": [
    "import datetime as dt\n",
    "\n",
    "# Define a new class name Member.\n",
    "class Member:\n",
    "    \"\"\" Create a new member. \"\"\"\n",
    "    def __init__(self, username, fullname):\n",
    "        # Define attributes and give them values.\n",
    "        self.username = username\n",
    "        self.fullname = fullname\n",
    "        \n",
    "        # Default date_joined to today's date.\n",
    "        self.date_joined = dt.date.today()\n",
    "        # Set is active to True initially\n",
    "        self.is_active = True"
   ]
  },
  {
   "cell_type": "raw",
   "id": "62463884",
   "metadata": {},
   "source": [
    "objectname.attributename = value"
   ]
  },
  {
   "cell_type": "raw",
   "id": "3302888c",
   "metadata": {},
   "source": [
    "newmember.is_active = False"
   ]
  },
  {
   "cell_type": "markdown",
   "id": "585e63f5",
   "metadata": {},
   "source": [
    "# Giving a Class Methods"
   ]
  },
  {
   "cell_type": "markdown",
   "id": "17562602",
   "metadata": {},
   "source": [
    "Use this syntax:"
   ]
  },
  {
   "cell_type": "raw",
   "id": "45fd008a",
   "metadata": {},
   "source": [
    "def methodname(self[, param1, param2, ...])"
   ]
  },
  {
   "cell_type": "code",
   "execution_count": 15,
   "id": "3b259a0c",
   "metadata": {},
   "outputs": [],
   "source": [
    "# Define methoda as functions, use self for \"this\" object.\n",
    "def show_datejoined(self):\n",
    "    return f\"{self.fullname} joined on {self.date_joined:%m/%d/%y}\""
   ]
  },
  {
   "cell_type": "raw",
   "id": "e11c0d65",
   "metadata": {},
   "source": [
    "objectname.methodname()"
   ]
  },
  {
   "cell_type": "markdown",
   "id": "3f446df3",
   "metadata": {},
   "source": [
    "# Changing the value of an object's attributes"
   ]
  },
  {
   "cell_type": "code",
   "execution_count": 17,
   "id": "a10289ae",
   "metadata": {},
   "outputs": [
    {
     "name": "stdout",
     "output_type": "stream",
     "text": [
      "Rocco Moe joined on 03/28/23\n"
     ]
    }
   ],
   "source": [
    "import datetime as dt\n",
    "\n",
    "# Define a new class name Member.\n",
    "class Member:\n",
    "    \"\"\" Create a new member \"\"\"\n",
    "    def __init__(self, username, fullname):\n",
    "        # Define attributes and give them values\n",
    "        self.username = username\n",
    "        self.fullname = fullname\n",
    "        # Define date_joined to today's date.\n",
    "        self.date_joined = dt.date.today()\n",
    "        # Set is active to True initially.\n",
    "        self.isActive = True\n",
    "    \n",
    "    # Methods for each instance created (instance methods)\n",
    "    \n",
    "    # A method to return a formatted string with showing date joined.\n",
    "    def show_datejoined(self):\n",
    "        return f\"{self.fullname} joined on {self.date_joined:%m/%d/%y}\"\n",
    "    \n",
    "# The class ends at the first un-indented line.\n",
    "\n",
    "# Create an instance of the Member class named new_guy\n",
    "new_guy = Member('Rambo','Rocco Moe')\n",
    "\n",
    "# Try out the date_joined method.\n",
    "print(new_guy.show_datejoined())\n"
   ]
  },
  {
   "cell_type": "markdown",
   "id": "ceeb9aee",
   "metadata": {},
   "source": [
    "# Passing parameters to methods"
   ]
  },
  {
   "cell_type": "code",
   "execution_count": 18,
   "id": "267e34e4",
   "metadata": {},
   "outputs": [],
   "source": [
    "# Method to activate (True) or deactivate (False) account.\n",
    "def activate(self, yesno):\n",
    "    \"\"\" True for active, False to make incative \"\"\"\n",
    "    self.is_active = yesno"
   ]
  },
  {
   "cell_type": "markdown",
   "id": "05f17941",
   "metadata": {},
   "source": [
    "# Adding and testing an .activate() method"
   ]
  },
  {
   "cell_type": "code",
   "execution_count": 22,
   "id": "ac50f294",
   "metadata": {},
   "outputs": [
    {
     "name": "stdout",
     "output_type": "stream",
     "text": [
      "True\n",
      "False\n"
     ]
    }
   ],
   "source": [
    "import datetime as dt\n",
    "\n",
    "# Define a new class name Member.\n",
    "class Member:\n",
    "    \"\"\" Create a new member \"\"\"\n",
    "    def __init__(self, username, fullname):\n",
    "        # Define attributes and give them values.\n",
    "        self.username = username\n",
    "        self.fullname = fullname\n",
    "        # Default date_joined to today's date.\n",
    "        self.date_joined = dt.date.today()\n",
    "        # Set is active to True initially.\n",
    "        self.is_active = True\n",
    "        \n",
    "    # Methods for each instance created (instance methods)\n",
    "    \n",
    "    # A method to return a formatted str9ing with showing date joined.\n",
    "    def show_datejoined(self):\n",
    "        return f\"{self.fullname} joined on {self.date_joined:%m/%d/%y}\"\n",
    "    \n",
    "    def activate(self, yesno):\n",
    "        \"\"\" True for active, False to make inactive \"\"\"\n",
    "        self.is_active = yesno\n",
    "    \n",
    "# The class ends at the first un-indented line.\n",
    "\n",
    "# Create an instance of the Member class named new_guy.\n",
    "new_guy = Member('Rambo','Rocco Moe')\n",
    "\n",
    "# Is new-guy active?\n",
    "print(new_guy.is_active)\n",
    "\n",
    "\n",
    "# Try out the date_joined method.\n",
    "new_guy.activate(False)\n",
    "\n",
    "# Is new-guy still active?\n",
    "print(new_guy.is_active)"
   ]
  },
  {
   "cell_type": "markdown",
   "id": "163f34f1",
   "metadata": {},
   "source": [
    "# Calling a class method by class name"
   ]
  },
  {
   "cell_type": "markdown",
   "id": "bdcf8360",
   "metadata": {},
   "source": [
    "You can call a class method using the following syntax:"
   ]
  },
  {
   "cell_type": "raw",
   "id": "0318854f",
   "metadata": {},
   "source": [
    "specificobject.method()"
   ]
  },
  {
   "cell_type": "markdown",
   "id": "e684974a",
   "metadata": {},
   "source": [
    "Alternative syntax is:"
   ]
  },
  {
   "cell_type": "raw",
   "id": "a887ef69",
   "metadata": {},
   "source": [
    "Classname.method(specificobject)"
   ]
  },
  {
   "cell_type": "markdown",
   "id": "2d84f3cf",
   "metadata": {},
   "source": [
    "Create a new member using the code"
   ]
  },
  {
   "cell_type": "raw",
   "id": "e88ee74a",
   "metadata": {},
   "source": [
    "wilbur = Member('wblomgren', 'Wilbur Blomgren')"
   ]
  },
  {
   "cell_type": "raw",
   "id": "5d7a25e7",
   "metadata": {},
   "source": [
    "print(wilbur.show_datejoined())"
   ]
  },
  {
   "cell_type": "raw",
   "id": "82dca461",
   "metadata": {},
   "source": [
    "Wilbur Blomgren joined on 12/06/18"
   ]
  },
  {
   "cell_type": "markdown",
   "id": "ad80ec30",
   "metadata": {},
   "source": [
    "# Using class variables"
   ]
  },
  {
   "cell_type": "markdown",
   "id": "ad12d352",
   "metadata": {},
   "source": [
    "Using the standard syntax:"
   ]
  },
  {
   "cell_type": "raw",
   "id": "3c43e6e0",
   "metadata": {},
   "source": [
    "variablename = value"
   ]
  },
  {
   "cell_type": "raw",
   "id": "c187c779",
   "metadata": {},
   "source": [
    "# Define a class named Member for making member objects.\n",
    "class Member:\n",
    "    \"\"\" Create a member object \"\"\"\n",
    "    free_days = 90\n",
    "    \n",
    "    def __init__(self, username, fullname):"
   ]
  },
  {
   "cell_type": "raw",
   "id": "b9a2d8d7",
   "metadata": {},
   "source": [
    "self.free_expires = dt.date.today() + dt.timedelta(days = free_days)"
   ]
  },
  {
   "cell_type": "markdown",
   "id": "ce668925",
   "metadata": {},
   "source": [
    "This wouldn’t work. If you tried to run the code that way, you’d get an error\n",
    "saying Python doesn’t recognize the free_days variable name (even though it’s\n",
    "defined right at the top of the class)."
   ]
  },
  {
   "cell_type": "raw",
   "id": "00c129e2",
   "metadata": {},
   "source": [
    "self.free_expires = dt.date.today() + dt.timedelta(days = Member.free_days)"
   ]
  },
  {
   "cell_type": "code",
   "execution_count": 27,
   "id": "5c0b7f5b",
   "metadata": {},
   "outputs": [
    {
     "name": "stdout",
     "output_type": "stream",
     "text": [
      "2023-03-28\n",
      "2024-03-27\n"
     ]
    }
   ],
   "source": [
    "import datetime as dt\n",
    "# Define a new class name Member.\n",
    "class Member:\n",
    "    # Default number of free days.\n",
    "    free_days = 365\n",
    "    \n",
    "    \"\"\" Create a new member. \"\"\"\n",
    "    def __init__(self, username, fullname):\n",
    "        self.date_joined = dt.date.today()\n",
    "        # Set an expiration date\n",
    "        self.free_expires = dt.date.today() + dt.timedelta(days = Member.free_days)\n",
    "       \n",
    "        \n",
    "# The class ends at the first un-indented line.\n",
    "\n",
    "# Create an instance of the Member class named new_guy.\n",
    "wilbur = Member('wblomgren','Wilbur Blomegren')\n",
    "\n",
    "print(wilbur.date_joined)\n",
    "print(wilbur.free_expires)"
   ]
  },
  {
   "cell_type": "markdown",
   "id": "53e97f0b",
   "metadata": {},
   "source": [
    "So, what if later down the road you decide giving people 90 free days is plenty. You\n",
    "could just change that in the class directly, but since it’s a variable, you can do it\n",
    "on-the-fly, like this, outside the class:"
   ]
  },
  {
   "cell_type": "raw",
   "id": "5058b6d9",
   "metadata": {},
   "source": [
    "# Set a default for free days.\n",
    "Member.free_days = 90"
   ]
  },
  {
   "cell_type": "markdown",
   "id": "3034dab9",
   "metadata": {},
   "source": [
    "# Using class methods"
   ]
  },
  {
   "cell_type": "markdown",
   "id": "14165bd1",
   "metadata": {},
   "source": [
    "Syntax:"
   ]
  },
  {
   "cell_type": "raw",
   "id": "78a4e2be",
   "metadata": {},
   "source": [
    "@classmethod"
   ]
  },
  {
   "cell_type": "markdown",
   "id": "f44b2683",
   "metadata": {},
   "source": [
    "Define your class methods with this syntax:"
   ]
  },
  {
   "cell_type": "raw",
   "id": "85341fc1",
   "metadata": {},
   "source": [
    "def methodname(cls,x):"
   ]
  },
  {
   "cell_type": "code",
   "execution_count": 28,
   "id": "2c7e0b05",
   "metadata": {},
   "outputs": [],
   "source": [
    "# Class methods follow @classmethods and cls rather then self.\n",
    "@classmethod\n",
    "def setfreedays(cls,days):\n",
    "    cls.free_days = days"
   ]
  },
  {
   "cell_type": "markdown",
   "id": "d8d75bab",
   "metadata": {},
   "source": [
    "# The set freedays() method is a class method in this class"
   ]
  },
  {
   "cell_type": "code",
   "execution_count": 29,
   "id": "23e644bf",
   "metadata": {},
   "outputs": [],
   "source": [
    "import datetime as dt\n",
    "# Define a new class name Member.\n",
    "class Member:\n",
    "    free_days = 365\n",
    "    \n",
    "    \"\"\" Create a new member \"\"\"\n",
    "    def __init__(self, username, fullname):\n",
    "        self.date_joined = dt.date.today()\n",
    "        # Set an expiration date\n",
    "        self.free_expires = dt.date.today() + dt.timedelta(days = Member.free_days)\n",
    "        \n",
    "    # Class methods follow @classmethod decorator and refer to cls rather than to self.\n",
    "    @classmethod\n",
    "    def setfreedays(cls,days):\n",
    "        cls.free_days = days"
   ]
  },
  {
   "cell_type": "code",
   "execution_count": 30,
   "id": "86a46417",
   "metadata": {},
   "outputs": [],
   "source": [
    "Member.setfreedays(30)"
   ]
  },
  {
   "cell_type": "raw",
   "id": "970f2dfe",
   "metadata": {},
   "source": [
    "wilbur = Member('wblomgren','Wilbur Blomgren')\n",
    "print(witbur.date_joined)\n",
    "print(wilbur.free_expires)"
   ]
  },
  {
   "cell_type": "markdown",
   "id": "1235f7a3",
   "metadata": {},
   "source": [
    "# Using static methods"
   ]
  },
  {
   "cell_type": "markdown",
   "id": "2aeba810",
   "metadata": {},
   "source": [
    "Syntax:"
   ]
  },
  {
   "cell_type": "code",
   "execution_count": 32,
   "id": "95081b0b",
   "metadata": {},
   "outputs": [],
   "source": [
    "@staticmethod\n",
    "def currenttme():\n",
    "    now = dt.datetime.now()\n",
    "    return f\"{now:%I:%M %p}\""
   ]
  },
  {
   "cell_type": "markdown",
   "id": "1a765b90",
   "metadata": {},
   "source": [
    "# The Member class now has a static method named currenttime()"
   ]
  },
  {
   "cell_type": "code",
   "execution_count": 33,
   "id": "607eab38",
   "metadata": {},
   "outputs": [
    {
     "name": "stdout",
     "output_type": "stream",
     "text": [
      "04:23 PM\n"
     ]
    }
   ],
   "source": [
    "import datetime as dt\n",
    "\n",
    "# Define a class named Member for making member objects.\n",
    "class Member:\n",
    "    # This is a class variable that's the same for all instances.\n",
    "    free_days = 0\n",
    "    \n",
    "    \"\"\" Create a member object from username and fullname \"\"\"\n",
    "    def __init__(self, username, fullname):\n",
    "        # Define properties and assign default values.\n",
    "        self.datejoined = dt.date.today()\n",
    "        self.free_expires = dt.date.today() + dt.timedelta(Member.free_days)\n",
    "        \n",
    "    # Class methods follow @classmethods and use cls rather than self.\n",
    "    @classmethod\n",
    "    def setfreedays(cls,days):\n",
    "        cls.free_days = days\n",
    "        \n",
    "    @staticmethod\n",
    "    def currenttime():\n",
    "        now = dt.datetime.now()\n",
    "        return f\"{now:%I:%M %p}\"\n",
    "    \n",
    "# Class definition ends at last indented line\n",
    "\n",
    "# Try out the static method (no object required)\n",
    "print(Member.currenttime())"
   ]
  },
  {
   "cell_type": "markdown",
   "id": "1de020c4",
   "metadata": {},
   "source": [
    "# Understanding Class Inheritance"
   ]
  },
  {
   "cell_type": "markdown",
   "id": "8ddb4002",
   "metadata": {},
   "source": [
    "### Creating the base (main) class"
   ]
  },
  {
   "cell_type": "code",
   "execution_count": 1,
   "id": "41f538f7",
   "metadata": {},
   "outputs": [],
   "source": [
    "import datetime as dt\n",
    "# Class is used for all kinds of people.\n",
    "import datetime as dt\n",
    "\n",
    "# Base class is used for all kinds of Members.\n",
    "class Member:\n",
    "    \"\"\" The Member class attributes and methods are everyone \"\"\"\n",
    "    # By default, a new account expires in one year (365 days)\n",
    "    expiry_days = 365\n",
    "    \n",
    "    # Initialize a member object.\n",
    "    def __init__(self, firstname, lastname):\n",
    "        # Attributes (instance variables) for everybody.\n",
    "        self.firstname = firstname\n",
    "        self.lastname = lastname\n",
    "        # Calculate expiry date from today'date.\n",
    "        self.expiry_day = dt.date.today() + dt.timedelta(days=self.expiry_days)"
   ]
  },
  {
   "cell_type": "markdown",
   "id": "7629a95a",
   "metadata": {},
   "source": [
    "# A simplified member class"
   ]
  },
  {
   "cell_type": "code",
   "execution_count": 2,
   "id": "9f290505",
   "metadata": {},
   "outputs": [
    {
     "name": "stdout",
     "output_type": "stream",
     "text": [
      "Joe\n",
      "Anybody\n",
      "2024-03-29\n"
     ]
    }
   ],
   "source": [
    "import datetime as dt\n",
    "# Class is used for all kinds of people.\n",
    "import datetime as dt\n",
    "\n",
    "# Base class is used for all kinds of Members.\n",
    "class Member:\n",
    "    \"\"\" The Member class attributes and methods are for everyone \"\"\"\n",
    "    # By default, a new account expires in one year (365 days)\n",
    "    expiry_days = 365\n",
    "    \n",
    "    # Initialize a member object.\n",
    "    def __init__(self, firstname, lastname):\n",
    "        # Attributes (instance variables) for everybody.\n",
    "        self.firstname = firstname\n",
    "        self.lastname = lastname\n",
    "        # Calculate expiry date from today's date.\n",
    "        self.expiry_date = dt.date.today() + dt.timedelta(days=self.expiry_days)\n",
    "\n",
    "# Outside the class now.\n",
    "Joe = Member('Joe','Anybody')\n",
    "print(Joe.firstname)\n",
    "print(Joe.lastname)\n",
    "print(Joe.expiry_date)"
   ]
  },
  {
   "cell_type": "markdown",
   "id": "d326c6ff",
   "metadata": {},
   "source": [
    "# Defining a subclass"
   ]
  },
  {
   "cell_type": "markdown",
   "id": "6c873aeb",
   "metadata": {},
   "source": [
    "Syntax:"
   ]
  },
  {
   "cell_type": "raw",
   "id": "6fcfe659",
   "metadata": {},
   "source": [
    "class subclassname(mainclassname)"
   ]
  },
  {
   "cell_type": "code",
   "execution_count": null,
   "id": "89b3d105",
   "metadata": {},
   "outputs": [],
   "source": [
    "class Admin(Person):\n",
    "    "
   ]
  },
  {
   "cell_type": "raw",
   "id": "41860cbb",
   "metadata": {},
   "source": [
    "class User(Person):"
   ]
  },
  {
   "cell_type": "code",
   "execution_count": 4,
   "id": "988b9120",
   "metadata": {},
   "outputs": [],
   "source": [
    "# Subclass for Admins.\n",
    "class Admin(Member):\n",
    "    pass"
   ]
  },
  {
   "cell_type": "code",
   "execution_count": 5,
   "id": "5fc9ab45",
   "metadata": {},
   "outputs": [],
   "source": [
    "# Subclass for Users.\n",
    "class User(Member):\n",
    "    pass"
   ]
  },
  {
   "cell_type": "code",
   "execution_count": 6,
   "id": "ee2d1825",
   "metadata": {},
   "outputs": [],
   "source": [
    "Ann = Admin('Annie','Angst')"
   ]
  },
  {
   "cell_type": "code",
   "execution_count": 7,
   "id": "a0967dc9",
   "metadata": {},
   "outputs": [],
   "source": [
    "Uli = User('Uli','ungula')"
   ]
  },
  {
   "cell_type": "markdown",
   "id": "2e14a4ea",
   "metadata": {},
   "source": [
    "# Creating and Testing a Person subclass"
   ]
  },
  {
   "cell_type": "code",
   "execution_count": 8,
   "id": "52c7f787",
   "metadata": {},
   "outputs": [
    {
     "name": "stdout",
     "output_type": "stream",
     "text": [
      "Annie\n",
      "Angst\n",
      "2024-03-29\n",
      "\n",
      "Uli\n",
      "Ungula\n",
      "2024-03-29\n"
     ]
    }
   ],
   "source": [
    "# Subclass for Admin.\n",
    "class Admin(Member):\n",
    "    pass\n",
    "\n",
    "# Subclass for Users.\n",
    "class User(Member):\n",
    "    pass\n",
    "\n",
    "Ann = Admin('Annie', 'Angst')\n",
    "print(Ann.firstname)\n",
    "print(Ann.lastname)\n",
    "print(Ann.expiry_date)\n",
    "print()\n",
    "Uli = User('Uli','Ungula')\n",
    "print(Uli.firstname)\n",
    "print(Uli.lastname)\n",
    "print(Uli.expiry_date)"
   ]
  },
  {
   "cell_type": "markdown",
   "id": "1c9b4f86",
   "metadata": {},
   "source": [
    "# Overriding a default value from a subclass"
   ]
  },
  {
   "cell_type": "code",
   "execution_count": 9,
   "id": "595e84a3",
   "metadata": {},
   "outputs": [],
   "source": [
    "# Subclass for admins.\n",
    "class Admin(Member):\n",
    "    # Admin accounts don't expire for 100 years.\n",
    "    expiry_days = 365.2422 * 100"
   ]
  },
  {
   "cell_type": "markdown",
   "id": "fceed9be",
   "metadata": {},
   "source": [
    "# Adding extra parameters from a subclass"
   ]
  },
  {
   "cell_type": "raw",
   "id": "2e2e7853",
   "metadata": {},
   "source": [
    "def __init__(self, firstname, lastname, secret_code):"
   ]
  },
  {
   "cell_type": "raw",
   "id": "07f84e76",
   "metadata": {},
   "source": [
    "super().__init__(param1, param2,...)"
   ]
  },
  {
   "cell_type": "raw",
   "id": "d79ab394",
   "metadata": {},
   "source": [
    "super().__init__(firstname, lastname)"
   ]
  },
  {
   "cell_type": "raw",
   "id": "eabb13e1",
   "metadata": {},
   "source": [
    "self.parametername = paramtername"
   ]
  },
  {
   "cell_type": "raw",
   "id": "b7163217",
   "metadata": {},
   "source": [
    "self.secret_code = secret_code"
   ]
  },
  {
   "cell_type": "markdown",
   "id": "b94d40d1",
   "metadata": {},
   "source": [
    "# The Admin subclass has a new secret_code parameter"
   ]
  },
  {
   "cell_type": "code",
   "execution_count": 13,
   "id": "d92a9834",
   "metadata": {},
   "outputs": [
    {
     "name": "stdout",
     "output_type": "stream",
     "text": [
      "Annie Angst 2123-03-30 PRESTO\n",
      "\n",
      "Uli Ungula 2024-03-29\n"
     ]
    }
   ],
   "source": [
    "# Subclass for Admins.\n",
    "class Admin(Member):\n",
    "    # Admin accounts don't expire for 100 years.\n",
    "    expiry_days = 365.2422 * 100\n",
    "    # Subclass parameters\n",
    "    def __init__(self, firstname, lastname, secret_code):\n",
    "        # Pass Member parameters on up to Member class.\n",
    "        super().__init__(firstname, lastname)\n",
    "        # Assign the remaining parameter to this object.\n",
    "        self.secret_code = secret_code\n",
    "        \n",
    "# Subclas for Users.\n",
    "class User(Member):\n",
    "    pass\n",
    "\n",
    "Ann = Admin('Annie','Angst','PRESTO')\n",
    "print(Ann.firstname, Ann.lastname, Ann.expiry_date, Ann.secret_code)\n",
    "\n",
    "print()\n",
    "Uli = User('Uli','Ungula')\n",
    "print(Uli.firstname, Uli.lastname, Uli.expiry_date)"
   ]
  },
  {
   "cell_type": "raw",
   "id": "4f52febd",
   "metadata": {},
   "source": [
    "# Default secret code is nothing\n",
    "self.secret_code = \"\""
   ]
  },
  {
   "cell_type": "markdown",
   "id": "e21187a3",
   "metadata": {},
   "source": [
    " # The complete Admin and User subclass"
   ]
  },
  {
   "cell_type": "code",
   "execution_count": 16,
   "id": "60906784",
   "metadata": {},
   "outputs": [
    {
     "name": "stdout",
     "output_type": "stream",
     "text": [
      "Annie Angst 2123-03-30 PRESTO\n",
      "\n",
      "Uli Ungula 2024-03-29 \n"
     ]
    }
   ],
   "source": [
    "import datetime as dt\n",
    "\n",
    "# Base class is used all kinds of Members\n",
    "class Member:\n",
    "    \"\"\" The Member class properties and methods are for everyone \"\"\"\n",
    "    # By default, a new account expires in one year (365 days)\n",
    "    expiry_days = 365\n",
    "    \n",
    "    # Initialize a member object.\n",
    "    def __init__(self, firstname, lastname):\n",
    "        # Properties (instance variables) for everybody.\n",
    "        self.firstname = firstname\n",
    "        self.lastname = lastname\n",
    "        # Calculate expiry date from today's date\n",
    "        self.expiry_date = dt.date.today() + dt.timedelta(days=self.expiry_days)\n",
    "        # Default secret code is nothing\n",
    "        self.secret_code = ''\n",
    "        \n",
    "    # Method in the base class \n",
    "    def showexpiry(self):\n",
    "        return f\"{self.firstname} {self.lastname} expires on {self.expiry_date}\"\n",
    "    \n",
    "# Subclass for Admins.\n",
    "class Admin(Member):\n",
    "    # Admin accounts don't expire for 100 years.\n",
    "    expiry_days = 365.2422 * 100\n",
    "\n",
    "    # Subclass parameters\n",
    "    def __init__(self, firstname, lastname, secret_code):\n",
    "        # Pass Member parameters on up to Member class.\n",
    "        super().__init__(firstname, lastname)\n",
    "        # Assign the remaining parameter to this object.\n",
    "        self.secret_code = secret_code\n",
    "            \n",
    "# Subclass for Users.\n",
    "class User(Member):\n",
    "    pass\n",
    "\n",
    "Ann = Admin('Annie','Angst','PRESTO')\n",
    "print(Ann.firstname, Ann.lastname, Ann.expiry_date, Ann.secret_code)\n",
    "print() # Add a blank line to output.\n",
    "\n",
    "Uli = User('Uli','Ungula')\n",
    "print(Uli.firstname, Uli.lastname, Uli.expiry_date, Uli.secret_code)\n",
    "        "
   ]
  },
  {
   "cell_type": "markdown",
   "id": "5fdaff27",
   "metadata": {},
   "source": [
    "# Calling a base class method"
   ]
  },
  {
   "cell_type": "code",
   "execution_count": 17,
   "id": "34d5a0e6",
   "metadata": {},
   "outputs": [],
   "source": [
    "class Member:\n",
    "    \"\"\" The Member class attributes and methods are for everyone \"\"\"\n",
    "    # By default, a new account expires in one year (365 days)\n",
    "    expiry_days = 365\n",
    "    \n",
    "    # Initialize a member object.\n",
    "    def __init__(self, firname, lastname):\n",
    "        # Attributes (instance variables) for everybody.\n",
    "        self.firname = firname\n",
    "        self.lastname = lastname\n",
    "        # Calculate expiry date from today's date.\n",
    "        self.expiry_date = dt.date.today() + dt.timedelta(days=self.expiry_days)\n",
    "        # Default secret_code = ''\n",
    "        \n",
    "    # Method in the base class\n",
    "    def showexpiry(self):\n",
    "        return f\"{self.firname}{self.lastname} expires on {self.expiry_date}\""
   ]
  },
  {
   "cell_type": "code",
   "execution_count": 18,
   "id": "98e7cf24",
   "metadata": {},
   "outputs": [
    {
     "name": "stdout",
     "output_type": "stream",
     "text": [
      "Annie Angst expires on 2123-03-30\n",
      "Uli Ungula expires on 2024-03-29\n"
     ]
    }
   ],
   "source": [
    "Ann = Admin('Annie','Angst','PRESTO')\n",
    "print(Ann.showexpiry())\n",
    "\n",
    "Uli = User('Uli','Ungula')\n",
    "print(Uli.showexpiry())"
   ]
  },
  {
   "cell_type": "markdown",
   "id": "f351b4a4",
   "metadata": {},
   "source": [
    "# Using the same name twice"
   ]
  },
  {
   "cell_type": "code",
   "execution_count": 19,
   "id": "64415bae",
   "metadata": {},
   "outputs": [],
   "source": [
    "class Member:\n",
    "    \"\"\" The Member class attributes and methods \"\"\"\n",
    "    # Initialize a member object.\n",
    "    def __init__(self, firstname, lastname):\n",
    "        # Attributes (instance variables) for everybody.\n",
    "        self.firstname = firstname\n",
    "        self.lastname = lastname\n",
    "        \n",
    "    # Method in the base class\n",
    "    def get_status(self):\n",
    "        return f\"{self.firstname} is a Member.\"\n",
    "    \n",
    "# Subclass for Adminstrators\n",
    "class Admin(Member):\n",
    "    def get_status(self):\n",
    "        return f\"{self.firstname} is an Admin.\"\n",
    "    \n",
    "# Subclass for regular Users\n",
    "class User(Member):\n",
    "    def get_status(self):\n",
    "        return f\"{self.firstname} is a regular User.\""
   ]
  },
  {
   "cell_type": "markdown",
   "id": "db583691",
   "metadata": {},
   "source": [
    "Python has a built-in help() method that you can use with any class to get more\n",
    "information about that class. For example, at the bottom of the code in Figure 6-19,\n",
    "add this line:"
   ]
  },
  {
   "cell_type": "code",
   "execution_count": 20,
   "id": "afacaba2",
   "metadata": {},
   "outputs": [
    {
     "name": "stdout",
     "output_type": "stream",
     "text": [
      "Help on class Admin in module __main__:\n",
      "\n",
      "class Admin(Member)\n",
      " |  Admin(firstname, lastname)\n",
      " |  \n",
      " |  Method resolution order:\n",
      " |      Admin\n",
      " |      Member\n",
      " |      builtins.object\n",
      " |  \n",
      " |  Methods defined here:\n",
      " |  \n",
      " |  get_status(self)\n",
      " |  \n",
      " |  ----------------------------------------------------------------------\n",
      " |  Methods inherited from Member:\n",
      " |  \n",
      " |  __init__(self, firstname, lastname)\n",
      " |      Initialize self.  See help(type(self)) for accurate signature.\n",
      " |  \n",
      " |  ----------------------------------------------------------------------\n",
      " |  Data descriptors inherited from Member:\n",
      " |  \n",
      " |  __dict__\n",
      " |      dictionary for instance variables (if defined)\n",
      " |  \n",
      " |  __weakref__\n",
      " |      list of weak references to the object (if defined)\n",
      "\n"
     ]
    }
   ],
   "source": [
    "help(Admin)"
   ]
  },
  {
   "cell_type": "markdown",
   "id": "edd17da1",
   "metadata": {},
   "source": [
    "# Three methods with the same name, get_status()"
   ]
  },
  {
   "cell_type": "code",
   "execution_count": 24,
   "id": "9ce51276",
   "metadata": {},
   "outputs": [
    {
     "name": "stdout",
     "output_type": "stream",
     "text": [
      "Annie is a Member.\n",
      "<bound method User.get_status of <__main__.User object at 0x7f1323967dc0>>\n",
      "<bound method Member.get_status of <__main__.Member object at 0x7f13235e54b0>>\n"
     ]
    }
   ],
   "source": [
    "class Member:\n",
    "    \"\"\" The Member class attributes and methods are for everyone \"\"\"\n",
    "    # Initialize a member object.\n",
    "    def __init__(self, firstname, lastname):\n",
    "        # Attributes (instance variables) for everybody.\n",
    "        self.firstname = firstname\n",
    "        self.lastname = lastname\n",
    "        \n",
    "    # Method in the main class\n",
    "    def get_status(self):\n",
    "        return f\"{self.firstname} is a Member.\"\n",
    "    \n",
    "# Subclass for Adminstrators\n",
    "class Admin(Member):\n",
    "    def get_status(self):\n",
    "        return f\"{self.firstname} is a Member.\"\n",
    "    \n",
    "# Subclass for regular Users\n",
    "class Users(Member):\n",
    "    def get_status(self):\n",
    "        return f\"{self.firstname} is a Member.\"\n",
    "    \n",
    "# Create an Admin\n",
    "Ann = Admin('Annie','Angst')\n",
    "print(Ann.get_status())\n",
    "\n",
    "# Create a User\n",
    "Uli = User('Uli','Ungula')\n",
    "print(Uli.get_status)\n",
    "\n",
    "# Create a member (neither Admin or User)\n",
    "Manny = Member(\"Mindy\",\"Membo\")\n",
    "print(Manny.get_status)"
   ]
  },
  {
   "cell_type": "code",
   "execution_count": 25,
   "id": "474dc7c4",
   "metadata": {},
   "outputs": [
    {
     "name": "stdout",
     "output_type": "stream",
     "text": [
      "Help on class Admin in module __main__:\n",
      "\n",
      "class Admin(Member)\n",
      " |  Admin(firstname, lastname)\n",
      " |  \n",
      " |  Method resolution order:\n",
      " |      Admin\n",
      " |      Member\n",
      " |      builtins.object\n",
      " |  \n",
      " |  Methods defined here:\n",
      " |  \n",
      " |  get_status(self)\n",
      " |  \n",
      " |  ----------------------------------------------------------------------\n",
      " |  Methods inherited from Member:\n",
      " |  \n",
      " |  __init__(self, firstname, lastname)\n",
      " |      Initialize self.  See help(type(self)) for accurate signature.\n",
      " |  \n",
      " |  ----------------------------------------------------------------------\n",
      " |  Data descriptors inherited from Member:\n",
      " |  \n",
      " |  __dict__\n",
      " |      dictionary for instance variables (if defined)\n",
      " |  \n",
      " |  __weakref__\n",
      " |      list of weak references to the object (if defined)\n",
      "\n"
     ]
    }
   ],
   "source": [
    "help(Admin)"
   ]
  },
  {
   "cell_type": "raw",
   "id": "6722885b",
   "metadata": {},
   "source": [
    "The built in method called __dict__"
   ]
  },
  {
   "cell_type": "code",
   "execution_count": 26,
   "id": "217e6f3b",
   "metadata": {},
   "outputs": [
    {
     "name": "stdout",
     "output_type": "stream",
     "text": [
      "{'__module__': '__main__', 'get_status': <function Admin.get_status at 0x7f132377a950>, '__doc__': None}\n"
     ]
    }
   ],
   "source": [
    "print(Admin.__dict__)"
   ]
  },
  {
   "cell_type": "markdown",
   "id": "8047da1d",
   "metadata": {},
   "source": [
    "# Chapter 7 \n",
    "# Sidestepping Errors"
   ]
  },
  {
   "cell_type": "markdown",
   "id": "c508f61c",
   "metadata": {},
   "source": [
    "## Understanding Exceptions"
   ]
  },
  {
   "cell_type": "markdown",
   "id": "0da5f81f",
   "metadata": {},
   "source": [
    "The Syntax is:"
   ]
  },
  {
   "cell_type": "raw",
   "id": "a588428b",
   "metadata": {},
   "source": [
    "name = open(filename)"
   ]
  },
  {
   "cell_type": "markdown",
   "id": "a78062fc",
   "metadata": {},
   "source": [
    "## Handling Errors Gracefully"
   ]
  },
  {
   "cell_type": "markdown",
   "id": "a3dc44e4",
   "metadata": {},
   "source": [
    "Basic Syntax:"
   ]
  },
  {
   "cell_type": "raw",
   "id": "fa80bbf9",
   "metadata": {},
   "source": [
    "try:\n",
    "    The things you want the code to do\n",
    "except Exception:\n",
    "    What to do if it can't do what you want it to do"
   ]
  },
  {
   "cell_type": "markdown",
   "id": "a8b62f27",
   "metadata": {},
   "source": [
    "Here’s how we can rewrite the showfilecontents.py code to handle the missing\n",
    "(or misspelled) file error:"
   ]
  },
  {
   "cell_type": "code",
   "execution_count": 27,
   "id": "95e084ff",
   "metadata": {},
   "outputs": [
    {
     "name": "stdout",
     "output_type": "stream",
     "text": [
      "Sorry i don't see a file named people.csv here\n"
     ]
    }
   ],
   "source": [
    "try:\n",
    "    # Open file and shows its name.\n",
    "    thefile = open('people.csv')\n",
    "    print(thefile.name)\n",
    "except Exception:\n",
    "    print(\"Sorry i don't see a file named people.csv here\")"
   ]
  },
  {
   "cell_type": "markdown",
   "id": "4118cfc0",
   "metadata": {},
   "source": [
    "# Basic Specific about Exceptions"
   ]
  },
  {
   "cell_type": "code",
   "execution_count": 28,
   "id": "96cf7be5",
   "metadata": {},
   "outputs": [
    {
     "name": "stdout",
     "output_type": "stream",
     "text": [
      "Sorry, I don't see a file named people.csv here\n"
     ]
    }
   ],
   "source": [
    "try:\n",
    "    # Open file and show its name.\n",
    "    thefile = open('people.csv')\n",
    "    print(thefile.name)\n",
    "    print(thefile.wookens)\n",
    "except Exception:\n",
    "    print(\"Sorry, I don't see a file named people.csv here\")"
   ]
  },
  {
   "cell_type": "markdown",
   "id": "b8d8da2b",
   "metadata": {},
   "source": [
    "### The correct way to show or display the error"
   ]
  },
  {
   "cell_type": "code",
   "execution_count": 30,
   "id": "b866a8d5",
   "metadata": {},
   "outputs": [
    {
     "name": "stdout",
     "output_type": "stream",
     "text": [
      "Sorry, I don't see a file named people.csv here\n"
     ]
    }
   ],
   "source": [
    "try:\n",
    "    # Open file and shows its name.\n",
    "    thefile = open('people.csv')\n",
    "    print(thefile.name)\n",
    "    print(thefile.wookems())\n",
    "except FileNotFoundError:\n",
    "    print(\"Sorry, I don't see a file named people.csv here\")"
   ]
  },
  {
   "cell_type": "markdown",
   "id": "615139d9",
   "metadata": {},
   "source": [
    "# Keeping your app from crashing "
   ]
  },
  {
   "cell_type": "code",
   "execution_count": 31,
   "id": "28150e22",
   "metadata": {},
   "outputs": [
    {
     "name": "stdout",
     "output_type": "stream",
     "text": [
      "Sorry, I don't see a file named people.csv here\n"
     ]
    }
   ],
   "source": [
    "try:\n",
    "    # Open file and its name.\n",
    "    thefile = open('people.csv')\n",
    "    # Print a couple blank lines then the first line from the file.\n",
    "    print('\\n\\n', thefile.readline())\n",
    "    # Close the file.\n",
    "    thefile.closed()\n",
    "    \n",
    "except FileNotFoundError:\n",
    "    print(\"Sorry, I don't see a file named people.csv here\")\n",
    "except Exception:\n",
    "    print(\"Sorry, something else went wrong\")"
   ]
  },
  {
   "cell_type": "code",
   "execution_count": 32,
   "id": "5a7c5948",
   "metadata": {},
   "outputs": [
    {
     "name": "stdout",
     "output_type": "stream",
     "text": [
      "Sorry, I don't see a file named people.csv here\n"
     ]
    }
   ],
   "source": [
    "try:\n",
    "    # Open file and show its name.\n",
    "    thefile = open('people.csv')\n",
    "    # Print a couple blank lines then the first line from the file.\n",
    "    print('\\n\\n', thefile.readline())\n",
    "    # Close the file.\n",
    "    thefile.closed()\n",
    "    \n",
    "except FileNotFoundError:\n",
    "    print(\"Sorry, I don't see a file named people.csv here\")\n",
    "except Exception:\n",
    "    print(\"Sorry, something else went wrong\")"
   ]
  },
  {
   "cell_type": "markdown",
   "id": "1e9cbdf8",
   "metadata": {},
   "source": [
    "For example, consider the following rewrite of the preceding code. The generic\n",
    "handler, except Exception now has an as e at the end, which means “whatever\n",
    "exception gets caught here, put the error message in a variable named e.” Then\n",
    "the next line uses print(e) to display whatever is in that e variable:"
   ]
  },
  {
   "cell_type": "code",
   "execution_count": 33,
   "id": "2e28f01e",
   "metadata": {},
   "outputs": [
    {
     "name": "stdout",
     "output_type": "stream",
     "text": [
      "Sorry, I don't see a file named people.csv here\n"
     ]
    }
   ],
   "source": [
    "try:\n",
    "    # Open file and shows its name.\n",
    "    thefile = open('people.csv')\n",
    "    # Print a couple of blank lines then the first line from the file.\n",
    "    print('\\n\\n', thefile.readline())\n",
    "    thefile.wigwam()\n",
    "    \n",
    "except FileNotFoundError:\n",
    "    print(\"Sorry, I don't see a file named people.csv here\")\n",
    "except Exception as e:\n",
    "    print(e)"
   ]
  },
  {
   "cell_type": "markdown",
   "id": "b1df6a25",
   "metadata": {},
   "source": [
    "# Adding an else to the Mix"
   ]
  },
  {
   "cell_type": "markdown",
   "id": "0c938906",
   "metadata": {},
   "source": [
    "A more elegant way to deal with the problem uses this syntax:"
   ]
  },
  {
   "cell_type": "raw",
   "id": "44a2093f",
   "metadata": {},
   "source": [
    "try:\n",
    "    The thing that might cause an exception\n",
    "catch (a common exception):\n",
    "    Explain the problem\n",
    "catch Exception as e:\n",
    "    Show the generic error message\n",
    "else:\n",
    "    Continue on here only if no exceptions raised\n",
    "So the logic with this flow is \n",
    "Try to open the file...\n",
    "    If the file isn't there, tell them and stop.\n",
    "    If the file isn't there, show error and stop\n",
    "Otherwise...\n",
    "    Go on with the rest of the code."
   ]
  },
  {
   "cell_type": "markdown",
   "id": "af819e50",
   "metadata": {},
   "source": [
    "Here is all the code with com-\n",
    "ments explaining what’s going on:"
   ]
  },
  {
   "cell_type": "markdown",
   "id": "2e05d2a2",
   "metadata": {},
   "source": [
    "# Code with try, exception handlers, and an else for when there are no exceptions"
   ]
  },
  {
   "cell_type": "code",
   "execution_count": 34,
   "id": "82c4760a",
   "metadata": {},
   "outputs": [
    {
     "name": "stdout",
     "output_type": "stream",
     "text": [
      "Sorry, I don't see a file named people.csv here\n"
     ]
    }
   ],
   "source": [
    "try:\n",
    "    # Open the file name people.csv\n",
    "    thefile = open('people.csv')\n",
    "# Watch for common error and stop program if it happens.\n",
    "except FileNotFoundError:\n",
    "    print(\"Sorry, I don't see a file named people.csv here\")\n",
    "# Catch any unexpected error and stop program if one happens.\n",
    "except Exception as err:\n",
    "    print(err)\n",
    "# Otherwise, if nothing bad has happened by now, just keep going.\n",
    "else:\n",
    "    # File must be open by now if we got here.\n",
    "    print('\\n') # Print a blank line.\n",
    "    # Print each line from the file.\n",
    "    for one_line in thefile:\n",
    "        print(one_line)\n",
    "    thefile.close()\n",
    "    print(\"Success!\")"
   ]
  },
  {
   "cell_type": "markdown",
   "id": "308d829e",
   "metadata": {},
   "source": [
    "If you look at the complete syntax for Python exception handling, you’ll see there\n",
    "is one more option at the end, like this:"
   ]
  },
  {
   "cell_type": "raw",
   "id": "241dd881",
   "metadata": {},
   "source": [
    "try:\n",
    "    try to do this\n",
    "except:\n",
    "    if x happens, stop here\n",
    "except Exception as e:\n",
    "    if something else bad happens, stop here\n",
    "else:\n",
    "    if no exceptions, continue on normally here\n",
    "finally:\n",
    "    do this code no matter what happed above"
   ]
  },
  {
   "cell_type": "markdown",
   "id": "1b8f9b91",
   "metadata": {},
   "source": [
    "# To illustrate, here is some code that expects to find an external resource named people.csv to be available to the code."
   ]
  },
  {
   "cell_type": "code",
   "execution_count": 35,
   "id": "c6217ca4",
   "metadata": {},
   "outputs": [
    {
     "name": "stdout",
     "output_type": "stream",
     "text": [
      "Do this first\n",
      "Cannot find file named people.csv\n",
      "This is in the finally block\n",
      "This is outside the try...except...else...finally\n"
     ]
    }
   ],
   "source": [
    "print('Do this first')\n",
    "try:\n",
    "    open('people.csv')\n",
    "except FileNotFoundError:\n",
    "    print('Cannot find file named people.csv')\n",
    "except Exception as e:\n",
    "    print(e)\n",
    "else:\n",
    "    print('Show this if no exception.')\n",
    "finally:\n",
    "    print('This is in the finally block')\n",
    "print(\"This is outside the try...except...else...finally\")\n"
   ]
  },
  {
   "cell_type": "markdown",
   "id": "7afbcf7c",
   "metadata": {},
   "source": [
    "# Raising Your Own Errors"
   ]
  },
  {
   "cell_type": "markdown",
   "id": "2a113725",
   "metadata": {},
   "source": [
    "The general syntax for raising your own error is:"
   ]
  },
  {
   "cell_type": "raw",
   "id": "b30bb408",
   "metadata": {},
   "source": [
    "raise error"
   ]
  },
  {
   "cell_type": "code",
   "execution_count": 1,
   "id": "5597fa53",
   "metadata": {},
   "outputs": [
    {
     "name": "stdout",
     "output_type": "stream",
     "text": [
      "\n",
      "There is no people.csv file here\n"
     ]
    }
   ],
   "source": [
    "try:\n",
    "    # Open the file (no error check for this example)\n",
    "    thefile = open('people.csv')\n",
    "    # Count the number of lines in the file.\n",
    "    line_count = len(thefile.readlines())\n",
    "    # If there few than two lines, raise exception.\n",
    "    if line_count < 2:\n",
    "        raise Exception\n",
    "    # Handles missing file error.\n",
    "except FileNotFoundError:\n",
    "    print('\\nThere is no people.csv file here')"
   ]
  },
  {
   "cell_type": "raw",
   "id": "b7206b37",
   "metadata": {},
   "source": [
    "# Handles all other exceptions\n",
    "except Exception as e:\n",
    "    # Show the error.\n",
    "    print('\\n\\nFailed: The error was ' + str(e))\n",
    "    # Close the file.\n",
    "    thefile.close()"
   ]
  },
  {
   "cell_type": "markdown",
   "id": "15a87d54",
   "metadata": {},
   "source": [
    "# Custom EmptyFileError added for exception handling"
   ]
  },
  {
   "cell_type": "code",
   "execution_count": 3,
   "id": "3679e2c7",
   "metadata": {},
   "outputs": [
    {
     "name": "stdout",
     "output_type": "stream",
     "text": [
      "\n",
      "Your people.csv file here\n"
     ]
    }
   ],
   "source": [
    "# Base class for defining your own user-defined exceptions.\n",
    "class Error(Exception):\n",
    "    \"\"\" Base class for other Exception \"\"\"\n",
    "    pass\n",
    "\n",
    "# Now defined your exception as a subclass of error.\n",
    "class EmptyFileError(Error):\n",
    "    pass\n",
    "\n",
    "try:\n",
    "    # Open the file (no error check for this example).\n",
    "    thefile = open('people.csv')\n",
    "    # If there is fewer than 2 lines, raise exception.\n",
    "    if line_count < 2:\n",
    "        raise EmptyFileError\n",
    "        \n",
    "# Handles missing file error.\n",
    "except FileNotFoundError:\n",
    "    print(\"\\nYour people.csv file here\")\n",
    "    \n",
    "# Handles my custom error for too few rows.\n",
    "except EmptyFileError:\n",
    "    print(\"\\nYour people.csv file doesnt have enough stuff.\")\n",
    "    \n",
    "# Handles all other exceptions\n",
    "except Exception as e:\n",
    "    # Show the error.\n",
    "    print('\\n\\nFailed: The error was ' + str(e))\n",
    "    # close the file.\n",
    "    thefile.close()\n",
    "else:\n",
    "    # This code runs only if no exceptions above.\n",
    "    print() # Print a blank line.\n",
    "    \n",
    "    # File must be open by now if we got here, show content.\n",
    "    for one_line in thefile:\n",
    "        print(one_line)\n",
    "    thefile.close()\n",
    "    print(\"Success!\")"
   ]
  },
  {
   "cell_type": "markdown",
   "id": "817c2602",
   "metadata": {},
   "source": [
    "# Book 3 \n",
    "# Working with Python Libraries"
   ]
  },
  {
   "cell_type": "markdown",
   "id": "55c1f4ad",
   "metadata": {},
   "source": [
    "# In this chapter we will use VS Code................................."
   ]
  },
  {
   "cell_type": "markdown",
   "id": "4b485e1b",
   "metadata": {},
   "source": [
    "# Openning and Closing Files"
   ]
  },
  {
   "cell_type": "markdown",
   "id": "24f57ec2",
   "metadata": {},
   "source": [
    "To open a file from within a Python app, use the syntax:"
   ]
  },
  {
   "cell_type": "raw",
   "id": "96e7848c",
   "metadata": {},
   "source": [
    "open(filename.ext[,mode])"
   ]
  },
  {
   "cell_type": "markdown",
   "id": "afcedc7e",
   "metadata": {},
   "source": [
    "There are basically two ways to use the open method. With one syntax you assign\n",
    "a variable name to the file, and use this variable name in later code to refer to the\n",
    "file. That syntax is:"
   ]
  },
  {
   "cell_type": "raw",
   "id": "fa9df0d6",
   "metadata": {},
   "source": [
    "var = open(filename.ext[,mode])"
   ]
  },
  {
   "cell_type": "markdown",
   "id": "2a2e6811",
   "metadata": {},
   "source": [
    "For now, we simply copy everything that’s in the file to\n",
    "a variable named filecontents in Python, and then we display this content using\n",
    "a simple print() function. So to open quotes.txt, read in all its content, and\n",
    "display that content on the screen, use this code:"
   ]
  },
  {
   "cell_type": "raw",
   "id": "0826d52e",
   "metadata": {},
   "source": [
    "f = open('quotes.txt')\n",
    "filecontents = f.read()\n",
    "print(filecontents)"
   ]
  },
  {
   "cell_type": "markdown",
   "id": "0bbfa171",
   "metadata": {},
   "source": [
    "With this method, the file remains open until you specifically close it using the file\n",
    "variable name and the .close() method, like this:"
   ]
  },
  {
   "cell_type": "raw",
   "id": "ce99d81b",
   "metadata": {},
   "source": [
    "f.close()"
   ]
  },
  {
   "cell_type": "markdown",
   "id": "9cfe2a1f",
   "metadata": {},
   "source": [
    "The very last thing on the line is a colon which marks the beginning of the\n",
    "with block. All indented code below that is assumed to be relevant to the context\n",
    "of the open file (like code indented inside a loop). At the end of this you don’t need\n",
    "to specifically close the file; Python does it automatically:"
   ]
  },
  {
   "cell_type": "raw",
   "id": "efe7b162",
   "metadata": {},
   "source": [
    "#------------------------Contentual syntax\n",
    "with open('quotes.txt') as f:\n",
    "    filecontents = f.read()\n",
    "    print(filecontents)\n",
    "    \n",
    "# The unindented line below is outside the with ... block;\n",
    "print('File is closed: ', f.closed)"
   ]
  },
  {
   "cell_type": "markdown",
   "id": "ffefc5bc",
   "metadata": {},
   "source": [
    "The following code shows a single app that opens quotes.txt, reads and displays\n",
    "its content, and then closes the file. With the first method you have to specifically\n",
    "use .close() to close the file. With the second, the file closes automatically, so no\n",
    ".close() is required:"
   ]
  },
  {
   "cell_type": "raw",
   "id": "d174d9a3",
   "metadata": {},
   "source": [
    "# - Basic syntax to open, read and display file contents.\n",
    "f = open('quotes.txt')\n",
    "filecontents = f.read()\n",
    "print(filecontents)\n",
    "# Return True if the is closed, otherwise alse.\n",
    "print('File is closed: ', f.closed)\n",
    "\n",
    "# Closes the file.\n",
    "f.close() # Close the file.\n",
    "print() # Print a blank line.\n",
    "\n",
    "#------------------Contentual syntax\n",
    "with open('quotes.txt') as f:\n",
    "    filecontents = f.read()\n",
    "    print(filecontents)\n",
    "    \n",
    "# The unindented line below is outside the with... block;\n",
    "print('File is closed: ', f.closed)"
   ]
  },
  {
   "cell_type": "markdown",
   "id": "0663a49f",
   "metadata": {},
   "source": [
    "The previous example works fine because quotes.txt is a really simple text file\n",
    "that contains only ASCII characters — the kinds of letters, numbers, and punctua-\n",
    "tion marks that you can type from a standard keyboard for the English language."
   ]
  },
  {
   "cell_type": "raw",
   "id": "31174f83",
   "metadata": {},
   "source": [
    "with open('happy_pickle.jpg') as f:\n",
    "    filecontents = f.read()\n",
    "    print(filecontents)"
   ]
  },
  {
   "cell_type": "markdown",
   "id": "5b9c569f",
   "metadata": {},
   "source": [
    "Attempting to run this code results in the following error:"
   ]
  },
  {
   "cell_type": "raw",
   "id": "281f77cd",
   "metadata": {},
   "source": [
    "UnicodeDecodeError: 'charmap' codec can't decode byte 0x90 in position 40:\n",
    "character maps to <undefined>"
   ]
  },
  {
   "cell_type": "markdown",
   "id": "faf766f9",
   "metadata": {},
   "source": [
    "This isn’t the most helpful message in the world. Suppose you try to open names.\n",
    "txt, which (one would assume) is a text file like quotes.txt, using this code:"
   ]
  },
  {
   "cell_type": "raw",
   "id": "e1e91119",
   "metadata": {},
   "source": [
    "with open('names.txt') as f:\n",
    "    filecontents = f.read()\n",
    "    print(filecontents)"
   ]
  },
  {
   "cell_type": "markdown",
   "id": "df790264",
   "metadata": {},
   "source": [
    "You run this code, and again you get a strange error message, like this:"
   ]
  },
  {
   "cell_type": "raw",
   "id": "703d8931",
   "metadata": {},
   "source": [
    "UnicodeDecodeError: 'charmap' codec can't decode byte 0x81 in position 45:\n",
    "character maps to <undefined>"
   ]
  },
  {
   "cell_type": "markdown",
   "id": "7a2b78a9",
   "metadata": {},
   "source": [
    "So what the heck is going on here?\n",
    "The first problem is caused by the fact that the file is a .jpg, a graphic image,\n",
    "which means it’s a binary file, not a text file. So to open this one, you need a b in\n",
    "the mode. Or use rb, which means read binary, like this:"
   ]
  },
  {
   "cell_type": "raw",
   "id": "1376dc6c",
   "metadata": {},
   "source": [
    "with open('happy_pickle.jpg', 'rb') as f:\n",
    "    filecontents = f.read()\n",
    "    print(filecontents)"
   ]
  },
  {
   "cell_type": "markdown",
   "id": "0a675bb2",
   "metadata": {},
   "source": [
    "Running this code doesn’t generate an error. But what it does show doesn’t look\n",
    "anything like the actual picture. The output from this code is a lot of stuff that\n",
    "looks something like this:"
   ]
  },
  {
   "cell_type": "raw",
   "id": "f7ca91d0",
   "metadata": {},
   "source": [
    "\\x07~}\\xba\\xe7\\xd2\\x8c\\x00\\x0e|\\xbd\\xa8\\x12l+\\xca\\xf7\\xae\\xa5\\x9e^\\x8d\\x89\n",
    "\\x7f\\xde\\xb4f>\\x98\\xc7\\xfc\\xcf46d\\xcf\\x1c\\xd0\\xa6\\x98m$\\xb6(U\\x8c\\xa6\\x83\n",
    "\\x19\\x17\\xa6>\\xe6\\x94\\x96|g\\'4\\xab\\xdd\\xb8\\xc8=\\xa9[\\x8b\\xcc`\\x0e8\\xa3\n",
    "\\xb0;\\xc6\\xe6\\xbb(I.\\xa3\\xda\\x91\\xb8\\xbd\\xf2\\x97\\xdf\\xc1\\xf4\\xefI\\xcdy\n",
    "\\x97d\\x1e`;\\xf64\\x94\\xd7\\x03"
   ]
  },
  {
   "cell_type": "code",
   "execution_count": null,
   "id": "30c21bfa",
   "metadata": {},
   "outputs": [],
   "source": []
  },
  {
   "cell_type": "code",
   "execution_count": null,
   "id": "367e78da",
   "metadata": {},
   "outputs": [],
   "source": []
  },
  {
   "cell_type": "code",
   "execution_count": null,
   "id": "25ae4a2d",
   "metadata": {},
   "outputs": [],
   "source": []
  },
  {
   "cell_type": "code",
   "execution_count": null,
   "id": "7e785261",
   "metadata": {},
   "outputs": [],
   "source": []
  },
  {
   "cell_type": "code",
   "execution_count": null,
   "id": "1bfb7b45",
   "metadata": {},
   "outputs": [],
   "source": []
  },
  {
   "cell_type": "code",
   "execution_count": null,
   "id": "2677cde0",
   "metadata": {},
   "outputs": [],
   "source": []
  },
  {
   "cell_type": "code",
   "execution_count": null,
   "id": "495de859",
   "metadata": {},
   "outputs": [],
   "source": []
  },
  {
   "cell_type": "code",
   "execution_count": null,
   "id": "9f10cecb",
   "metadata": {},
   "outputs": [],
   "source": []
  },
  {
   "cell_type": "code",
   "execution_count": null,
   "id": "25f986d4",
   "metadata": {},
   "outputs": [],
   "source": []
  },
  {
   "cell_type": "code",
   "execution_count": null,
   "id": "20814702",
   "metadata": {},
   "outputs": [],
   "source": []
  },
  {
   "cell_type": "code",
   "execution_count": null,
   "id": "6b7bb191",
   "metadata": {},
   "outputs": [],
   "source": []
  },
  {
   "cell_type": "code",
   "execution_count": null,
   "id": "eb417a0f",
   "metadata": {},
   "outputs": [],
   "source": []
  }
 ],
 "metadata": {
  "kernelspec": {
   "display_name": "Python 3 (ipykernel)",
   "language": "python",
   "name": "python3"
  },
  "language_info": {
   "codemirror_mode": {
    "name": "ipython",
    "version": 3
   },
   "file_extension": ".py",
   "mimetype": "text/x-python",
   "name": "python",
   "nbconvert_exporter": "python",
   "pygments_lexer": "ipython3",
   "version": "3.10.6"
  }
 },
 "nbformat": 4,
 "nbformat_minor": 5
}
